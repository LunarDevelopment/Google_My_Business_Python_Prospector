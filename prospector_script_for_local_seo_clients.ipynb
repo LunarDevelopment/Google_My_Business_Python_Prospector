{
 "cells": [
  {
   "cell_type": "code",
   "execution_count": 1,
   "metadata": {},
   "outputs": [],
   "source": [
    "#Module Dependencies\n",
    "import time\n",
    "import urllib\n",
    "import re\n",
    "import requests\n",
    "import pandas as pd\n",
    "import numpy as np\n",
    "\n",
    "#HTTP REST Modules\n",
    "from http.client import HTTPSConnection\n",
    "from base64 import b64encode\n",
    "from json import loads\n",
    "from json import dumps\n",
    "\n",
    "# Urlparse for URL Parsing ;) \n",
    "from urllib.parse import urlparse\n",
    "\n",
    "import json\n",
    "from collections import defaultdict\n",
    "import pickle\n",
    "\n",
    "# Data visualisation packages\n",
    "import seaborn as sns\n",
    "from matplotlib import pyplot as plt"
   ]
  },
  {
   "cell_type": "markdown",
   "metadata": {},
   "source": [
    "# Obtaining All Of The GMB Categories"
   ]
  },
  {
   "cell_type": "markdown",
   "metadata": {},
   "source": [
    "<img src='gmb_categories.png' /> "
   ]
  },
  {
   "cell_type": "markdown",
   "metadata": {},
   "source": [
    "So the first stage of our scraping operation involves collecting ~2180 Google My Business categories and transforming them into a list. Thankfully, we can find a pre-made <a href='https://www.solidstratagems.com/google-my-business-categories/'>list of the GMB categories from this article.</a> \n",
    "\n",
    "We will then use the GMB categories as <strong> keywords, then take the UK national search volume for these keywords as a proxy for demand </strong> on a local level. Despite this not being completely accurate it will allow us to focus our search on profitable niches, here's the process:\n",
    "\n",
    "- Extract all of the GMB categories and enter the keywords into an Ahrefs keyword search.\n",
    "- Sort the list by monthly search volume and select the top 300 keywords for closer inspection."
   ]
  },
  {
   "cell_type": "markdown",
   "metadata": {},
   "source": [
    "------------------------------------------------------------------------------------------------------------------------"
   ]
  },
  {
   "cell_type": "markdown",
   "metadata": {},
   "source": [
    "# Data Cleaning For Profitable Niche + Location Keywords"
   ]
  },
  {
   "cell_type": "markdown",
   "metadata": {},
   "source": [
    "<img src='300_search_volume_keywords_cleaned.png' /> "
   ]
  },
  {
   "cell_type": "markdown",
   "metadata": {},
   "source": [
    "After extracting the lists, then I manually reviewed every keyword and removed any non-profitable GMB categories or companies that would not take kindly to a pitch. These included GMB's such as park's, churches or local monuments. \n",
    "\n",
    "- Businesses with a low relevance or low CPC were removed.\n",
    "\n",
    "Now we're simply left with a <strong> list of niche keywords </strong> that we can use to <strong> find prospective local seo clients with Python and automation. </strong>"
   ]
  },
  {
   "cell_type": "markdown",
   "metadata": {},
   "source": [
    "- Businesses with a low relevance and small avg.CPC were removed."
   ]
  },
  {
   "cell_type": "code",
   "execution_count": null,
   "metadata": {},
   "outputs": [],
   "source": [
    "df = pd.read_csv('keywords.csv')\n",
    "df.head(15)"
   ]
  },
  {
   "cell_type": "markdown",
   "metadata": {},
   "source": [
    "<img src='keyword_list.png' />"
   ]
  },
  {
   "cell_type": "markdown",
   "metadata": {},
   "source": [
    "We can extract the list of queries that will be utilised to query a specific geo-location of Google via a cheap SERP API."
   ]
  },
  {
   "cell_type": "code",
   "execution_count": 7,
   "metadata": {},
   "outputs": [],
   "source": [
    "query_list = list(df['Keyword'])"
   ]
  },
  {
   "cell_type": "code",
   "execution_count": 8,
   "metadata": {},
   "outputs": [
    {
     "data": {
      "text/plain": [
       "201"
      ]
     },
     "execution_count": 8,
     "metadata": {},
     "output_type": "execute_result"
    }
   ],
   "source": [
    "len(query_list)"
   ]
  },
  {
   "cell_type": "code",
   "execution_count": 9,
   "metadata": {},
   "outputs": [
    {
     "data": {
      "text/plain": [
       "['bank',\n",
       " 'dentist',\n",
       " 'bar',\n",
       " 'passport office',\n",
       " 'store',\n",
       " 'cafe',\n",
       " 'college',\n",
       " 'karaoke',\n",
       " 'spa',\n",
       " 'university',\n",
       " 'hospital',\n",
       " 'casino',\n",
       " 'osteopath',\n",
       " 'council',\n",
       " 'podiatrist']"
      ]
     },
     "execution_count": 9,
     "metadata": {},
     "output_type": "execute_result"
    }
   ],
   "source": [
    "query_list[15:30]"
   ]
  },
  {
   "cell_type": "markdown",
   "metadata": {},
   "source": [
    "------------------------------------------------------------------------------------------------------------------------------------"
   ]
  },
  {
   "cell_type": "markdown",
   "metadata": {},
   "source": [
    "# Creating A REST Client For DataForSEO.com"
   ]
  },
  {
   "cell_type": "markdown",
   "metadata": {},
   "source": [
    "The code below just allows us to create a RestClient for accessing dataforseo's API. Its actually a very simple process and they provide extensive documentation on their website."
   ]
  },
  {
   "cell_type": "code",
   "execution_count": null,
   "metadata": {},
   "outputs": [],
   "source": [
    "class RestClient:\n",
    "    domain = \"api.dataforseo.com\"\n",
    "\n",
    "    def __init__(self, username, password):\n",
    "        self.username = username\n",
    "        self.password = password\n",
    "\n",
    "    def request(self, path, method, data=None):\n",
    "        connection = HTTPSConnection(self.domain)\n",
    "        try:\n",
    "            base64_bytes = b64encode(\n",
    "                (\"%s:%s\" % (self.username, self.password)).encode(\"ascii\")\n",
    "                ).decode(\"ascii\")\n",
    "            headers = {'Authorization' : 'Basic %s' %  base64_bytes}\n",
    "            connection.request(method, path, headers=headers, body=data)\n",
    "            response = connection.getresponse()\n",
    "            return loads(response.read().decode())\n",
    "        finally:\n",
    "            connection.close()\n",
    "\n",
    "    def get(self, path):\n",
    "        return self.request(path, 'GET')\n",
    "\n",
    "    def post(self, path, data):\n",
    "        if isinstance(data, str):\n",
    "            data_str = data\n",
    "        else:\n",
    "            data_str = dumps(data)\n",
    "        return self.request(path, 'POST', data_str)"
   ]
  },
  {
   "cell_type": "code",
   "execution_count": null,
   "metadata": {},
   "outputs": [],
   "source": [
    "username = input()\n",
    "password = input()"
   ]
  },
  {
   "cell_type": "code",
   "execution_count": null,
   "metadata": {},
   "outputs": [],
   "source": [
    "client = RestClient(username, password)"
   ]
  },
  {
   "cell_type": "markdown",
   "metadata": {},
   "source": [
    "## Finding The Right Geo-Code For Our Local Business Prospecting"
   ]
  },
  {
   "cell_type": "markdown",
   "metadata": {},
   "source": [
    "Now we can need to query the SERP API with each of the niche keywords, luckily I will be utilising <a href='https://dataforseo.com/' > DataForSEO.com </a>. But firstly as we're looking to prospect for local SEO businesses <strong> we need to apply a geo-specific Google API search. </strong> DataforSEO has native support for this and will allow us to pass the right geo-parameters to make our Google search specific to Reading."
   ]
  },
  {
   "cell_type": "code",
   "execution_count": 190,
   "metadata": {},
   "outputs": [],
   "source": [
    "response = client.get(\"/v2/cmn_locations\")\n",
    "if response[\"status\"] == \"error\":\n",
    "    print(\"error. Code: %d Message: %s\" % (response[\"error\"][\"code\"], response[\"error\"][\"message\"]))\n",
    "else:\n",
    "    locations = response[\"results\"]"
   ]
  },
  {
   "cell_type": "code",
   "execution_count": 193,
   "metadata": {},
   "outputs": [],
   "source": [
    "pd.DataFrame(locations).to_csv('locations.csv')"
   ]
  },
  {
   "cell_type": "code",
   "execution_count": 6,
   "metadata": {},
   "outputs": [],
   "source": [
    "location_data = pd.read_csv(\"locations.csv\")"
   ]
  },
  {
   "cell_type": "code",
   "execution_count": 7,
   "metadata": {},
   "outputs": [
    {
     "data": {
      "text/html": [
       "<div>\n",
       "<style scoped>\n",
       "    .dataframe tbody tr th:only-of-type {\n",
       "        vertical-align: middle;\n",
       "    }\n",
       "\n",
       "    .dataframe tbody tr th {\n",
       "        vertical-align: top;\n",
       "    }\n",
       "\n",
       "    .dataframe thead th {\n",
       "        text-align: right;\n",
       "    }\n",
       "</style>\n",
       "<table border=\"1\" class=\"dataframe\">\n",
       "  <thead>\n",
       "    <tr style=\"text-align: right;\">\n",
       "      <th></th>\n",
       "      <th>Unnamed: 0</th>\n",
       "      <th>loc_id</th>\n",
       "      <th>loc_id_parent</th>\n",
       "      <th>loc_name</th>\n",
       "      <th>loc_name_canonical</th>\n",
       "      <th>loc_type</th>\n",
       "      <th>loc_country_iso_code</th>\n",
       "      <th>dma_region</th>\n",
       "      <th>kwrd_finder</th>\n",
       "      <th>kwrd_finder_lang</th>\n",
       "    </tr>\n",
       "  </thead>\n",
       "  <tbody>\n",
       "    <tr>\n",
       "      <td>0</td>\n",
       "      <td>0</td>\n",
       "      <td>2020</td>\n",
       "      <td>NaN</td>\n",
       "      <td>Andorra</td>\n",
       "      <td>Andorra</td>\n",
       "      <td>Country</td>\n",
       "      <td>AD</td>\n",
       "      <td>False</td>\n",
       "      <td>False</td>\n",
       "      <td>NaN</td>\n",
       "    </tr>\n",
       "    <tr>\n",
       "      <td>1</td>\n",
       "      <td>1</td>\n",
       "      <td>9075384</td>\n",
       "      <td>2020.0</td>\n",
       "      <td>Andorra la Vella</td>\n",
       "      <td>Andorra la Vella,Andorra</td>\n",
       "      <td>Region</td>\n",
       "      <td>AD</td>\n",
       "      <td>False</td>\n",
       "      <td>False</td>\n",
       "      <td>NaN</td>\n",
       "    </tr>\n",
       "    <tr>\n",
       "      <td>2</td>\n",
       "      <td>2</td>\n",
       "      <td>9075379</td>\n",
       "      <td>2020.0</td>\n",
       "      <td>Canillo</td>\n",
       "      <td>Canillo,Andorra</td>\n",
       "      <td>Region</td>\n",
       "      <td>AD</td>\n",
       "      <td>False</td>\n",
       "      <td>False</td>\n",
       "      <td>NaN</td>\n",
       "    </tr>\n",
       "    <tr>\n",
       "      <td>3</td>\n",
       "      <td>3</td>\n",
       "      <td>9075380</td>\n",
       "      <td>2020.0</td>\n",
       "      <td>Encamp</td>\n",
       "      <td>Encamp,Andorra</td>\n",
       "      <td>Region</td>\n",
       "      <td>AD</td>\n",
       "      <td>False</td>\n",
       "      <td>False</td>\n",
       "      <td>NaN</td>\n",
       "    </tr>\n",
       "    <tr>\n",
       "      <td>4</td>\n",
       "      <td>4</td>\n",
       "      <td>9075383</td>\n",
       "      <td>2020.0</td>\n",
       "      <td>Escaldes-Engordany</td>\n",
       "      <td>Escaldes-Engordany,Andorra</td>\n",
       "      <td>Region</td>\n",
       "      <td>AD</td>\n",
       "      <td>False</td>\n",
       "      <td>False</td>\n",
       "      <td>NaN</td>\n",
       "    </tr>\n",
       "  </tbody>\n",
       "</table>\n",
       "</div>"
      ],
      "text/plain": [
       "   Unnamed: 0   loc_id  loc_id_parent            loc_name  \\\n",
       "0           0     2020            NaN             Andorra   \n",
       "1           1  9075384         2020.0    Andorra la Vella   \n",
       "2           2  9075379         2020.0             Canillo   \n",
       "3           3  9075380         2020.0              Encamp   \n",
       "4           4  9075383         2020.0  Escaldes-Engordany   \n",
       "\n",
       "           loc_name_canonical loc_type loc_country_iso_code  dma_region  \\\n",
       "0                     Andorra  Country                   AD       False   \n",
       "1    Andorra la Vella,Andorra   Region                   AD       False   \n",
       "2             Canillo,Andorra   Region                   AD       False   \n",
       "3              Encamp,Andorra   Region                   AD       False   \n",
       "4  Escaldes-Engordany,Andorra   Region                   AD       False   \n",
       "\n",
       "   kwrd_finder kwrd_finder_lang  \n",
       "0        False              NaN  \n",
       "1        False              NaN  \n",
       "2        False              NaN  \n",
       "3        False              NaN  \n",
       "4        False              NaN  "
      ]
     },
     "execution_count": 7,
     "metadata": {},
     "output_type": "execute_result"
    }
   ],
   "source": [
    "location_data.head(5)"
   ]
  },
  {
   "cell_type": "markdown",
   "metadata": {},
   "source": [
    "As we will only be prospecting the Reading location, we can filter out list of 90,000 geo-codes to specifically target this geo-area."
   ]
  },
  {
   "cell_type": "code",
   "execution_count": 12,
   "metadata": {},
   "outputs": [],
   "source": [
    "reading_location = location_data[(location_data['loc_name_canonical'].str.contains(\"United Kingdom\")) \n",
    "                                 & location_data['loc_name'].str.contains(\"RG4\") ]"
   ]
  },
  {
   "cell_type": "code",
   "execution_count": 13,
   "metadata": {},
   "outputs": [
    {
     "data": {
      "text/html": [
       "<div>\n",
       "<style scoped>\n",
       "    .dataframe tbody tr th:only-of-type {\n",
       "        vertical-align: middle;\n",
       "    }\n",
       "\n",
       "    .dataframe tbody tr th {\n",
       "        vertical-align: top;\n",
       "    }\n",
       "\n",
       "    .dataframe thead th {\n",
       "        text-align: right;\n",
       "    }\n",
       "</style>\n",
       "<table border=\"1\" class=\"dataframe\">\n",
       "  <thead>\n",
       "    <tr style=\"text-align: right;\">\n",
       "      <th></th>\n",
       "      <th>Unnamed: 0</th>\n",
       "      <th>loc_id</th>\n",
       "      <th>loc_id_parent</th>\n",
       "      <th>loc_name</th>\n",
       "      <th>loc_name_canonical</th>\n",
       "      <th>loc_type</th>\n",
       "      <th>loc_country_iso_code</th>\n",
       "      <th>dma_region</th>\n",
       "      <th>kwrd_finder</th>\n",
       "      <th>kwrd_finder_lang</th>\n",
       "    </tr>\n",
       "  </thead>\n",
       "  <tbody>\n",
       "    <tr>\n",
       "      <td>23434</td>\n",
       "      <td>23434</td>\n",
       "      <td>9046105</td>\n",
       "      <td>20339.0</td>\n",
       "      <td>RG40</td>\n",
       "      <td>RG40,England,United Kingdom</td>\n",
       "      <td>Postal Code</td>\n",
       "      <td>GB</td>\n",
       "      <td>False</td>\n",
       "      <td>False</td>\n",
       "      <td>NaN</td>\n",
       "    </tr>\n",
       "    <tr>\n",
       "      <td>23435</td>\n",
       "      <td>23435</td>\n",
       "      <td>9046106</td>\n",
       "      <td>20339.0</td>\n",
       "      <td>RG41</td>\n",
       "      <td>RG41,England,United Kingdom</td>\n",
       "      <td>Postal Code</td>\n",
       "      <td>GB</td>\n",
       "      <td>False</td>\n",
       "      <td>False</td>\n",
       "      <td>NaN</td>\n",
       "    </tr>\n",
       "    <tr>\n",
       "      <td>23436</td>\n",
       "      <td>23436</td>\n",
       "      <td>9046101</td>\n",
       "      <td>20339.0</td>\n",
       "      <td>RG42</td>\n",
       "      <td>RG42,England,United Kingdom</td>\n",
       "      <td>Postal Code</td>\n",
       "      <td>GB</td>\n",
       "      <td>False</td>\n",
       "      <td>False</td>\n",
       "      <td>NaN</td>\n",
       "    </tr>\n",
       "    <tr>\n",
       "      <td>23437</td>\n",
       "      <td>23437</td>\n",
       "      <td>9046104</td>\n",
       "      <td>20339.0</td>\n",
       "      <td>RG45</td>\n",
       "      <td>RG45,England,United Kingdom</td>\n",
       "      <td>Postal Code</td>\n",
       "      <td>GB</td>\n",
       "      <td>False</td>\n",
       "      <td>False</td>\n",
       "      <td>NaN</td>\n",
       "    </tr>\n",
       "    <tr>\n",
       "      <td>23438</td>\n",
       "      <td>23438</td>\n",
       "      <td>9046112</td>\n",
       "      <td>20339.0</td>\n",
       "      <td>RG4</td>\n",
       "      <td>RG4,England,United Kingdom</td>\n",
       "      <td>Postal Code</td>\n",
       "      <td>GB</td>\n",
       "      <td>False</td>\n",
       "      <td>False</td>\n",
       "      <td>NaN</td>\n",
       "    </tr>\n",
       "  </tbody>\n",
       "</table>\n",
       "</div>"
      ],
      "text/plain": [
       "       Unnamed: 0   loc_id  loc_id_parent loc_name  \\\n",
       "23434       23434  9046105        20339.0     RG40   \n",
       "23435       23435  9046106        20339.0     RG41   \n",
       "23436       23436  9046101        20339.0     RG42   \n",
       "23437       23437  9046104        20339.0     RG45   \n",
       "23438       23438  9046112        20339.0      RG4   \n",
       "\n",
       "                loc_name_canonical     loc_type loc_country_iso_code  \\\n",
       "23434  RG40,England,United Kingdom  Postal Code                   GB   \n",
       "23435  RG41,England,United Kingdom  Postal Code                   GB   \n",
       "23436  RG42,England,United Kingdom  Postal Code                   GB   \n",
       "23437  RG45,England,United Kingdom  Postal Code                   GB   \n",
       "23438   RG4,England,United Kingdom  Postal Code                   GB   \n",
       "\n",
       "       dma_region  kwrd_finder kwrd_finder_lang  \n",
       "23434       False        False              NaN  \n",
       "23435       False        False              NaN  \n",
       "23436       False        False              NaN  \n",
       "23437       False        False              NaN  \n",
       "23438       False        False              NaN  "
      ]
     },
     "execution_count": 13,
     "metadata": {},
     "output_type": "execute_result"
    }
   ],
   "source": [
    "reading_location"
   ]
  },
  {
   "cell_type": "markdown",
   "metadata": {},
   "source": [
    "------------------------------------------------------------------------------------------------------------------------"
   ]
  },
  {
   "cell_type": "markdown",
   "metadata": {},
   "source": [
    "The code below just allows us to create a RestClient for accessing dataforseo's API. Its actually a very simple process and they provide extensive documentation on their website."
   ]
  },
  {
   "cell_type": "code",
   "execution_count": 186,
   "metadata": {},
   "outputs": [],
   "source": []
  },
  {
   "cell_type": "code",
   "execution_count": 8,
   "metadata": {},
   "outputs": [
    {
     "name": "stdout",
     "output_type": "stream",
     "text": [
      "test\n",
      "password\n"
     ]
    }
   ],
   "source": []
  },
  {
   "cell_type": "code",
   "execution_count": 189,
   "metadata": {},
   "outputs": [],
   "source": []
  },
  {
   "cell_type": "markdown",
   "metadata": {},
   "source": [
    "# 1 Query To Test The API"
   ]
  },
  {
   "cell_type": "markdown",
   "metadata": {},
   "source": [
    "Before making a large number of requests and spending lots of credits, I decided to test the API with just one keyword \"party wigs\"."
   ]
  },
  {
   "cell_type": "code",
   "execution_count": 36,
   "metadata": {},
   "outputs": [],
   "source": [
    "post_data = dict()\n",
    "post_data[30000000] = dict(\n",
    "    priority=1,\n",
    "    se_name=\"google.co.uk\",\n",
    "    se_language=\"English\",\n",
    "    loc_name_canonical=\"London,England,United Kingdom\",\n",
    "    key=\"party wigs\")"
   ]
  },
  {
   "cell_type": "code",
   "execution_count": 37,
   "metadata": {},
   "outputs": [
    {
     "data": {
      "text/plain": [
       "{30000000: {'priority': 1,\n",
       "  'se_name': 'google.co.uk',\n",
       "  'se_language': 'English',\n",
       "  'loc_name_canonical': 'London,England,United Kingdom',\n",
       "  'key': 'party wigs'}}"
      ]
     },
     "execution_count": 37,
     "metadata": {},
     "output_type": "execute_result"
    }
   ],
   "source": [
    "post_data"
   ]
  },
  {
   "cell_type": "code",
   "execution_count": 39,
   "metadata": {},
   "outputs": [
    {
     "name": "stdout",
     "output_type": "stream",
     "text": [
      "{'30000000': {'status': 'ok', 'post_id': 30000000, 'post_key': 'party wigs', 'task_id': 12026760761, 'se_id': 22, 'loc_id': 1006886, 'key_id': 1562667}}\n"
     ]
    }
   ],
   "source": [
    "response = client.post(\"/v2/srp_tasks_post\", dict(data=post_data))\n",
    "if response[\"status\"] == \"error\":\n",
    "    print(\"error. Code: %d Message: %s\" % (response[\"error\"][\"code\"], response[\"error\"][\"message\"]))\n",
    "else:\n",
    "    print(response[\"results\"])"
   ]
  },
  {
   "cell_type": "markdown",
   "metadata": {},
   "source": [
    "# Let's Retrieve Our One Task"
   ]
  },
  {
   "cell_type": "code",
   "execution_count": 88,
   "metadata": {
    "collapsed": true
   },
   "outputs": [
    {
     "name": "stdout",
     "output_type": "stream",
     "text": [
      "[]\n"
     ]
    }
   ],
   "source": [
    "response = client.get(\"/v2/srp_tasks_get\")\n",
    "if response[\"status\"] == \"error\":\n",
    "    print(\"error. Code: %d Message: %s\" % (response[\"error\"][\"code\"], response[\"error\"][\"message\"]))\n",
    "else:\n",
    "    print(response[\"results\"])"
   ]
  },
  {
   "cell_type": "markdown",
   "metadata": {},
   "source": [
    "# Querying The SERP API For 201 Queries"
   ]
  },
  {
   "cell_type": "markdown",
   "metadata": {},
   "source": [
    "This part is setting up the query for all of the 201 SERP keyword queries. It will return back 201 SERP results with the top 100 domains for every keyword."
   ]
  },
  {
   "cell_type": "code",
   "execution_count": 93,
   "metadata": {},
   "outputs": [],
   "source": [
    "data = defaultdict(dict)\n",
    "\n",
    "priority = 1\n",
    "se_name = \"google.co.uk\"\n",
    "se_language = \"English\"\n",
    "loc_name_canonical = \"RG4,England,United Kingdom\"\n",
    "\n",
    "for i, keys in zip(range(1,len(query_list)), query_list):\n",
    "    \n",
    "    # Creating the nested dictionary\n",
    "    data[i] = {}\n",
    "\n",
    "    data[i]['priority'] = priority\n",
    "    data[i]['se_name'] = se_name\n",
    "    data[i]['se_language'] = se_language\n",
    "    data[i]['loc_name_canonical'] = loc_name_canonical\n",
    "    \n",
    "    # Dynamically Adding The Queries\n",
    "    data[i]['key'] = keys"
   ]
  },
  {
   "cell_type": "code",
   "execution_count": 95,
   "metadata": {},
   "outputs": [],
   "source": [
    "# Posting For Data"
   ]
  },
  {
   "cell_type": "code",
   "execution_count": 96,
   "metadata": {},
   "outputs": [
    {
     "name": "stdout",
     "output_type": "stream",
     "text": [
      "{'1': {'status': 'ok', 'post_id': 1, 'post_key': 'post office', 'task_id': 12027141257, 'se_id': 22, 'loc_id': 9046112, 'key_id': 68127}, '2': {'status': 'ok', 'post_id': 2, 'post_key': 'entertainer', 'task_id': 12027141277, 'se_id': 22, 'loc_id': 9046112, 'key_id': 4072523}, '3': {'status': 'ok', 'post_id': 3, 'post_key': 'science museum', 'task_id': 12027141298, 'se_id': 22, 'loc_id': 9046112, 'key_id': 1310993}, '4': {'status': 'ok', 'post_id': 4, 'post_key': 'library', 'task_id': 12027141317, 'se_id': 22, 'loc_id': 9046112, 'key_id': 1212738}, '5': {'status': 'ok', 'post_id': 5, 'post_key': 'hotel', 'task_id': 12027141338, 'se_id': 22, 'loc_id': 9046112, 'key_id': 863865}, '6': {'status': 'ok', 'post_id': 6, 'post_key': 'swimming pool', 'task_id': 12027141355, 'se_id': 22, 'loc_id': 9046112, 'key_id': 731205}, '7': {'status': 'ok', 'post_id': 7, 'post_key': 'chiropractor', 'task_id': 12027141372, 'se_id': 22, 'loc_id': 9046112, 'key_id': 1013214}, '8': {'status': 'ok', 'post_id': 8, 'post_key': 'pharmacy', 'task_id': 12027141385, 'se_id': 22, 'loc_id': 9046112, 'key_id': 2648171}, '9': {'status': 'ok', 'post_id': 9, 'post_key': 'gym', 'task_id': 12027141400, 'se_id': 22, 'loc_id': 9046112, 'key_id': 1211635}, '10': {'status': 'ok', 'post_id': 10, 'post_key': 'caterer', 'task_id': 12027141416, 'se_id': 22, 'loc_id': 9046112, 'key_id': 861352}, '11': {'status': 'ok', 'post_id': 11, 'post_key': 'supermarket', 'task_id': 12027141433, 'se_id': 22, 'loc_id': 9046112, 'key_id': 2445188}, '12': {'status': 'ok', 'post_id': 12, 'post_key': 'restaurant', 'task_id': 12027141450, 'se_id': 22, 'loc_id': 9046112, 'key_id': 331467}, '13': {'status': 'ok', 'post_id': 13, 'post_key': 'indian restaurant', 'task_id': 12027141465, 'se_id': 22, 'loc_id': 9046112, 'key_id': 2533038}, '14': {'status': 'ok', 'post_id': 14, 'post_key': 'park', 'task_id': 12027141489, 'se_id': 22, 'loc_id': 9046112, 'key_id': 3771717}, '15': {'status': 'ok', 'post_id': 15, 'post_key': 'zoo', 'task_id': 12027141518, 'se_id': 22, 'loc_id': 9046112, 'key_id': 2593346}, '16': {'status': 'ok', 'post_id': 16, 'post_key': 'bank', 'task_id': 12027141541, 'se_id': 22, 'loc_id': 9046112, 'key_id': 1211974}, '17': {'status': 'ok', 'post_id': 17, 'post_key': 'dentist', 'task_id': 12027141565, 'se_id': 22, 'loc_id': 9046112, 'key_id': 613617}, '18': {'status': 'ok', 'post_id': 18, 'post_key': 'bar', 'task_id': 12027141589, 'se_id': 22, 'loc_id': 9046112, 'key_id': 1211975}, '19': {'status': 'ok', 'post_id': 19, 'post_key': 'passport office', 'task_id': 12027141611, 'se_id': 22, 'loc_id': 9046112, 'key_id': 2005744}, '20': {'status': 'ok', 'post_id': 20, 'post_key': 'store', 'task_id': 12027141628, 'se_id': 22, 'loc_id': 9046112, 'key_id': 2700022}, '21': {'status': 'ok', 'post_id': 21, 'post_key': 'cafe', 'task_id': 12027141650, 'se_id': 22, 'loc_id': 9046112, 'key_id': 1212070}, '22': {'status': 'ok', 'post_id': 22, 'post_key': 'college', 'task_id': 12027141670, 'se_id': 22, 'loc_id': 9046112, 'key_id': 1656730}, '23': {'status': 'ok', 'post_id': 23, 'post_key': 'karaoke', 'task_id': 12027141689, 'se_id': 22, 'loc_id': 9046112, 'key_id': 71037}, '24': {'status': 'ok', 'post_id': 24, 'post_key': 'spa', 'task_id': 12027141708, 'se_id': 22, 'loc_id': 9046112, 'key_id': 1782631}, '25': {'status': 'ok', 'post_id': 25, 'post_key': 'university', 'task_id': 12027141729, 'se_id': 22, 'loc_id': 9046112, 'key_id': 1709829}, '26': {'status': 'ok', 'post_id': 26, 'post_key': 'hospital', 'task_id': 12027141752, 'se_id': 22, 'loc_id': 9046112, 'key_id': 2578739}, '27': {'status': 'ok', 'post_id': 27, 'post_key': 'casino', 'task_id': 12027141772, 'se_id': 22, 'loc_id': 9046112, 'key_id': 727837}, '28': {'status': 'ok', 'post_id': 28, 'post_key': 'osteopath', 'task_id': 12027141794, 'se_id': 22, 'loc_id': 9046112, 'key_id': 1304573}, '29': {'status': 'ok', 'post_id': 29, 'post_key': 'council', 'task_id': 12027141820, 'se_id': 22, 'loc_id': 9046112, 'key_id': 16939620}, '30': {'status': 'ok', 'post_id': 30, 'post_key': 'podiatrist', 'task_id': 12027141836, 'se_id': 22, 'loc_id': 9046112, 'key_id': 729981}, '31': {'status': 'ok', 'post_id': 31, 'post_key': 'aquarium', 'task_id': 12027141856, 'se_id': 22, 'loc_id': 9046112, 'key_id': 1211925}, '32': {'status': 'ok', 'post_id': 32, 'post_key': 'airplane', 'task_id': 12027141871, 'se_id': 22, 'loc_id': 9046112, 'key_id': 69478}, '33': {'status': 'ok', 'post_id': 33, 'post_key': 'auction house', 'task_id': 12027141887, 'se_id': 22, 'loc_id': 9046112, 'key_id': 245793}, '34': {'status': 'ok', 'post_id': 34, 'post_key': 'airport', 'task_id': 12027141905, 'se_id': 22, 'loc_id': 9046112, 'key_id': 1560605}, '35': {'status': 'ok', 'post_id': 35, 'post_key': 'archive', 'task_id': 12027141926, 'se_id': 22, 'loc_id': 9046112, 'key_id': 4150549}, '36': {'status': 'ok', 'post_id': 36, 'post_key': 'pub', 'task_id': 12027141946, 'se_id': 22, 'loc_id': 9046112, 'key_id': 1212986}, '37': {'status': 'ok', 'post_id': 37, 'post_key': 'psychic', 'task_id': 12027141965, 'se_id': 22, 'loc_id': 9046112, 'key_id': 908692}, '38': {'status': 'ok', 'post_id': 38, 'post_key': 'chinese restaurant', 'task_id': 12027141987, 'se_id': 22, 'loc_id': 9046112, 'key_id': 4783776}, '39': {'status': 'ok', 'post_id': 39, 'post_key': 'courier service', 'task_id': 12027142024, 'se_id': 22, 'loc_id': 9046112, 'key_id': 840193}, '40': {'status': 'ok', 'post_id': 40, 'post_key': 'italian restaurant', 'task_id': 12027142045, 'se_id': 22, 'loc_id': 9046112, 'key_id': 21251967}, '41': {'status': 'ok', 'post_id': 41, 'post_key': 'church', 'task_id': 12027142068, 'se_id': 22, 'loc_id': 9046112, 'key_id': 2530819}, '42': {'status': 'ok', 'post_id': 42, 'post_key': 'doctor', 'task_id': 12027142090, 'se_id': 22, 'loc_id': 9046112, 'key_id': 2564390}, '43': {'status': 'ok', 'post_id': 43, 'post_key': 'psychiatrist', 'task_id': 12027142117, 'se_id': 22, 'loc_id': 9046112, 'key_id': 2606685}, '44': {'status': 'ok', 'post_id': 44, 'post_key': 'lighthouse', 'task_id': 12027142145, 'se_id': 22, 'loc_id': 9046112, 'key_id': 3557287}, '45': {'status': 'ok', 'post_id': 45, 'post_key': 'hostel', 'task_id': 12027142174, 'se_id': 22, 'loc_id': 9046112, 'key_id': 836562}, '46': {'status': 'ok', 'post_id': 46, 'post_key': 'pyramid', 'task_id': 12027142200, 'se_id': 22, 'loc_id': 9046112, 'key_id': 2124388}, '47': {'status': 'ok', 'post_id': 47, 'post_key': 'locksmith', 'task_id': 12027142223, 'se_id': 22, 'loc_id': 9046112, 'key_id': 331173}, '48': {'status': 'ok', 'post_id': 48, 'post_key': 'museum', 'task_id': 12027142252, 'se_id': 22, 'loc_id': 9046112, 'key_id': 2537741}, '49': {'status': 'ok', 'post_id': 49, 'post_key': 'electrician', 'task_id': 12027142279, 'se_id': 22, 'loc_id': 9046112, 'key_id': 862644}, '50': {'status': 'ok', 'post_id': 50, 'post_key': 'charity', 'task_id': 12027142319, 'se_id': 22, 'loc_id': 9046112, 'key_id': 55281}, '51': {'status': 'ok', 'post_id': 51, 'post_key': 'foundation', 'task_id': 12027142360, 'se_id': 22, 'loc_id': 9046112, 'key_id': 325893}, '52': {'status': 'ok', 'post_id': 52, 'post_key': 'architect', 'task_id': 12027142401, 'se_id': 22, 'loc_id': 9046112, 'key_id': 863526}, '53': {'status': 'ok', 'post_id': 53, 'post_key': 'prison', 'task_id': 12027142444, 'se_id': 22, 'loc_id': 9046112, 'key_id': 2795266}, '54': {'status': 'ok', 'post_id': 54, 'post_key': 'club', 'task_id': 12027142476, 'se_id': 22, 'loc_id': 9046112, 'key_id': 2111001}, '55': {'status': 'ok', 'post_id': 55, 'post_key': 'train station', 'task_id': 12027142511, 'se_id': 22, 'loc_id': 9046112, 'key_id': 8413520}, '56': {'status': 'ok', 'post_id': 56, 'post_key': 'psychologist', 'task_id': 12027142540, 'se_id': 22, 'loc_id': 9046112, 'key_id': 398575}, '57': {'status': 'ok', 'post_id': 57, 'post_key': 'plumber', 'task_id': 12027142569, 'se_id': 22, 'loc_id': 9046112, 'key_id': 1201490}, '58': {'status': 'ok', 'post_id': 58, 'post_key': 'orthodontist', 'task_id': 12027142592, 'se_id': 22, 'loc_id': 9046112, 'key_id': 202388}, '59': {'status': 'ok', 'post_id': 59, 'post_key': 'dermatologist', 'task_id': 12027142614, 'se_id': 22, 'loc_id': 9046112, 'key_id': 267477}, '60': {'status': 'ok', 'post_id': 60, 'post_key': 'engineer', 'task_id': 12027142634, 'se_id': 22, 'loc_id': 9046112, 'key_id': 863614}, '61': {'status': 'ok', 'post_id': 61, 'post_key': 'accountant', 'task_id': 12027142653, 'se_id': 22, 'loc_id': 9046112, 'key_id': 864928}, '62': {'status': 'ok', 'post_id': 62, 'post_key': 'police academy', 'task_id': 12027142670, 'se_id': 22, 'loc_id': 9046112, 'key_id': 28358203}, '63': {'status': 'ok', 'post_id': 63, 'post_key': 'thai restaurant', 'task_id': 12027142694, 'se_id': 22, 'loc_id': 9046112, 'key_id': 7347391}, '64': {'status': 'ok', 'post_id': 64, 'post_key': 'market', 'task_id': 12027142710, 'se_id': 22, 'loc_id': 9046112, 'key_id': 1560319}, '65': {'status': 'ok', 'post_id': 65, 'post_key': 'car wash', 'task_id': 12027142725, 'se_id': 22, 'loc_id': 9046112, 'key_id': 3316314}, '66': {'status': 'ok', 'post_id': 66, 'post_key': 'game store', 'task_id': 12027142746, 'se_id': 22, 'loc_id': 9046112, 'key_id': 3992698}, '67': {'status': 'ok', 'post_id': 67, 'post_key': 'sauna', 'task_id': 12027142767, 'se_id': 22, 'loc_id': 9046112, 'key_id': 791724}, '68': {'status': 'ok', 'post_id': 68, 'post_key': 'mosque', 'task_id': 12027142788, 'se_id': 22, 'loc_id': 9046112, 'key_id': 19907181}, '69': {'status': 'ok', 'post_id': 69, 'post_key': 'marina', 'task_id': 12027142805, 'se_id': 22, 'loc_id': 9046112, 'key_id': 2105138}, '70': {'status': 'ok', 'post_id': 70, 'post_key': 'arboretum', 'task_id': 12027142822, 'se_id': 22, 'loc_id': 9046112, 'key_id': 41604489}, '71': {'status': 'ok', 'post_id': 71, 'post_key': 'chimney sweep', 'task_id': 12027142837, 'se_id': 22, 'loc_id': 9046112, 'key_id': 3445065}, '72': {'status': 'ok', 'post_id': 72, 'post_key': 'personal trainer', 'task_id': 12027142855, 'se_id': 22, 'loc_id': 9046112, 'key_id': 244634}, '73': {'status': 'ok', 'post_id': 73, 'post_key': 'farm', 'task_id': 12027142871, 'se_id': 22, 'loc_id': 9046112, 'key_id': 1212278}, '74': {'status': 'ok', 'post_id': 74, 'post_key': 'catholic church', 'task_id': 12027142886, 'se_id': 22, 'loc_id': 9046112, 'key_id': 2650593}, '75': {'status': 'ok', 'post_id': 75, 'post_key': 'mechanic', 'task_id': 12027142905, 'se_id': 22, 'loc_id': 9046112, 'key_id': 326895}, '76': {'status': 'ok', 'post_id': 76, 'post_key': 'cemetery', 'task_id': 12027142924, 'se_id': 22, 'loc_id': 9046112, 'key_id': 4512925}, '77': {'status': 'ok', 'post_id': 77, 'post_key': 'boutique', 'task_id': 12027142936, 'se_id': 22, 'loc_id': 9046112, 'key_id': 2640882}, '78': {'status': 'ok', 'post_id': 78, 'post_key': 'coffee shop', 'task_id': 12027142953, 'se_id': 22, 'loc_id': 9046112, 'key_id': 4094529}, '79': {'status': 'ok', 'post_id': 79, 'post_key': 'optometrist', 'task_id': 12027142970, 'se_id': 22, 'loc_id': 9046112, 'key_id': 963651}, '80': {'status': 'ok', 'post_id': 80, 'post_key': 'laundry', 'task_id': 12027142986, 'se_id': 22, 'loc_id': 9046112, 'key_id': 1562426}, '81': {'status': 'ok', 'post_id': 81, 'post_key': 'photographer', 'task_id': 12027143002, 'se_id': 22, 'loc_id': 9046112, 'key_id': 1231888}, '82': {'status': 'ok', 'post_id': 82, 'post_key': 'motel', 'task_id': 12027143018, 'se_id': 22, 'loc_id': 9046112, 'key_id': 2459388}, '83': {'status': 'ok', 'post_id': 83, 'post_key': 'florist', 'task_id': 12027143032, 'se_id': 22, 'loc_id': 9046112, 'key_id': 142708}, '84': {'status': 'ok', 'post_id': 84, 'post_key': 'car service', 'task_id': 12027143051, 'se_id': 22, 'loc_id': 9046112, 'key_id': 474551}, '85': {'status': 'ok', 'post_id': 85, 'post_key': 'handyman', 'task_id': 12027143065, 'se_id': 22, 'loc_id': 9046112, 'key_id': 702514}, '86': {'status': 'ok', 'post_id': 86, 'post_key': 'turkish restaurant', 'task_id': 12027143085, 'se_id': 22, 'loc_id': 9046112, 'key_id': 4785342}, '87': {'status': 'ok', 'post_id': 87, 'post_key': 'carpenter', 'task_id': 12027143100, 'se_id': 22, 'loc_id': 9046112, 'key_id': 2649843}, '88': {'status': 'ok', 'post_id': 88, 'post_key': 'hardware store', 'task_id': 12027143116, 'se_id': 22, 'loc_id': 9046112, 'key_id': 4055856}, '89': {'status': 'ok', 'post_id': 89, 'post_key': 'structural engineer', 'task_id': 12027143131, 'se_id': 22, 'loc_id': 9046112, 'key_id': 958476}, '90': {'status': 'ok', 'post_id': 90, 'post_key': 'synagogue', 'task_id': 12027143148, 'se_id': 22, 'loc_id': 9046112, 'key_id': 6926606}, '91': {'status': 'ok', 'post_id': 91, 'post_key': 'hairdresser', 'task_id': 12027143167, 'se_id': 22, 'loc_id': 9046112, 'key_id': 398658}, '92': {'status': 'ok', 'post_id': 92, 'post_key': 'lawyer', 'task_id': 12027143183, 'se_id': 22, 'loc_id': 9046112, 'key_id': 333480}, '93': {'status': 'ok', 'post_id': 93, 'post_key': 'mortgage broker', 'task_id': 12027143201, 'se_id': 22, 'loc_id': 9046112, 'key_id': 85100}, '94': {'status': 'ok', 'post_id': 94, 'post_key': 'pediatrician', 'task_id': 12027143214, 'se_id': 22, 'loc_id': 9046112, 'key_id': 888129}, '95': {'status': 'ok', 'post_id': 95, 'post_key': 'manufacturer', 'task_id': 12027143234, 'se_id': 22, 'loc_id': 9046112, 'key_id': 1926283}, '96': {'status': 'ok', 'post_id': 96, 'post_key': 'camp', 'task_id': 12027143248, 'se_id': 22, 'loc_id': 9046112, 'key_id': 2715415}, '97': {'status': 'ok', 'post_id': 97, 'post_key': 'building society', 'task_id': 12027143266, 'se_id': 22, 'loc_id': 9046112, 'key_id': 41216079}, '98': {'status': 'ok', 'post_id': 98, 'post_key': 'patisserie', 'task_id': 12027143280, 'se_id': 22, 'loc_id': 9046112, 'key_id': 2598136}, '99': {'status': 'ok', 'post_id': 99, 'post_key': 'occupational therapist', 'task_id': 12027143296, 'se_id': 22, 'loc_id': 9046112, 'key_id': 611910}, '100': {'status': 'ok', 'post_id': 100, 'post_key': 'neurologist', 'task_id': 12027143313, 'se_id': 22, 'loc_id': 9046112, 'key_id': 867487}, '101': {'status': 'ok', 'post_id': 101, 'post_key': 'barber shop', 'task_id': 12027143327, 'se_id': 22, 'loc_id': 9046112, 'key_id': 324807}, '102': {'status': 'ok', 'post_id': 102, 'post_key': 'greek restaurant', 'task_id': 12027143344, 'se_id': 22, 'loc_id': 9046112, 'key_id': 5873411}, '103': {'status': 'ok', 'post_id': 103, 'post_key': 'bakery', 'task_id': 12027143360, 'se_id': 22, 'loc_id': 9046112, 'key_id': 1922448}, '104': {'status': 'ok', 'post_id': 104, 'post_key': 'kindergarten', 'task_id': 12027143376, 'se_id': 22, 'loc_id': 9046112, 'key_id': 2557395}, '105': {'status': 'ok', 'post_id': 105, 'post_key': 'rock climbing', 'task_id': 12027143394, 'se_id': 22, 'loc_id': 9046112, 'key_id': 2691861}, '106': {'status': 'ok', 'post_id': 106, 'post_key': 'wedding planner', 'task_id': 12027143424, 'se_id': 22, 'loc_id': 9046112, 'key_id': 78011}, '107': {'status': 'ok', 'post_id': 107, 'post_key': 'driving school', 'task_id': 12027143441, 'se_id': 22, 'loc_id': 9046112, 'key_id': 204399}, '108': {'status': 'ok', 'post_id': 108, 'post_key': 'goldsmith', 'task_id': 12027143464, 'se_id': 22, 'loc_id': 9046112, 'key_id': 51764773}, '109': {'status': 'ok', 'post_id': 109, 'post_key': 'surveyor', 'task_id': 12027143509, 'se_id': 22, 'loc_id': 9046112, 'key_id': 863769}, '110': {'status': 'ok', 'post_id': 110, 'post_key': 'comedy club', 'task_id': 12027143543, 'se_id': 22, 'loc_id': 9046112, 'key_id': 4744149}, '111': {'status': 'ok', 'post_id': 111, 'post_key': 'tailor', 'task_id': 12027143571, 'se_id': 22, 'loc_id': 9046112, 'key_id': 1624983}, '112': {'status': 'ok', 'post_id': 112, 'post_key': 'japanese restaurant', 'task_id': 12027143597, 'se_id': 22, 'loc_id': 9046112, 'key_id': 4784273}, '113': {'status': 'ok', 'post_id': 113, 'post_key': 'nutritionist', 'task_id': 12027143620, 'se_id': 22, 'loc_id': 9046112, 'key_id': 1316969}, '114': {'status': 'ok', 'post_id': 114, 'post_key': 'blacksmith', 'task_id': 12027143646, 'se_id': 22, 'loc_id': 9046112, 'key_id': 15661586}, '115': {'status': 'ok', 'post_id': 115, 'post_key': 'oncologist', 'task_id': 12027143673, 'se_id': 22, 'loc_id': 9046112, 'key_id': 2674107}, '116': {'status': 'ok', 'post_id': 116, 'post_key': 'mexican restaurant', 'task_id': 12027143704, 'se_id': 22, 'loc_id': 9046112, 'key_id': 2775339}, '117': {'status': 'ok', 'post_id': 117, 'post_key': 'counselor', 'task_id': 12027143729, 'se_id': 22, 'loc_id': 9046112, 'key_id': 2598088}, '118': {'status': 'ok', 'post_id': 118, 'post_key': 'endocrinologist', 'task_id': 12027143758, 'se_id': 22, 'loc_id': 9046112, 'key_id': 867489}, '119': {'status': 'ok', 'post_id': 119, 'post_key': 'private investigator', 'task_id': 12027143790, 'se_id': 22, 'loc_id': 9046112, 'key_id': 466518}, '120': {'status': 'ok', 'post_id': 120, 'post_key': 'welder', 'task_id': 12027143828, 'se_id': 22, 'loc_id': 9046112, 'key_id': 1363529}, '121': {'status': 'ok', 'post_id': 121, 'post_key': 'stable', 'task_id': 12027143853, 'se_id': 22, 'loc_id': 9046112, 'key_id': 2604091}, '122': {'status': 'ok', 'post_id': 122, 'post_key': 'monastery', 'task_id': 12027143877, 'se_id': 22, 'loc_id': 9046112, 'key_id': 20194455}, '123': {'status': 'ok', 'post_id': 123, 'post_key': 'nail salon', 'task_id': 12027143899, 'se_id': 22, 'loc_id': 9046112, 'key_id': 1541018}, '124': {'status': 'ok', 'post_id': 124, 'post_key': 'ophthalmologist', 'task_id': 12027143926, 'se_id': 22, 'loc_id': 9046112, 'key_id': 5088382}, '125': {'status': 'ok', 'post_id': 125, 'post_key': 'deli', 'task_id': 12027143948, 'se_id': 22, 'loc_id': 9046112, 'key_id': 861362}, '126': {'status': 'ok', 'post_id': 126, 'post_key': 'brasserie', 'task_id': 12027143970, 'se_id': 22, 'loc_id': 9046112, 'key_id': 2564347}, '127': {'status': 'ok', 'post_id': 127, 'post_key': 'mission', 'task_id': 12027143995, 'se_id': 22, 'loc_id': 9046112, 'key_id': 2535731}, '128': {'status': 'ok', 'post_id': 128, 'post_key': 'lodge', 'task_id': 12027144023, 'se_id': 22, 'loc_id': 9046112, 'key_id': 3420081}, '129': {'status': 'ok', 'post_id': 129, 'post_key': 'chamber of commerce', 'task_id': 12027144046, 'se_id': 22, 'loc_id': 9046112, 'key_id': 17740151}, '130': {'status': 'ok', 'post_id': 130, 'post_key': 'vineyard', 'task_id': 12027144069, 'se_id': 22, 'loc_id': 9046112, 'key_id': 2624678}, '131': {'status': 'ok', 'post_id': 131, 'post_key': 'pet cemetery', 'task_id': 12027144096, 'se_id': 22, 'loc_id': 9046112, 'key_id': 10166489}, '132': {'status': 'ok', 'post_id': 132, 'post_key': 'graphic designer', 'task_id': 12027144121, 'se_id': 22, 'loc_id': 9046112, 'key_id': 268559}, '133': {'status': 'ok', 'post_id': 133, 'post_key': 'psychotherapist', 'task_id': 12027144143, 'se_id': 22, 'loc_id': 9046112, 'key_id': 698175}, '134': {'status': 'ok', 'post_id': 134, 'post_key': 'surgeon', 'task_id': 12027144163, 'se_id': 22, 'loc_id': 9046112, 'key_id': 4005331}, '135': {'status': 'ok', 'post_id': 135, 'post_key': 'stadium', 'task_id': 12027144185, 'se_id': 22, 'loc_id': 9046112, 'key_id': 1213196}, '136': {'status': 'ok', 'post_id': 136, 'post_key': 'pawn shop', 'task_id': 12027144204, 'se_id': 22, 'loc_id': 9046112, 'key_id': 7346158}, '137': {'status': 'ok', 'post_id': 137, 'post_key': 'photo shop', 'task_id': 12027144229, 'se_id': 22, 'loc_id': 9046112, 'key_id': 2590721}, '138': {'status': 'ok', 'post_id': 138, 'post_key': 'wedding photographer', 'task_id': 12027144248, 'se_id': 22, 'loc_id': 9046112, 'key_id': 253037}, '139': {'status': 'ok', 'post_id': 139, 'post_key': 'observatory', 'task_id': 12027144267, 'se_id': 22, 'loc_id': 9046112, 'key_id': 43400629}, '140': {'status': 'ok', 'post_id': 140, 'post_key': 'newsstand', 'task_id': 12027144285, 'se_id': 22, 'loc_id': 9046112, 'key_id': 41652041}, '141': {'status': 'ok', 'post_id': 141, 'post_key': 'brewery', 'task_id': 12027144307, 'se_id': 22, 'loc_id': 9046112, 'key_id': 863311}, '142': {'status': 'ok', 'post_id': 142, 'post_key': 'foundry', 'task_id': 12027144329, 'se_id': 22, 'loc_id': 9046112, 'key_id': 1080894}, '143': {'status': 'ok', 'post_id': 143, 'post_key': 'airline', 'task_id': 12027144352, 'se_id': 22, 'loc_id': 9046112, 'key_id': 169833}, '144': {'status': 'ok', 'post_id': 144, 'post_key': 'optician', 'task_id': 12027144372, 'se_id': 22, 'loc_id': 9046112, 'key_id': 2794739}, '145': {'status': 'ok', 'post_id': 145, 'post_key': 'contractor', 'task_id': 12027144395, 'se_id': 22, 'loc_id': 9046112, 'key_id': 1964870}, '146': {'status': 'ok', 'post_id': 146, 'post_key': 'diner', 'task_id': 12027144418, 'se_id': 22, 'loc_id': 9046112, 'key_id': 3662967}, '147': {'status': 'ok', 'post_id': 147, 'post_key': 'resort', 'task_id': 12027144443, 'se_id': 22, 'loc_id': 9046112, 'key_id': 2459391}, '148': {'status': 'ok', 'post_id': 148, 'post_key': 'buddhist temple', 'task_id': 12027144463, 'se_id': 22, 'loc_id': 9046112, 'key_id': 26575636}, '149': {'status': 'ok', 'post_id': 149, 'post_key': 'hair salon', 'task_id': 12027144493, 'se_id': 22, 'loc_id': 9046112, 'key_id': 684008}, '150': {'status': 'ok', 'post_id': 150, 'post_key': 'opera house', 'task_id': 12027144513, 'se_id': 22, 'loc_id': 9046112, 'key_id': 4581432}, '151': {'status': 'ok', 'post_id': 151, 'post_key': 'beauty salon', 'task_id': 12027144536, 'se_id': 22, 'loc_id': 9046112, 'key_id': 588675}, '152': {'status': 'ok', 'post_id': 152, 'post_key': 'recording studio', 'task_id': 12027144555, 'se_id': 22, 'loc_id': 9046112, 'key_id': 1325979}, '153': {'status': 'ok', 'post_id': 153, 'post_key': 'rheumatologist', 'task_id': 12027144577, 'se_id': 22, 'loc_id': 9046112, 'key_id': 9571525}, '154': {'status': 'ok', 'post_id': 154, 'post_key': 'nanny', 'task_id': 12027144595, 'se_id': 22, 'loc_id': 9046112, 'key_id': 981837}, '155': {'status': 'ok', 'post_id': 155, 'post_key': 'pathologist', 'task_id': 12027144613, 'se_id': 22, 'loc_id': 9046112, 'key_id': 40588926}, '156': {'status': 'ok', 'post_id': 156, 'post_key': 'lebanese restaurant', 'task_id': 12027144638, 'se_id': 22, 'loc_id': 9046112, 'key_id': 3945595}, '157': {'status': 'ok', 'post_id': 157, 'post_key': 'travel agency', 'task_id': 12027144657, 'se_id': 22, 'loc_id': 9046112, 'key_id': 40940}, '158': {'status': 'ok', 'post_id': 158, 'post_key': 'cafeteria', 'task_id': 12027144676, 'se_id': 22, 'loc_id': 9046112, 'key_id': 3775885}, '159': {'status': 'ok', 'post_id': 159, 'post_key': 'animal shelter', 'task_id': 12027144694, 'se_id': 22, 'loc_id': 9046112, 'key_id': 321167}, '160': {'status': 'ok', 'post_id': 160, 'post_key': 'shooting range', 'task_id': 12027144715, 'se_id': 22, 'loc_id': 9046112, 'key_id': 5011910}, '161': {'status': 'ok', 'post_id': 161, 'post_key': 'cake shop', 'task_id': 12027144737, 'se_id': 22, 'loc_id': 9046112, 'key_id': 4176785}, '162': {'status': 'ok', 'post_id': 162, 'post_key': 'golf course', 'task_id': 12027144758, 'se_id': 22, 'loc_id': 9046112, 'key_id': 2583147}, '163': {'status': 'ok', 'post_id': 163, 'post_key': 'korean restaurant', 'task_id': 12027144783, 'se_id': 22, 'loc_id': 9046112, 'key_id': 4784301}, '164': {'status': 'ok', 'post_id': 164, 'post_key': 'baptist church', 'task_id': 12027144805, 'se_id': 22, 'loc_id': 9046112, 'key_id': 4872815}, '165': {'status': 'ok', 'post_id': 165, 'post_key': 'golf club', 'task_id': 12027144832, 'se_id': 22, 'loc_id': 9046112, 'key_id': 20567043}, '166': {'status': 'ok', 'post_id': 166, 'post_key': 'physiatrist', 'task_id': 12027144864, 'se_id': 22, 'loc_id': 9046112, 'key_id': 7374121}, '167': {'status': 'ok', 'post_id': 167, 'post_key': 'christmas tree farm', 'task_id': 12027144911, 'se_id': 22, 'loc_id': 9046112, 'key_id': 1377194}, '168': {'status': 'ok', 'post_id': 168, 'post_key': 'genealogist', 'task_id': 12027144942, 'se_id': 22, 'loc_id': 9046112, 'key_id': 576019}, '169': {'status': 'ok', 'post_id': 169, 'post_key': 'model shop', 'task_id': 12027144967, 'se_id': 22, 'loc_id': 9046112, 'key_id': 55548900}, '170': {'status': 'ok', 'post_id': 170, 'post_key': 'general practitioner', 'task_id': 12027144995, 'se_id': 22, 'loc_id': 9046112, 'key_id': 867486}, '171': {'status': 'ok', 'post_id': 171, 'post_key': 'bed & breakfast', 'task_id': 12027145023, 'se_id': 22, 'loc_id': 9046112, 'key_id': 320402}, '172': {'status': 'ok', 'post_id': 172, 'post_key': 'taxi service', 'task_id': 12027145054, 'se_id': 22, 'loc_id': 9046112, 'key_id': 686398}, '173': {'status': 'ok', 'post_id': 173, 'post_key': 'guest house', 'task_id': 12027145100, 'se_id': 22, 'loc_id': 9046112, 'key_id': 898679}, '174': {'status': 'ok', 'post_id': 174, 'post_key': 'painter', 'task_id': 12027145128, 'se_id': 22, 'loc_id': 9046112, 'key_id': 1249026}, '175': {'status': 'ok', 'post_id': 175, 'post_key': 'levee', 'task_id': 12027145154, 'se_id': 22, 'loc_id': 9046112, 'key_id': 17190862}, '176': {'status': 'ok', 'post_id': 176, 'post_key': 'kennel', 'task_id': 12027145182, 'se_id': 22, 'loc_id': 9046112, 'key_id': 752066}, '177': {'status': 'ok', 'post_id': 177, 'post_key': 'pet store', 'task_id': 12027145214, 'se_id': 22, 'loc_id': 9046112, 'key_id': 327392}, '178': {'status': 'ok', 'post_id': 178, 'post_key': 'veterinarian', 'task_id': 12027145252, 'se_id': 22, 'loc_id': 9046112, 'key_id': 329637}, '179': {'status': 'ok', 'post_id': 179, 'post_key': 'laundromat', 'task_id': 12027145281, 'se_id': 22, 'loc_id': 9046112, 'key_id': 3303769}, '180': {'status': 'ok', 'post_id': 180, 'post_key': 'brazilian restaurant', 'task_id': 12027145306, 'se_id': 22, 'loc_id': 9046112, 'key_id': 24548437}, '181': {'status': 'ok', 'post_id': 181, 'post_key': 'tennis court', 'task_id': 12027145334, 'se_id': 22, 'loc_id': 9046112, 'key_id': 3369141}, '182': {'status': 'ok', 'post_id': 182, 'post_key': 'radiologist', 'task_id': 12027145363, 'se_id': 22, 'loc_id': 9046112, 'key_id': 9611402}, '183': {'status': 'ok', 'post_id': 183, 'post_key': 'anglican church', 'task_id': 12027145391, 'se_id': 22, 'loc_id': 9046112, 'key_id': 5084874}, '184': {'status': 'ok', 'post_id': 184, 'post_key': 'cardiologist', 'task_id': 12027145417, 'se_id': 22, 'loc_id': 9046112, 'key_id': 867490}, '185': {'status': 'ok', 'post_id': 185, 'post_key': 'seafood restaurant', 'task_id': 12027145438, 'se_id': 22, 'loc_id': 9046112, 'key_id': 949684}, '186': {'status': 'ok', 'post_id': 186, 'post_key': 'garden center', 'task_id': 12027145464, 'se_id': 22, 'loc_id': 9046112, 'key_id': 54567146}, '187': {'status': 'ok', 'post_id': 187, 'post_key': 'botanical garden', 'task_id': 12027145487, 'se_id': 22, 'loc_id': 9046112, 'key_id': 46091433}, '188': {'status': 'ok', 'post_id': 188, 'post_key': 'orthodox church', 'task_id': 12027145512, 'se_id': 22, 'loc_id': 9046112, 'key_id': 7273197}, '189': {'status': 'ok', 'post_id': 189, 'post_key': 'orthopedic surgeon', 'task_id': 12027145531, 'se_id': 22, 'loc_id': 9046112, 'key_id': 525324}, '190': {'status': 'ok', 'post_id': 190, 'post_key': 'dog walker', 'task_id': 12027145550, 'se_id': 22, 'loc_id': 9046112, 'key_id': 380240}, '191': {'status': 'ok', 'post_id': 191, 'post_key': 'public school', 'task_id': 12027145571, 'se_id': 22, 'loc_id': 9046112, 'key_id': 4586523}, '192': {'status': 'ok', 'post_id': 192, 'post_key': 'french restaurant', 'task_id': 12027145597, 'se_id': 22, 'loc_id': 9046112, 'key_id': 5909763}, '193': {'status': 'ok', 'post_id': 193, 'post_key': 'gastroenterologist', 'task_id': 12027145618, 'se_id': 22, 'loc_id': 9046112, 'key_id': 1528913}, '194': {'status': 'ok', 'post_id': 194, 'post_key': 'steak house', 'task_id': 12027145642, 'se_id': 22, 'loc_id': 9046112, 'key_id': 1482542}, '195': {'status': 'ok', 'post_id': 195, 'post_key': 'anesthesiologist', 'task_id': 12027145666, 'se_id': 22, 'loc_id': 9046112, 'key_id': 6249490}, '196': {'status': 'ok', 'post_id': 196, 'post_key': 'stock broker', 'task_id': 12027145685, 'se_id': 22, 'loc_id': 9046112, 'key_id': 422905}, '197': {'status': 'ok', 'post_id': 197, 'post_key': 'child psychologist', 'task_id': 12027145708, 'se_id': 22, 'loc_id': 9046112, 'key_id': 398578}, '198': {'status': 'ok', 'post_id': 198, 'post_key': 'basketball court', 'task_id': 12027145730, 'se_id': 22, 'loc_id': 9046112, 'key_id': 3574537}, '199': {'status': 'ok', 'post_id': 199, 'post_key': 'surplus store', 'task_id': 12027145746, 'se_id': 22, 'loc_id': 9046112, 'key_id': 775273}, '200': {'status': 'ok', 'post_id': 200, 'post_key': 'travel clinic', 'task_id': 12027145764, 'se_id': 22, 'loc_id': 9046112, 'key_id': 1038296}}\n"
     ]
    }
   ],
   "source": [
    "response = client.post(\"/v2/srp_tasks_post\", dict(data=data))\n",
    "if response[\"status\"] == \"error\":\n",
    "    print(\"error. Code: %d Message: %s\" % (response[\"error\"][\"code\"], response[\"error\"][\"message\"]))\n",
    "else:\n",
    "    print(response[\"results\"])"
   ]
  },
  {
   "cell_type": "markdown",
   "metadata": {},
   "source": [
    "# Obtaining Our SERP Data"
   ]
  },
  {
   "cell_type": "markdown",
   "metadata": {},
   "source": [
    "Now that all of our tasks have been sent to the DataForSEO's API servers we can simply call back all of the tasks and extract all of the results."
   ]
  },
  {
   "cell_type": "code",
   "execution_count": 98,
   "metadata": {
    "collapsed": true
   },
   "outputs": [
    {
     "name": "stdout",
     "output_type": "stream",
     "text": [
      "[{'post_id': '70', 'post_key': 'chimney sweep', 'task_id': 12027031107, 'se_id': 22, 'loc_id': 9046112, 'key_id': 3445065, 'results_count': 12600000, 'result_extra': 'people_also_ask,images,local_pack', 'result_spell': '', 'result_spell_type': '', 'result_se_check_url': 'https://www.google.co.uk/search?q=chimney%20sweep&num=100&hl=en&gl=GB&gws_rd=cr&ie=UTF-8&oe=UTF-8&uule=w+CAIQIFISCcM8HUfhhHZIEbzKx0ulhCYF'}, {'post_id': '1', 'post_key': 'post office', 'task_id': 12027141257, 'se_id': 22, 'loc_id': 9046112, 'key_id': 68127, 'results_count': 8080000000, 'result_extra': 'people_also_ask,images,knowledge_graph,google_review,local_pack', 'result_spell': '', 'result_spell_type': '', 'result_se_check_url': 'https://www.google.co.uk/search?q=post%20office&num=100&hl=en&gl=GB&gws_rd=cr&ie=UTF-8&oe=UTF-8&uule=w+CAIQIFISCcM8HUfhhHZIEbzKx0ulhCYF'}, {'post_id': '2', 'post_key': 'entertainer', 'task_id': 12027141277, 'se_id': 22, 'loc_id': 9046112, 'key_id': 4072523, 'results_count': 91200000, 'result_extra': 'twitter,videos,images,people_also_ask,knowledge_graph,google_review,local_pack', 'result_spell': '', 'result_spell_type': '', 'result_se_check_url': 'https://www.google.co.uk/search?q=entertainer&num=100&hl=en&gl=GB&gws_rd=cr&ie=UTF-8&oe=UTF-8&uule=w+CAIQIFISCcM8HUfhhHZIEbzKx0ulhCYF'}, {'post_id': '3', 'post_key': 'science museum', 'task_id': 12027141298, 'se_id': 22, 'loc_id': 9046112, 'key_id': 1310993, 'results_count': 486000000, 'result_extra': 'people_also_ask,twitter,images,local_pack', 'result_spell': '', 'result_spell_type': '', 'result_se_check_url': 'https://www.google.co.uk/search?q=science%20museum&num=100&hl=en&gl=GB&gws_rd=cr&ie=UTF-8&oe=UTF-8&uule=w+CAIQIFISCcM8HUfhhHZIEbzKx0ulhCYF'}, {'post_id': '4', 'post_key': 'library', 'task_id': 12027141317, 'se_id': 22, 'loc_id': 9046112, 'key_id': 1212738, 'results_count': 4800000000, 'result_extra': 'people_also_ask,top_stories,images,local_pack', 'result_spell': '', 'result_spell_type': '', 'result_se_check_url': 'https://www.google.co.uk/search?q=library&num=100&hl=en&gl=GB&gws_rd=cr&ie=UTF-8&oe=UTF-8&uule=w+CAIQIFISCcM8HUfhhHZIEbzKx0ulhCYF'}, {'post_id': '5', 'post_key': 'hotel', 'task_id': 12027141338, 'se_id': 22, 'loc_id': 9046112, 'key_id': 863865, 'results_count': 8420000000, 'result_extra': 'answer_box,people_also_ask,images', 'result_spell': '', 'result_spell_type': '', 'result_se_check_url': 'https://www.google.co.uk/search?q=hotel&num=100&hl=en&gl=GB&gws_rd=cr&ie=UTF-8&oe=UTF-8&uule=w+CAIQIFISCcM8HUfhhHZIEbzKx0ulhCYF'}, {'post_id': '6', 'post_key': 'swimming pool', 'task_id': 12027141355, 'se_id': 22, 'loc_id': 9046112, 'key_id': 731205, 'results_count': 881000000, 'result_extra': 'videos,images,top_stories,people_also_ask,local_pack', 'result_spell': '', 'result_spell_type': '', 'result_se_check_url': 'https://www.google.co.uk/search?q=swimming%20pool&num=100&hl=en&gl=GB&gws_rd=cr&ie=UTF-8&oe=UTF-8&uule=w+CAIQIFISCcM8HUfhhHZIEbzKx0ulhCYF'}, {'post_id': '7', 'post_key': 'chiropractor', 'task_id': 12027141372, 'se_id': 22, 'loc_id': 9046112, 'key_id': 1013214, 'results_count': 61900000, 'result_extra': 'people_also_ask,images,top_stories,local_pack', 'result_spell': '', 'result_spell_type': '', 'result_se_check_url': 'https://www.google.co.uk/search?q=chiropractor&num=100&hl=en&gl=GB&gws_rd=cr&ie=UTF-8&oe=UTF-8&uule=w+CAIQIFISCcM8HUfhhHZIEbzKx0ulhCYF'}, {'post_id': '8', 'post_key': 'pharmacy', 'task_id': 12027141385, 'se_id': 22, 'loc_id': 9046112, 'key_id': 2648171, 'results_count': 1120000000, 'result_extra': 'people_also_ask,local_pack', 'result_spell': '', 'result_spell_type': '', 'result_se_check_url': 'https://www.google.co.uk/search?q=pharmacy&num=100&hl=en&gl=GB&gws_rd=cr&ie=UTF-8&oe=UTF-8&uule=w+CAIQIFISCcM8HUfhhHZIEbzKx0ulhCYF'}, {'post_id': '9', 'post_key': 'gym', 'task_id': 12027141400, 'se_id': 22, 'loc_id': 9046112, 'key_id': 1211635, 'results_count': 2530000000, 'result_extra': 'people_also_ask,top_stories,videos,local_pack', 'result_spell': '', 'result_spell_type': '', 'result_se_check_url': 'https://www.google.co.uk/search?q=gym&num=100&hl=en&gl=GB&gws_rd=cr&ie=UTF-8&oe=UTF-8&uule=w+CAIQIFISCcM8HUfhhHZIEbzKx0ulhCYF'}, {'post_id': '10', 'post_key': 'caterer', 'task_id': 12027141416, 'se_id': 22, 'loc_id': 9046112, 'key_id': 861352, 'results_count': 72800000, 'result_extra': 'top_stories,people_also_ask,twitter,images,local_pack', 'result_spell': '', 'result_spell_type': '', 'result_se_check_url': 'https://www.google.co.uk/search?q=caterer&num=100&hl=en&gl=GB&gws_rd=cr&ie=UTF-8&oe=UTF-8&uule=w+CAIQIFISCcM8HUfhhHZIEbzKx0ulhCYF'}, {'post_id': '11', 'post_key': 'supermarket', 'task_id': 12027141433, 'se_id': 22, 'loc_id': 9046112, 'key_id': 2445188, 'results_count': 597000000, 'result_extra': 'people_also_ask,videos,images,top_stories,local_pack', 'result_spell': '', 'result_spell_type': '', 'result_se_check_url': 'https://www.google.co.uk/search?q=supermarket&num=100&hl=en&gl=GB&gws_rd=cr&ie=UTF-8&oe=UTF-8&uule=w+CAIQIFISCcM8HUfhhHZIEbzKx0ulhCYF'}, {'post_id': '12', 'post_key': 'restaurant', 'task_id': 12027141450, 'se_id': 22, 'loc_id': 9046112, 'key_id': 331467, 'results_count': 6760000000, 'result_extra': 'images,people_also_ask,carousel,local_pack', 'result_spell': '', 'result_spell_type': '', 'result_se_check_url': 'https://www.google.co.uk/search?q=restaurant&num=100&hl=en&gl=GB&gws_rd=cr&ie=UTF-8&oe=UTF-8&uule=w+CAIQIFISCcM8HUfhhHZIEbzKx0ulhCYF'}, {'post_id': '13', 'post_key': 'indian restaurant', 'task_id': 12027141465, 'se_id': 22, 'loc_id': 9046112, 'key_id': 2533038, 'results_count': 443000000, 'result_extra': 'top_stories,videos,people_also_ask,knowledge_graph,related_search,carousel,google_review,local_pack', 'result_spell': '', 'result_spell_type': '', 'result_se_check_url': 'https://www.google.co.uk/search?q=indian%20restaurant&num=100&hl=en&gl=GB&gws_rd=cr&ie=UTF-8&oe=UTF-8&uule=w+CAIQIFISCcM8HUfhhHZIEbzKx0ulhCYF'}, {'post_id': '14', 'post_key': 'park', 'task_id': 12027141489, 'se_id': 22, 'loc_id': 9046112, 'key_id': 3771717, 'results_count': 13520000000, 'result_extra': 'people_also_ask,images,local_pack', 'result_spell': '', 'result_spell_type': '', 'result_se_check_url': 'https://www.google.co.uk/search?q=park&num=100&hl=en&gl=GB&gws_rd=cr&ie=UTF-8&oe=UTF-8&uule=w+CAIQIFISCcM8HUfhhHZIEbzKx0ulhCYF'}, {'post_id': '15', 'post_key': 'zoo', 'task_id': 12027141518, 'se_id': 22, 'loc_id': 9046112, 'key_id': 2593346, 'results_count': 1010000000, 'result_extra': 'people_also_ask,images,top_stories,videos,carousel,local_pack', 'result_spell': '', 'result_spell_type': '', 'result_se_check_url': 'https://www.google.co.uk/search?q=zoo&num=100&hl=en&gl=GB&gws_rd=cr&ie=UTF-8&oe=UTF-8&uule=w+CAIQIFISCcM8HUfhhHZIEbzKx0ulhCYF'}, {'post_id': '16', 'post_key': 'bank', 'task_id': 12027141541, 'se_id': 22, 'loc_id': 9046112, 'key_id': 1211974, 'results_count': 7730000000, 'result_extra': 'people_also_ask,local_pack', 'result_spell': '', 'result_spell_type': '', 'result_se_check_url': 'https://www.google.co.uk/search?q=bank&num=100&hl=en&gl=GB&gws_rd=cr&ie=UTF-8&oe=UTF-8&uule=w+CAIQIFISCcM8HUfhhHZIEbzKx0ulhCYF'}, {'post_id': '17', 'post_key': 'dentist', 'task_id': 12027141565, 'se_id': 22, 'loc_id': 9046112, 'key_id': 613617, 'results_count': 561000000, 'result_extra': 'people_also_ask,top_stories,videos,local_pack', 'result_spell': '', 'result_spell_type': '', 'result_se_check_url': 'https://www.google.co.uk/search?q=dentist&num=100&hl=en&gl=GB&gws_rd=cr&ie=UTF-8&oe=UTF-8&uule=w+CAIQIFISCcM8HUfhhHZIEbzKx0ulhCYF'}, {'post_id': '18', 'post_key': 'bar', 'task_id': 12027141589, 'se_id': 22, 'loc_id': 9046112, 'key_id': 1211975, 'results_count': 10480000000, 'result_extra': 'people_also_ask,images,carousel,local_pack', 'result_spell': '', 'result_spell_type': '', 'result_se_check_url': 'https://www.google.co.uk/search?q=bar&num=100&hl=en&gl=GB&gws_rd=cr&ie=UTF-8&oe=UTF-8&uule=w+CAIQIFISCcM8HUfhhHZIEbzKx0ulhCYF'}, {'post_id': '19', 'post_key': 'passport office', 'task_id': 12027141611, 'se_id': 22, 'loc_id': 9046112, 'key_id': 2005744, 'results_count': 339000000, 'result_extra': 'people_also_ask,videos,local_pack', 'result_spell': '', 'result_spell_type': '', 'result_se_check_url': 'https://www.google.co.uk/search?q=passport%20office&num=100&hl=en&gl=GB&gws_rd=cr&ie=UTF-8&oe=UTF-8&uule=w+CAIQIFISCcM8HUfhhHZIEbzKx0ulhCYF'}, {'post_id': '20', 'post_key': 'store', 'task_id': 12027141628, 'se_id': 22, 'loc_id': 9046112, 'key_id': 2700022, 'results_count': 15980000000, 'result_extra': 'people_also_ask,images,local_pack', 'result_spell': '', 'result_spell_type': '', 'result_se_check_url': 'https://www.google.co.uk/search?q=store&num=100&hl=en&gl=GB&gws_rd=cr&ie=UTF-8&oe=UTF-8&uule=w+CAIQIFISCcM8HUfhhHZIEbzKx0ulhCYF'}, {'post_id': '21', 'post_key': 'cafe', 'task_id': 12027141650, 'se_id': 22, 'loc_id': 9046112, 'key_id': 1212070, 'results_count': 5200000000, 'result_extra': 'people_also_ask,images,videos,carousel,local_pack', 'result_spell': '', 'result_spell_type': '', 'result_se_check_url': 'https://www.google.co.uk/search?q=cafe&num=100&hl=en&gl=GB&gws_rd=cr&ie=UTF-8&oe=UTF-8&uule=w+CAIQIFISCcM8HUfhhHZIEbzKx0ulhCYF'}, {'post_id': '22', 'post_key': 'college', 'task_id': 12027141670, 'se_id': 22, 'loc_id': 9046112, 'key_id': 1656730, 'results_count': 7080000000, 'result_extra': 'people_also_ask,top_stories,images,local_pack', 'result_spell': '', 'result_spell_type': '', 'result_se_check_url': 'https://www.google.co.uk/search?q=college&num=100&hl=en&gl=GB&gws_rd=cr&ie=UTF-8&oe=UTF-8&uule=w+CAIQIFISCcM8HUfhhHZIEbzKx0ulhCYF'}, {'post_id': '23', 'post_key': 'karaoke', 'task_id': 12027141689, 'se_id': 22, 'loc_id': 9046112, 'key_id': 71037, 'results_count': 550000000, 'result_extra': 'videos,people_also_ask,top_stories,knowledge_graph,carousel,local_pack', 'result_spell': '', 'result_spell_type': '', 'result_se_check_url': 'https://www.google.co.uk/search?q=karaoke&num=100&hl=en&gl=GB&gws_rd=cr&ie=UTF-8&oe=UTF-8&uule=w+CAIQIFISCcM8HUfhhHZIEbzKx0ulhCYF'}, {'post_id': '24', 'post_key': 'spa', 'task_id': 12027141708, 'se_id': 22, 'loc_id': 9046112, 'key_id': 1782631, 'results_count': 2990000000, 'result_extra': 'people_also_ask,images,top_stories,videos,local_pack', 'result_spell': '', 'result_spell_type': '', 'result_se_check_url': 'https://www.google.co.uk/search?q=spa&num=100&hl=en&gl=GB&gws_rd=cr&ie=UTF-8&oe=UTF-8&uule=w+CAIQIFISCcM8HUfhhHZIEbzKx0ulhCYF'}, {'post_id': '25', 'post_key': 'university', 'task_id': 12027141729, 'se_id': 22, 'loc_id': 9046112, 'key_id': 1709829, 'results_count': 7420000000, 'result_extra': 'people_also_ask,top_stories,images,local_pack', 'result_spell': '', 'result_spell_type': '', 'result_se_check_url': 'https://www.google.co.uk/search?q=university&num=100&hl=en&gl=GB&gws_rd=cr&ie=UTF-8&oe=UTF-8&uule=w+CAIQIFISCcM8HUfhhHZIEbzKx0ulhCYF'}, {'post_id': '26', 'post_key': 'hospital', 'task_id': 12027141752, 'se_id': 22, 'loc_id': 9046112, 'key_id': 2578739, 'results_count': 4230000000, 'result_extra': 'people_also_ask,images,videos,top_stories,local_pack', 'result_spell': '', 'result_spell_type': '', 'result_se_check_url': 'https://www.google.co.uk/search?q=hospital&num=100&hl=en&gl=GB&gws_rd=cr&ie=UTF-8&oe=UTF-8&uule=w+CAIQIFISCcM8HUfhhHZIEbzKx0ulhCYF'}, {'post_id': '27', 'post_key': 'casino', 'task_id': 12027141772, 'se_id': 22, 'loc_id': 9046112, 'key_id': 727837, 'results_count': 1590000000, 'result_extra': 'videos,people_also_ask,top_stories,images,carousel,local_pack', 'result_spell': '', 'result_spell_type': '', 'result_se_check_url': 'https://www.google.co.uk/search?q=casino&num=100&hl=en&gl=GB&gws_rd=cr&ie=UTF-8&oe=UTF-8&uule=w+CAIQIFISCcM8HUfhhHZIEbzKx0ulhCYF'}, {'post_id': '28', 'post_key': 'osteopath', 'task_id': 12027141794, 'se_id': 22, 'loc_id': 9046112, 'key_id': 1304573, 'results_count': 14700000, 'result_extra': 'people_also_ask,top_stories,images,knowledge_graph,google_review,local_pack', 'result_spell': '', 'result_spell_type': '', 'result_se_check_url': 'https://www.google.co.uk/search?q=osteopath&num=100&hl=en&gl=GB&gws_rd=cr&ie=UTF-8&oe=UTF-8&uule=w+CAIQIFISCcM8HUfhhHZIEbzKx0ulhCYF'}, {'post_id': '29', 'post_key': 'council', 'task_id': 12027141820, 'se_id': 22, 'loc_id': 9046112, 'key_id': 16939620, 'results_count': 2950000000, 'result_extra': 'people_also_ask,top_stories,images,local_pack', 'result_spell': '', 'result_spell_type': '', 'result_se_check_url': 'https://www.google.co.uk/search?q=council&num=100&hl=en&gl=GB&gws_rd=cr&ie=UTF-8&oe=UTF-8&uule=w+CAIQIFISCcM8HUfhhHZIEbzKx0ulhCYF'}, {'post_id': '30', 'post_key': 'podiatrist', 'task_id': 12027141836, 'se_id': 22, 'loc_id': 9046112, 'key_id': 729981, 'results_count': 61100000, 'result_extra': 'people_also_ask,images,local_pack', 'result_spell': '', 'result_spell_type': '', 'result_se_check_url': 'https://www.google.co.uk/search?q=podiatrist&num=100&hl=en&gl=GB&gws_rd=cr&ie=UTF-8&oe=UTF-8&uule=w+CAIQIFISCcM8HUfhhHZIEbzKx0ulhCYF'}, {'post_id': '31', 'post_key': 'aquarium', 'task_id': 12027141856, 'se_id': 22, 'loc_id': 9046112, 'key_id': 1211925, 'results_count': 336000000, 'result_extra': 'videos,top_stories,people_also_ask,images,carousel,local_pack', 'result_spell': '', 'result_spell_type': '', 'result_se_check_url': 'https://www.google.co.uk/search?q=aquarium&num=100&hl=en&gl=GB&gws_rd=cr&ie=UTF-8&oe=UTF-8&uule=w+CAIQIFISCcM8HUfhhHZIEbzKx0ulhCYF'}, {'post_id': '32', 'post_key': 'airplane', 'task_id': 12027141871, 'se_id': 22, 'loc_id': 9046112, 'key_id': 69478, 'results_count': 728000000, 'result_extra': 'answer_box,people_also_ask,images,top_stories,knowledge_graph,related_search,google_review', 'result_spell': '', 'result_spell_type': '', 'result_se_check_url': 'https://www.google.co.uk/search?q=airplane&num=100&hl=en&gl=GB&gws_rd=cr&ie=UTF-8&oe=UTF-8&uule=w+CAIQIFISCcM8HUfhhHZIEbzKx0ulhCYF'}, {'post_id': '33', 'post_key': 'auction house', 'task_id': 12027141887, 'se_id': 22, 'loc_id': 9046112, 'key_id': 245793, 'results_count': 506000000, 'result_extra': 'people_also_ask,videos,local_pack', 'result_spell': '', 'result_spell_type': '', 'result_se_check_url': 'https://www.google.co.uk/search?q=auction%20house&num=100&hl=en&gl=GB&gws_rd=cr&ie=UTF-8&oe=UTF-8&uule=w+CAIQIFISCcM8HUfhhHZIEbzKx0ulhCYF'}, {'post_id': '34', 'post_key': 'airport', 'task_id': 12027141905, 'se_id': 22, 'loc_id': 9046112, 'key_id': 1560605, 'results_count': 3340000000, 'result_extra': 'top_stories,videos,people_also_ask,images,local_pack', 'result_spell': '', 'result_spell_type': '', 'result_se_check_url': 'https://www.google.co.uk/search?q=airport&num=100&hl=en&gl=GB&gws_rd=cr&ie=UTF-8&oe=UTF-8&uule=w+CAIQIFISCcM8HUfhhHZIEbzKx0ulhCYF'}, {'post_id': '35', 'post_key': 'archive', 'task_id': 12027141926, 'se_id': 22, 'loc_id': 9046112, 'key_id': 4150549, 'results_count': 7630000000, 'result_extra': 'people_also_ask,top_stories,twitter,related_search', 'result_spell': '', 'result_spell_type': '', 'result_se_check_url': 'https://www.google.co.uk/search?q=archive&num=100&hl=en&gl=GB&gws_rd=cr&ie=UTF-8&oe=UTF-8&uule=w+CAIQIFISCcM8HUfhhHZIEbzKx0ulhCYF'}, {'post_id': '36', 'post_key': 'pub', 'task_id': 12027141946, 'se_id': 22, 'loc_id': 9046112, 'key_id': 1212986, 'results_count': 2790000000, 'result_extra': 'people_also_ask,top_stories,images,carousel,local_pack', 'result_spell': '', 'result_spell_type': '', 'result_se_check_url': 'https://www.google.co.uk/search?q=pub&num=100&hl=en&gl=GB&gws_rd=cr&ie=UTF-8&oe=UTF-8&uule=w+CAIQIFISCcM8HUfhhHZIEbzKx0ulhCYF'}, {'post_id': '37', 'post_key': 'psychic', 'task_id': 12027141965, 'se_id': 22, 'loc_id': 9046112, 'key_id': 908692, 'results_count': 110000000, 'result_extra': 'people_also_ask,top_stories,videos,images,knowledge_graph,related_search,google_review,local_pack', 'result_spell': '', 'result_spell_type': '', 'result_se_check_url': 'https://www.google.co.uk/search?q=psychic&num=100&hl=en&gl=GB&gws_rd=cr&ie=UTF-8&oe=UTF-8&uule=w+CAIQIFISCcM8HUfhhHZIEbzKx0ulhCYF'}, {'post_id': '38', 'post_key': 'chinese restaurant', 'task_id': 12027141987, 'se_id': 22, 'loc_id': 9046112, 'key_id': 4783776, 'results_count': 579000000, 'result_extra': 'top_stories,people_also_ask,carousel,local_pack', 'result_spell': '', 'result_spell_type': '', 'result_se_check_url': 'https://www.google.co.uk/search?q=chinese%20restaurant&num=100&hl=en&gl=GB&gws_rd=cr&ie=UTF-8&oe=UTF-8&uule=w+CAIQIFISCcM8HUfhhHZIEbzKx0ulhCYF'}, {'post_id': '39', 'post_key': 'courier service', 'task_id': 12027142024, 'se_id': 22, 'loc_id': 9046112, 'key_id': 840193, 'results_count': 335000000, 'result_extra': 'people_also_ask,images,local_pack', 'result_spell': '', 'result_spell_type': '', 'result_se_check_url': 'https://www.google.co.uk/search?q=courier%20service&num=100&hl=en&gl=GB&gws_rd=cr&ie=UTF-8&oe=UTF-8&uule=w+CAIQIFISCcM8HUfhhHZIEbzKx0ulhCYF'}, {'post_id': '40', 'post_key': 'italian restaurant', 'task_id': 12027142045, 'se_id': 22, 'loc_id': 9046112, 'key_id': 21251967, 'results_count': 405000000, 'result_extra': 'people_also_ask,top_stories,images,carousel,local_pack', 'result_spell': '', 'result_spell_type': '', 'result_se_check_url': 'https://www.google.co.uk/search?q=italian%20restaurant&num=100&hl=en&gl=GB&gws_rd=cr&ie=UTF-8&oe=UTF-8&uule=w+CAIQIFISCcM8HUfhhHZIEbzKx0ulhCYF'}, {'post_id': '41', 'post_key': 'church', 'task_id': 12027142068, 'se_id': 22, 'loc_id': 9046112, 'key_id': 2530819, 'results_count': 3750000000, 'result_extra': 'people_also_ask,images,local_pack', 'result_spell': '', 'result_spell_type': '', 'result_se_check_url': 'https://www.google.co.uk/search?q=church&num=100&hl=en&gl=GB&gws_rd=cr&ie=UTF-8&oe=UTF-8&uule=w+CAIQIFISCcM8HUfhhHZIEbzKx0ulhCYF'}, {'post_id': '42', 'post_key': 'doctor', 'task_id': 12027142090, 'se_id': 22, 'loc_id': 9046112, 'key_id': 2564390, 'results_count': 3020000000, 'result_extra': 'top_stories,people_also_ask,videos,images,local_pack', 'result_spell': '', 'result_spell_type': '', 'result_se_check_url': 'https://www.google.co.uk/search?q=doctor&num=100&hl=en&gl=GB&gws_rd=cr&ie=UTF-8&oe=UTF-8&uule=w+CAIQIFISCcM8HUfhhHZIEbzKx0ulhCYF'}, {'post_id': '43', 'post_key': 'psychiatrist', 'task_id': 12027142117, 'se_id': 22, 'loc_id': 9046112, 'key_id': 2606685, 'results_count': 71500000, 'result_extra': 'people_also_ask,images,local_pack', 'result_spell': '', 'result_spell_type': '', 'result_se_check_url': 'https://www.google.co.uk/search?q=psychiatrist&num=100&hl=en&gl=GB&gws_rd=cr&ie=UTF-8&oe=UTF-8&uule=w+CAIQIFISCcM8HUfhhHZIEbzKx0ulhCYF'}, {'post_id': '44', 'post_key': 'lighthouse', 'task_id': 12027142145, 'se_id': 22, 'loc_id': 9046112, 'key_id': 3557287, 'results_count': 222000000, 'result_extra': 'people_also_ask,videos,knowledge_graph,google_review,local_pack', 'result_spell': '', 'result_spell_type': '', 'result_se_check_url': 'https://www.google.co.uk/search?q=lighthouse&num=100&hl=en&gl=GB&gws_rd=cr&ie=UTF-8&oe=UTF-8&uule=w+CAIQIFISCcM8HUfhhHZIEbzKx0ulhCYF'}, {'post_id': '45', 'post_key': 'hostel', 'task_id': 12027142174, 'se_id': 22, 'loc_id': 9046112, 'key_id': 836562, 'results_count': 418000000, 'result_extra': 'answer_box,people_also_ask,top_stories,videos,images,knowledge_graph,related_search,google_review', 'result_spell': '', 'result_spell_type': '', 'result_se_check_url': 'https://www.google.co.uk/search?q=hostel&num=100&hl=en&gl=GB&gws_rd=cr&ie=UTF-8&oe=UTF-8&uule=w+CAIQIFISCcM8HUfhhHZIEbzKx0ulhCYF'}, {'post_id': '46', 'post_key': 'pyramid', 'task_id': 12027142200, 'se_id': 22, 'loc_id': 9046112, 'key_id': 2124388, 'results_count': 312000000, 'result_extra': 'videos,people_also_ask,knowledge_graph,google_review,local_pack', 'result_spell': '', 'result_spell_type': '', 'result_se_check_url': 'https://www.google.co.uk/search?q=pyramid&num=100&hl=en&gl=GB&gws_rd=cr&ie=UTF-8&oe=UTF-8&uule=w+CAIQIFISCcM8HUfhhHZIEbzKx0ulhCYF'}, {'post_id': '47', 'post_key': 'locksmith', 'task_id': 12027142223, 'se_id': 22, 'loc_id': 9046112, 'key_id': 331173, 'results_count': 30600000, 'result_extra': 'people_also_ask,images,local_pack', 'result_spell': '', 'result_spell_type': '', 'result_se_check_url': 'https://www.google.co.uk/search?q=locksmith&num=100&hl=en&gl=GB&gws_rd=cr&ie=UTF-8&oe=UTF-8&uule=w+CAIQIFISCcM8HUfhhHZIEbzKx0ulhCYF'}, {'post_id': '48', 'post_key': 'museum', 'task_id': 12027142252, 'se_id': 22, 'loc_id': 9046112, 'key_id': 2537741, 'results_count': 3290000000, 'result_extra': 'images,top_stories,people_also_ask,local_pack', 'result_spell': '', 'result_spell_type': '', 'result_se_check_url': 'https://www.google.co.uk/search?q=museum&num=100&hl=en&gl=GB&gws_rd=cr&ie=UTF-8&oe=UTF-8&uule=w+CAIQIFISCcM8HUfhhHZIEbzKx0ulhCYF'}, {'post_id': '49', 'post_key': 'electrician', 'task_id': 12027142279, 'se_id': 22, 'loc_id': 9046112, 'key_id': 862644, 'results_count': 155000000, 'result_extra': 'people_also_ask,videos,images,local_pack', 'result_spell': '', 'result_spell_type': '', 'result_se_check_url': 'https://www.google.co.uk/search?q=electrician&num=100&hl=en&gl=GB&gws_rd=cr&ie=UTF-8&oe=UTF-8&uule=w+CAIQIFISCcM8HUfhhHZIEbzKx0ulhCYF'}, {'post_id': '50', 'post_key': 'charity', 'task_id': 12027142319, 'se_id': 22, 'loc_id': 9046112, 'key_id': 55281, 'results_count': 1170000000, 'result_extra': 'people_also_ask,top_stories,videos,knowledge_graph,google_review,local_pack', 'result_spell': '', 'result_spell_type': '', 'result_se_check_url': 'https://www.google.co.uk/search?q=charity&num=100&hl=en&gl=GB&gws_rd=cr&ie=UTF-8&oe=UTF-8&uule=w+CAIQIFISCcM8HUfhhHZIEbzKx0ulhCYF'}, {'post_id': '51', 'post_key': 'foundation', 'task_id': 12027142360, 'se_id': 22, 'loc_id': 9046112, 'key_id': 325893, 'results_count': 4260000000, 'result_extra': 'people_also_ask,images,videos,shopping,local_pack', 'result_spell': '', 'result_spell_type': '', 'result_se_check_url': 'https://www.google.co.uk/search?q=foundation&num=100&hl=en&gl=GB&gws_rd=cr&ie=UTF-8&oe=UTF-8&uule=w+CAIQIFISCcM8HUfhhHZIEbzKx0ulhCYF'}, {'post_id': '52', 'post_key': 'architect', 'task_id': 12027142401, 'se_id': 22, 'loc_id': 9046112, 'key_id': 863526, 'results_count': 725000000, 'result_extra': 'people_also_ask,top_stories,images,knowledge_graph,google_review,local_pack', 'result_spell': '', 'result_spell_type': '', 'result_se_check_url': 'https://www.google.co.uk/search?q=architect&num=100&hl=en&gl=GB&gws_rd=cr&ie=UTF-8&oe=UTF-8&uule=w+CAIQIFISCcM8HUfhhHZIEbzKx0ulhCYF'}, {'post_id': '53', 'post_key': 'prison', 'task_id': 12027142444, 'se_id': 22, 'loc_id': 9046112, 'key_id': 2795266, 'results_count': 979000000, 'result_extra': 'top_stories,people_also_ask,videos,images,local_pack', 'result_spell': '', 'result_spell_type': '', 'result_se_check_url': 'https://www.google.co.uk/search?q=prison&num=100&hl=en&gl=GB&gws_rd=cr&ie=UTF-8&oe=UTF-8&uule=w+CAIQIFISCcM8HUfhhHZIEbzKx0ulhCYF'}, {'post_id': '54', 'post_key': 'club', 'task_id': 12027142476, 'se_id': 22, 'loc_id': 9046112, 'key_id': 2111001, 'results_count': 13770000000, 'result_extra': 'people_also_ask,videos,images,carousel,local_pack', 'result_spell': '', 'result_spell_type': '', 'result_se_check_url': 'https://www.google.co.uk/search?q=club&num=100&hl=en&gl=GB&gws_rd=cr&ie=UTF-8&oe=UTF-8&uule=w+CAIQIFISCcM8HUfhhHZIEbzKx0ulhCYF'}, {'post_id': '55', 'post_key': 'train station', 'task_id': 12027142511, 'se_id': 22, 'loc_id': 9046112, 'key_id': 8413520, 'results_count': 4370000000, 'result_extra': 'top_stories,images,videos,people_also_ask,local_pack', 'result_spell': '', 'result_spell_type': '', 'result_se_check_url': 'https://www.google.co.uk/search?q=train%20station&num=100&hl=en&gl=GB&gws_rd=cr&ie=UTF-8&oe=UTF-8&uule=w+CAIQIFISCcM8HUfhhHZIEbzKx0ulhCYF'}, {'post_id': '56', 'post_key': 'psychologist', 'task_id': 12027142540, 'se_id': 22, 'loc_id': 9046112, 'key_id': 398575, 'results_count': 169000000, 'result_extra': 'people_also_ask,images,videos,local_pack', 'result_spell': '', 'result_spell_type': '', 'result_se_check_url': 'https://www.google.co.uk/search?q=psychologist&num=100&hl=en&gl=GB&gws_rd=cr&ie=UTF-8&oe=UTF-8&uule=w+CAIQIFISCcM8HUfhhHZIEbzKx0ulhCYF'}, {'post_id': '57', 'post_key': 'plumber', 'task_id': 12027142569, 'se_id': 22, 'loc_id': 9046112, 'key_id': 1201490, 'results_count': 978000000, 'result_extra': 'people_also_ask,images,local_pack', 'result_spell': '', 'result_spell_type': '', 'result_se_check_url': 'https://www.google.co.uk/search?q=plumber&num=100&hl=en&gl=GB&gws_rd=cr&ie=UTF-8&oe=UTF-8&uule=w+CAIQIFISCcM8HUfhhHZIEbzKx0ulhCYF'}, {'post_id': '58', 'post_key': 'orthodontist', 'task_id': 12027142592, 'se_id': 22, 'loc_id': 9046112, 'key_id': 202388, 'results_count': 43700000, 'result_extra': 'people_also_ask,images,local_pack', 'result_spell': '', 'result_spell_type': '', 'result_se_check_url': 'https://www.google.co.uk/search?q=orthodontist&num=100&hl=en&gl=GB&gws_rd=cr&ie=UTF-8&oe=UTF-8&uule=w+CAIQIFISCcM8HUfhhHZIEbzKx0ulhCYF'}, {'post_id': '59', 'post_key': 'dermatologist', 'task_id': 12027142614, 'se_id': 22, 'loc_id': 9046112, 'key_id': 267477, 'results_count': 141000000, 'result_extra': 'people_also_ask,local_pack', 'result_spell': '', 'result_spell_type': '', 'result_se_check_url': 'https://www.google.co.uk/search?q=dermatologist&num=100&hl=en&gl=GB&gws_rd=cr&ie=UTF-8&oe=UTF-8&uule=w+CAIQIFISCcM8HUfhhHZIEbzKx0ulhCYF'}, {'post_id': '60', 'post_key': 'engineer', 'task_id': 12027142634, 'se_id': 22, 'loc_id': 9046112, 'key_id': 863614, 'results_count': 7740000000, 'result_extra': 'people_also_ask,top_stories,images,local_pack', 'result_spell': '', 'result_spell_type': '', 'result_se_check_url': 'https://www.google.co.uk/search?q=engineer&num=100&hl=en&gl=GB&gws_rd=cr&ie=UTF-8&oe=UTF-8&uule=w+CAIQIFISCcM8HUfhhHZIEbzKx0ulhCYF'}, {'post_id': '61', 'post_key': 'accountant', 'task_id': 12027142653, 'se_id': 22, 'loc_id': 9046112, 'key_id': 864928, 'results_count': 323000000, 'result_extra': 'people_also_ask,images,local_pack', 'result_spell': '', 'result_spell_type': '', 'result_se_check_url': 'https://www.google.co.uk/search?q=accountant&num=100&hl=en&gl=GB&gws_rd=cr&ie=UTF-8&oe=UTF-8&uule=w+CAIQIFISCcM8HUfhhHZIEbzKx0ulhCYF'}, {'post_id': '62', 'post_key': 'police academy', 'task_id': 12027142670, 'se_id': 22, 'loc_id': 9046112, 'key_id': 28358203, 'results_count': 392000000, 'result_extra': 'answer_box,people_also_ask,top_stories,knowledge_graph,related_search,google_review', 'result_spell': '', 'result_spell_type': '', 'result_se_check_url': 'https://www.google.co.uk/search?q=police%20academy&num=100&hl=en&gl=GB&gws_rd=cr&ie=UTF-8&oe=UTF-8&uule=w+CAIQIFISCcM8HUfhhHZIEbzKx0ulhCYF'}, {'post_id': '63', 'post_key': 'thai restaurant', 'task_id': 12027142694, 'se_id': 22, 'loc_id': 9046112, 'key_id': 7347391, 'results_count': 279000000, 'result_extra': 'images,carousel,local_pack', 'result_spell': '', 'result_spell_type': '', 'result_se_check_url': 'https://www.google.co.uk/search?q=thai%20restaurant&num=100&hl=en&gl=GB&gws_rd=cr&ie=UTF-8&oe=UTF-8&uule=w+CAIQIFISCcM8HUfhhHZIEbzKx0ulhCYF'}, {'post_id': '64', 'post_key': 'market', 'task_id': 12027142710, 'se_id': 22, 'loc_id': 9046112, 'key_id': 1560319, 'results_count': 12310000000, 'result_extra': 'top_stories,people_also_ask,images,local_pack', 'result_spell': '', 'result_spell_type': '', 'result_se_check_url': 'https://www.google.co.uk/search?q=market&num=100&hl=en&gl=GB&gws_rd=cr&ie=UTF-8&oe=UTF-8&uule=w+CAIQIFISCcM8HUfhhHZIEbzKx0ulhCYF'}, {'post_id': '65', 'post_key': 'car wash', 'task_id': 12027142725, 'se_id': 22, 'loc_id': 9046112, 'key_id': 3316314, 'results_count': 704000000, 'result_extra': 'videos,people_also_ask,images,top_stories,local_pack', 'result_spell': '', 'result_spell_type': '', 'result_se_check_url': 'https://www.google.co.uk/search?q=car%20wash&num=100&hl=en&gl=GB&gws_rd=cr&ie=UTF-8&oe=UTF-8&uule=w+CAIQIFISCcM8HUfhhHZIEbzKx0ulhCYF'}, {'post_id': '66', 'post_key': 'game store', 'task_id': 12027142746, 'se_id': 22, 'loc_id': 9046112, 'key_id': 3992698, 'results_count': 18360000000, 'result_extra': 'twitter,videos,people_also_ask,local_pack', 'result_spell': '', 'result_spell_type': '', 'result_se_check_url': 'https://www.google.co.uk/search?q=game%20store&num=100&hl=en&gl=GB&gws_rd=cr&ie=UTF-8&oe=UTF-8&uule=w+CAIQIFISCcM8HUfhhHZIEbzKx0ulhCYF'}, {'post_id': '67', 'post_key': 'sauna', 'task_id': 12027142767, 'se_id': 22, 'loc_id': 9046112, 'key_id': 791724, 'results_count': 358000000, 'result_extra': 'people_also_ask,images,videos,top_stories,shopping,local_pack', 'result_spell': '', 'result_spell_type': '', 'result_se_check_url': 'https://www.google.co.uk/search?q=sauna&num=100&hl=en&gl=GB&gws_rd=cr&ie=UTF-8&oe=UTF-8&uule=w+CAIQIFISCcM8HUfhhHZIEbzKx0ulhCYF'}, {'post_id': '68', 'post_key': 'mosque', 'task_id': 12027142788, 'se_id': 22, 'loc_id': 9046112, 'key_id': 19907181, 'results_count': 207000000, 'result_extra': 'top_stories,local_pack', 'result_spell': '', 'result_spell_type': '', 'result_se_check_url': 'https://www.google.co.uk/search?q=mosque&num=100&hl=en&gl=GB&gws_rd=cr&ie=UTF-8&oe=UTF-8&uule=w+CAIQIFISCcM8HUfhhHZIEbzKx0ulhCYF'}, {'post_id': '69', 'post_key': 'marina', 'task_id': 12027142805, 'se_id': 22, 'loc_id': 9046112, 'key_id': 2105138, 'results_count': 1430000000, 'result_extra': 'people_also_ask,twitter,videos,images,knowledge_graph,related_search,google_review,local_pack', 'result_spell': '', 'result_spell_type': '', 'result_se_check_url': 'https://www.google.co.uk/search?q=marina&num=100&hl=en&gl=GB&gws_rd=cr&ie=UTF-8&oe=UTF-8&uule=w+CAIQIFISCcM8HUfhhHZIEbzKx0ulhCYF'}, {'post_id': '70', 'post_key': 'arboretum', 'task_id': 12027142822, 'se_id': 22, 'loc_id': 9046112, 'key_id': 41604489, 'results_count': 24300000, 'result_extra': 'people_also_ask,images,top_stories,carousel,local_pack', 'result_spell': '', 'result_spell_type': '', 'result_se_check_url': 'https://www.google.co.uk/search?q=arboretum&num=100&hl=en&gl=GB&gws_rd=cr&ie=UTF-8&oe=UTF-8&uule=w+CAIQIFISCcM8HUfhhHZIEbzKx0ulhCYF'}, {'post_id': '71', 'post_key': 'chimney sweep', 'task_id': 12027142837, 'se_id': 22, 'loc_id': 9046112, 'key_id': 3445065, 'results_count': 16700000, 'result_extra': 'people_also_ask,images,local_pack', 'result_spell': '', 'result_spell_type': '', 'result_se_check_url': 'https://www.google.co.uk/search?q=chimney%20sweep&num=100&hl=en&gl=GB&gws_rd=cr&ie=UTF-8&oe=UTF-8&uule=w+CAIQIFISCcM8HUfhhHZIEbzKx0ulhCYF'}, {'post_id': '72', 'post_key': 'personal trainer', 'task_id': 12027142855, 'se_id': 22, 'loc_id': 9046112, 'key_id': 244634, 'results_count': 553000000, 'result_extra': 'people_also_ask,top_stories,images,local_pack', 'result_spell': '', 'result_spell_type': '', 'result_se_check_url': 'https://www.google.co.uk/search?q=personal%20trainer&num=100&hl=en&gl=GB&gws_rd=cr&ie=UTF-8&oe=UTF-8&uule=w+CAIQIFISCcM8HUfhhHZIEbzKx0ulhCYF'}, {'post_id': '73', 'post_key': 'farm', 'task_id': 12027142871, 'se_id': 22, 'loc_id': 9046112, 'key_id': 1212278, 'results_count': 3680000000, 'result_extra': 'images,people_also_ask,videos,local_pack', 'result_spell': '', 'result_spell_type': '', 'result_se_check_url': 'https://www.google.co.uk/search?q=farm&num=100&hl=en&gl=GB&gws_rd=cr&ie=UTF-8&oe=UTF-8&uule=w+CAIQIFISCcM8HUfhhHZIEbzKx0ulhCYF'}, {'post_id': '74', 'post_key': 'catholic church', 'task_id': 12027142886, 'se_id': 22, 'loc_id': 9046112, 'key_id': 2650593, 'results_count': 527000000, 'result_extra': 'people_also_ask,top_stories,videos,local_pack', 'result_spell': '', 'result_spell_type': '', 'result_se_check_url': 'https://www.google.co.uk/search?q=catholic%20church&num=100&hl=en&gl=GB&gws_rd=cr&ie=UTF-8&oe=UTF-8&uule=w+CAIQIFISCcM8HUfhhHZIEbzKx0ulhCYF'}, {'post_id': '75', 'post_key': 'mechanic', 'task_id': 12027142905, 'se_id': 22, 'loc_id': 9046112, 'key_id': 326895, 'results_count': 757000000, 'result_extra': 'people_also_ask,videos,top_stories,images,local_pack', 'result_spell': '', 'result_spell_type': '', 'result_se_check_url': 'https://www.google.co.uk/search?q=mechanic&num=100&hl=en&gl=GB&gws_rd=cr&ie=UTF-8&oe=UTF-8&uule=w+CAIQIFISCcM8HUfhhHZIEbzKx0ulhCYF'}, {'post_id': '76', 'post_key': 'cemetery', 'task_id': 12027142924, 'se_id': 22, 'loc_id': 9046112, 'key_id': 4512925, 'results_count': 480000000, 'result_extra': 'people_also_ask,videos,top_stories,knowledge_graph,local_pack', 'result_spell': '', 'result_spell_type': '', 'result_se_check_url': 'https://www.google.co.uk/search?q=cemetery&num=100&hl=en&gl=GB&gws_rd=cr&ie=UTF-8&oe=UTF-8&uule=w+CAIQIFISCcM8HUfhhHZIEbzKx0ulhCYF'}, {'post_id': '77', 'post_key': 'boutique', 'task_id': 12027142936, 'se_id': 22, 'loc_id': 9046112, 'key_id': 2640882, 'results_count': 2270000000, 'result_extra': 'people_also_ask,top_stories,images,videos,shopping,carousel,local_pack', 'result_spell': '', 'result_spell_type': '', 'result_se_check_url': 'https://www.google.co.uk/search?q=boutique&num=100&hl=en&gl=GB&gws_rd=cr&ie=UTF-8&oe=UTF-8&uule=w+CAIQIFISCcM8HUfhhHZIEbzKx0ulhCYF'}, {'post_id': '78', 'post_key': 'coffee shop', 'task_id': 12027142953, 'se_id': 22, 'loc_id': 9046112, 'key_id': 4094529, 'results_count': 2620000000, 'result_extra': 'people_also_ask,images,videos,carousel,local_pack', 'result_spell': '', 'result_spell_type': '', 'result_se_check_url': 'https://www.google.co.uk/search?q=coffee%20shop&num=100&hl=en&gl=GB&gws_rd=cr&ie=UTF-8&oe=UTF-8&uule=w+CAIQIFISCcM8HUfhhHZIEbzKx0ulhCYF'}, {'post_id': '79', 'post_key': 'optometrist', 'task_id': 12027142970, 'se_id': 22, 'loc_id': 9046112, 'key_id': 963651, 'results_count': 94000000, 'result_extra': 'people_also_ask,images,local_pack', 'result_spell': '', 'result_spell_type': '', 'result_se_check_url': 'https://www.google.co.uk/search?q=optometrist&num=100&hl=en&gl=GB&gws_rd=cr&ie=UTF-8&oe=UTF-8&uule=w+CAIQIFISCcM8HUfhhHZIEbzKx0ulhCYF'}, {'post_id': '80', 'post_key': 'laundry', 'task_id': 12027142986, 'se_id': 22, 'loc_id': 9046112, 'key_id': 1562426, 'results_count': 1130000000, 'result_extra': 'people_also_ask,top_stories,images,videos,local_pack', 'result_spell': '', 'result_spell_type': '', 'result_se_check_url': 'https://www.google.co.uk/search?q=laundry&num=100&hl=en&gl=GB&gws_rd=cr&ie=UTF-8&oe=UTF-8&uule=w+CAIQIFISCcM8HUfhhHZIEbzKx0ulhCYF'}, {'post_id': '81', 'post_key': 'photographer', 'task_id': 12027143002, 'se_id': 22, 'loc_id': 9046112, 'key_id': 1231888, 'results_count': 14580000000, 'result_extra': 'top_stories,people_also_ask,images,videos,local_pack', 'result_spell': '', 'result_spell_type': '', 'result_se_check_url': 'https://www.google.co.uk/search?q=photographer&num=100&hl=en&gl=GB&gws_rd=cr&ie=UTF-8&oe=UTF-8&uule=w+CAIQIFISCcM8HUfhhHZIEbzKx0ulhCYF'}, {'post_id': '82', 'post_key': 'motel', 'task_id': 12027143018, 'se_id': 22, 'loc_id': 9046112, 'key_id': 2459388, 'results_count': 449000000, 'result_extra': 'people_also_ask,answer_box,images,top_stories,videos', 'result_spell': '', 'result_spell_type': '', 'result_se_check_url': 'https://www.google.co.uk/search?q=motel&num=100&hl=en&gl=GB&gws_rd=cr&ie=UTF-8&oe=UTF-8&uule=w+CAIQIFISCcM8HUfhhHZIEbzKx0ulhCYF'}, {'post_id': '83', 'post_key': 'florist', 'task_id': 12027143032, 'se_id': 22, 'loc_id': 9046112, 'key_id': 142708, 'results_count': 148000000, 'result_extra': 'people_also_ask,images,local_pack', 'result_spell': '', 'result_spell_type': '', 'result_se_check_url': 'https://www.google.co.uk/search?q=florist&num=100&hl=en&gl=GB&gws_rd=cr&ie=UTF-8&oe=UTF-8&uule=w+CAIQIFISCcM8HUfhhHZIEbzKx0ulhCYF'}, {'post_id': '84', 'post_key': 'car service', 'task_id': 12027143051, 'se_id': 22, 'loc_id': 9046112, 'key_id': 474551, 'results_count': 10730000000, 'result_extra': 'people_also_ask,images,local_pack', 'result_spell': '', 'result_spell_type': '', 'result_se_check_url': 'https://www.google.co.uk/search?q=car%20service&num=100&hl=en&gl=GB&gws_rd=cr&ie=UTF-8&oe=UTF-8&uule=w+CAIQIFISCcM8HUfhhHZIEbzKx0ulhCYF'}, {'post_id': '85', 'post_key': 'handyman', 'task_id': 12027143065, 'se_id': 22, 'loc_id': 9046112, 'key_id': 702514, 'results_count': 125000000, 'result_extra': 'people_also_ask,images,videos,local_pack', 'result_spell': '', 'result_spell_type': '', 'result_se_check_url': 'https://www.google.co.uk/search?q=handyman&num=100&hl=en&gl=GB&gws_rd=cr&ie=UTF-8&oe=UTF-8&uule=w+CAIQIFISCcM8HUfhhHZIEbzKx0ulhCYF'}, {'post_id': '86', 'post_key': 'turkish restaurant', 'task_id': 12027143085, 'se_id': 22, 'loc_id': 9046112, 'key_id': 4785342, 'results_count': 147000000, 'result_extra': 'carousel,local_pack', 'result_spell': '', 'result_spell_type': '', 'result_se_check_url': 'https://www.google.co.uk/search?q=turkish%20restaurant&num=100&hl=en&gl=GB&gws_rd=cr&ie=UTF-8&oe=UTF-8&uule=w+CAIQIFISCcM8HUfhhHZIEbzKx0ulhCYF'}, {'post_id': '87', 'post_key': 'carpenter', 'task_id': 12027143100, 'se_id': 22, 'loc_id': 9046112, 'key_id': 2649843, 'results_count': 325000000, 'result_extra': 'people_also_ask,images,local_pack', 'result_spell': '', 'result_spell_type': '', 'result_se_check_url': 'https://www.google.co.uk/search?q=carpenter&num=100&hl=en&gl=GB&gws_rd=cr&ie=UTF-8&oe=UTF-8&uule=w+CAIQIFISCcM8HUfhhHZIEbzKx0ulhCYF'}, {'post_id': '88', 'post_key': 'hardware store', 'task_id': 12027143116, 'se_id': 22, 'loc_id': 9046112, 'key_id': 4055856, 'results_count': 1130000000, 'result_extra': 'images,people_also_ask,videos,local_pack', 'result_spell': '', 'result_spell_type': '', 'result_se_check_url': 'https://www.google.co.uk/search?q=hardware%20store&num=100&hl=en&gl=GB&gws_rd=cr&ie=UTF-8&oe=UTF-8&uule=w+CAIQIFISCcM8HUfhhHZIEbzKx0ulhCYF'}, {'post_id': '89', 'post_key': 'structural engineer', 'task_id': 12027143131, 'se_id': 22, 'loc_id': 9046112, 'key_id': 958476, 'results_count': 197000000, 'result_extra': 'people_also_ask,images,local_pack', 'result_spell': '', 'result_spell_type': '', 'result_se_check_url': 'https://www.google.co.uk/search?q=structural%20engineer&num=100&hl=en&gl=GB&gws_rd=cr&ie=UTF-8&oe=UTF-8&uule=w+CAIQIFISCcM8HUfhhHZIEbzKx0ulhCYF'}, {'post_id': '90', 'post_key': 'synagogue', 'task_id': 12027143148, 'se_id': 22, 'loc_id': 9046112, 'key_id': 6926606, 'results_count': 65800000, 'result_extra': 'top_stories,knowledge_graph,local_pack', 'result_spell': '', 'result_spell_type': '', 'result_se_check_url': 'https://www.google.co.uk/search?q=synagogue&num=100&hl=en&gl=GB&gws_rd=cr&ie=UTF-8&oe=UTF-8&uule=w+CAIQIFISCcM8HUfhhHZIEbzKx0ulhCYF'}, {'post_id': '91', 'post_key': 'hairdresser', 'task_id': 12027143167, 'se_id': 22, 'loc_id': 9046112, 'key_id': 398658, 'results_count': 166000000, 'result_extra': 'videos,people_also_ask,images,local_pack', 'result_spell': '', 'result_spell_type': '', 'result_se_check_url': 'https://www.google.co.uk/search?q=hairdresser&num=100&hl=en&gl=GB&gws_rd=cr&ie=UTF-8&oe=UTF-8&uule=w+CAIQIFISCcM8HUfhhHZIEbzKx0ulhCYF'}, {'post_id': '92', 'post_key': 'lawyer', 'task_id': 12027143183, 'se_id': 22, 'loc_id': 9046112, 'key_id': 333480, 'results_count': 983000000, 'result_extra': 'people_also_ask,top_stories,images,videos,local_pack', 'result_spell': '', 'result_spell_type': '', 'result_se_check_url': 'https://www.google.co.uk/search?q=lawyer&num=100&hl=en&gl=GB&gws_rd=cr&ie=UTF-8&oe=UTF-8&uule=w+CAIQIFISCcM8HUfhhHZIEbzKx0ulhCYF'}, {'post_id': '93', 'post_key': 'mortgage broker', 'task_id': 12027143201, 'se_id': 22, 'loc_id': 9046112, 'key_id': 85100, 'results_count': 309000000, 'result_extra': 'people_also_ask,top_stories,local_pack', 'result_spell': '', 'result_spell_type': '', 'result_se_check_url': 'https://www.google.co.uk/search?q=mortgage%20broker&num=100&hl=en&gl=GB&gws_rd=cr&ie=UTF-8&oe=UTF-8&uule=w+CAIQIFISCcM8HUfhhHZIEbzKx0ulhCYF'}, {'post_id': '94', 'post_key': 'pediatrician', 'task_id': 12027143214, 'se_id': 22, 'loc_id': 9046112, 'key_id': 888129, 'results_count': 48600000, 'result_extra': 'people_also_ask,videos,top_stories,images,related_search,google_review,local_pack', 'result_spell': '', 'result_spell_type': '', 'result_se_check_url': 'https://www.google.co.uk/search?q=pediatrician&num=100&hl=en&gl=GB&gws_rd=cr&ie=UTF-8&oe=UTF-8&uule=w+CAIQIFISCcM8HUfhhHZIEbzKx0ulhCYF'}, {'post_id': '95', 'post_key': 'manufacturer', 'task_id': 12027143234, 'se_id': 22, 'loc_id': 9046112, 'key_id': 1926283, 'results_count': 6350000000, 'result_extra': 'answer_box,people_also_ask,images,local_pack', 'result_spell': '', 'result_spell_type': '', 'result_se_check_url': 'https://www.google.co.uk/search?q=manufacturer&num=100&hl=en&gl=GB&gws_rd=cr&ie=UTF-8&oe=UTF-8&uule=w+CAIQIFISCcM8HUfhhHZIEbzKx0ulhCYF'}, {'post_id': '96', 'post_key': 'camp', 'task_id': 12027143248, 'se_id': 22, 'loc_id': 9046112, 'key_id': 2715415, 'results_count': 5130000000, 'result_extra': 'people_also_ask,videos,images,knowledge_graph,carousel,local_pack', 'result_spell': '', 'result_spell_type': '', 'result_se_check_url': 'https://www.google.co.uk/search?q=camp&num=100&hl=en&gl=GB&gws_rd=cr&ie=UTF-8&oe=UTF-8&uule=w+CAIQIFISCcM8HUfhhHZIEbzKx0ulhCYF'}, {'post_id': '97', 'post_key': 'building society', 'task_id': 12027143266, 'se_id': 22, 'loc_id': 9046112, 'key_id': 41216079, 'results_count': 1430000000, 'result_extra': 'top_stories,videos,images,local_pack', 'result_spell': '', 'result_spell_type': '', 'result_se_check_url': 'https://www.google.co.uk/search?q=building%20society&num=100&hl=en&gl=GB&gws_rd=cr&ie=UTF-8&oe=UTF-8&uule=w+CAIQIFISCcM8HUfhhHZIEbzKx0ulhCYF'}, {'post_id': '98', 'post_key': 'patisserie', 'task_id': 12027143280, 'se_id': 22, 'loc_id': 9046112, 'key_id': 2598136, 'results_count': 165000000, 'result_extra': 'people_also_ask,images,carousel,local_pack', 'result_spell': '', 'result_spell_type': '', 'result_se_check_url': 'https://www.google.co.uk/search?q=patisserie&num=100&hl=en&gl=GB&gws_rd=cr&ie=UTF-8&oe=UTF-8&uule=w+CAIQIFISCcM8HUfhhHZIEbzKx0ulhCYF'}, {'post_id': '99', 'post_key': 'occupational therapist', 'task_id': 12027143296, 'se_id': 22, 'loc_id': 9046112, 'key_id': 611910, 'results_count': 95400000, 'result_extra': 'people_also_ask,knowledge_graph,local_pack', 'result_spell': '', 'result_spell_type': '', 'result_se_check_url': 'https://www.google.co.uk/search?q=occupational%20therapist&num=100&hl=en&gl=GB&gws_rd=cr&ie=UTF-8&oe=UTF-8&uule=w+CAIQIFISCcM8HUfhhHZIEbzKx0ulhCYF'}, {'post_id': '100', 'post_key': 'neurologist', 'task_id': 12027143313, 'se_id': 22, 'loc_id': 9046112, 'key_id': 867487, 'results_count': 108000000, 'result_extra': 'people_also_ask,videos,knowledge_graph,related_search,google_review,local_pack', 'result_spell': '', 'result_spell_type': '', 'result_se_check_url': 'https://www.google.co.uk/search?q=neurologist&num=100&hl=en&gl=GB&gws_rd=cr&ie=UTF-8&oe=UTF-8&uule=w+CAIQIFISCcM8HUfhhHZIEbzKx0ulhCYF'}, {'post_id': '101', 'post_key': 'barber shop', 'task_id': 12027143327, 'se_id': 22, 'loc_id': 9046112, 'key_id': 324807, 'results_count': 288000000, 'result_extra': 'videos,people_also_ask,images,top_stories,local_pack', 'result_spell': '', 'result_spell_type': '', 'result_se_check_url': 'https://www.google.co.uk/search?q=barber%20shop&num=100&hl=en&gl=GB&gws_rd=cr&ie=UTF-8&oe=UTF-8&uule=w+CAIQIFISCcM8HUfhhHZIEbzKx0ulhCYF'}, {'post_id': '102', 'post_key': 'greek restaurant', 'task_id': 12027143344, 'se_id': 22, 'loc_id': 9046112, 'key_id': 5873411, 'results_count': 237000000, 'result_extra': 'people_also_ask,carousel,local_pack', 'result_spell': '', 'result_spell_type': '', 'result_se_check_url': 'https://www.google.co.uk/search?q=greek%20restaurant&num=100&hl=en&gl=GB&gws_rd=cr&ie=UTF-8&oe=UTF-8&uule=w+CAIQIFISCcM8HUfhhHZIEbzKx0ulhCYF'}, {'post_id': '103', 'post_key': 'bakery', 'task_id': 12027143360, 'se_id': 22, 'loc_id': 9046112, 'key_id': 1922448, 'results_count': 677000000, 'result_extra': 'top_stories,people_also_ask,knowledge_graph,related_search,carousel,google_review,local_pack', 'result_spell': '', 'result_spell_type': '', 'result_se_check_url': 'https://www.google.co.uk/search?q=bakery&num=100&hl=en&gl=GB&gws_rd=cr&ie=UTF-8&oe=UTF-8&uule=w+CAIQIFISCcM8HUfhhHZIEbzKx0ulhCYF'}, {'post_id': '104', 'post_key': 'kindergarten', 'task_id': 12027143376, 'se_id': 22, 'loc_id': 9046112, 'key_id': 2557395, 'results_count': 522000000, 'result_extra': 'people_also_ask,videos,images,local_pack', 'result_spell': '', 'result_spell_type': '', 'result_se_check_url': 'https://www.google.co.uk/search?q=kindergarten&num=100&hl=en&gl=GB&gws_rd=cr&ie=UTF-8&oe=UTF-8&uule=w+CAIQIFISCcM8HUfhhHZIEbzKx0ulhCYF'}, {'post_id': '105', 'post_key': 'rock climbing', 'task_id': 12027143394, 'se_id': 22, 'loc_id': 9046112, 'key_id': 2691861, 'results_count': 248000000, 'result_extra': 'people_also_ask,videos,images,local_pack', 'result_spell': '', 'result_spell_type': '', 'result_se_check_url': 'https://www.google.co.uk/search?q=rock%20climbing&num=100&hl=en&gl=GB&gws_rd=cr&ie=UTF-8&oe=UTF-8&uule=w+CAIQIFISCcM8HUfhhHZIEbzKx0ulhCYF'}, {'post_id': '106', 'post_key': 'wedding planner', 'task_id': 12027143424, 'se_id': 22, 'loc_id': 9046112, 'key_id': 78011, 'results_count': 236000000, 'result_extra': 'people_also_ask,images,shopping,local_pack', 'result_spell': '', 'result_spell_type': '', 'result_se_check_url': 'https://www.google.co.uk/search?q=wedding%20planner&num=100&hl=en&gl=GB&gws_rd=cr&ie=UTF-8&oe=UTF-8&uule=w+CAIQIFISCcM8HUfhhHZIEbzKx0ulhCYF'}, {'post_id': '107', 'post_key': 'driving school', 'task_id': 12027143441, 'se_id': 22, 'loc_id': 9046112, 'key_id': 204399, 'results_count': 1410000000, 'result_extra': 'people_also_ask,videos,images,local_pack', 'result_spell': '', 'result_spell_type': '', 'result_se_check_url': 'https://www.google.co.uk/search?q=driving%20school&num=100&hl=en&gl=GB&gws_rd=cr&ie=UTF-8&oe=UTF-8&uule=w+CAIQIFISCcM8HUfhhHZIEbzKx0ulhCYF'}, {'post_id': '108', 'post_key': 'goldsmith', 'task_id': 12027143464, 'se_id': 22, 'loc_id': 9046112, 'key_id': 51764773, 'results_count': 55900000, 'result_extra': 'people_also_ask,twitter,videos,images,carousel,local_pack', 'result_spell': '', 'result_spell_type': '', 'result_se_check_url': 'https://www.google.co.uk/search?q=goldsmith&num=100&hl=en&gl=GB&gws_rd=cr&ie=UTF-8&oe=UTF-8&uule=w+CAIQIFISCcM8HUfhhHZIEbzKx0ulhCYF'}, {'post_id': '109', 'post_key': 'surveyor', 'task_id': 12027143509, 'se_id': 22, 'loc_id': 9046112, 'key_id': 863769, 'results_count': 124000000, 'result_extra': 'people_also_ask,images,local_pack', 'result_spell': '', 'result_spell_type': '', 'result_se_check_url': 'https://www.google.co.uk/search?q=surveyor&num=100&hl=en&gl=GB&gws_rd=cr&ie=UTF-8&oe=UTF-8&uule=w+CAIQIFISCcM8HUfhhHZIEbzKx0ulhCYF'}, {'post_id': '110', 'post_key': 'comedy club', 'task_id': 12027143543, 'se_id': 22, 'loc_id': 9046112, 'key_id': 4744149, 'results_count': 707000000, 'result_extra': 'people_also_ask,top_stories,videos,images,carousel,local_pack', 'result_spell': '', 'result_spell_type': '', 'result_se_check_url': 'https://www.google.co.uk/search?q=comedy%20club&num=100&hl=en&gl=GB&gws_rd=cr&ie=UTF-8&oe=UTF-8&uule=w+CAIQIFISCcM8HUfhhHZIEbzKx0ulhCYF'}, {'post_id': '111', 'post_key': 'tailor', 'task_id': 12027143571, 'se_id': 22, 'loc_id': 9046112, 'key_id': 1624983, 'results_count': 878000000, 'result_extra': 'answer_box,people_also_ask,images,videos,local_pack', 'result_spell': '', 'result_spell_type': '', 'result_se_check_url': 'https://www.google.co.uk/search?q=tailor&num=100&hl=en&gl=GB&gws_rd=cr&ie=UTF-8&oe=UTF-8&uule=w+CAIQIFISCcM8HUfhhHZIEbzKx0ulhCYF'}, {'post_id': '112', 'post_key': 'japanese restaurant', 'task_id': 12027143597, 'se_id': 22, 'loc_id': 9046112, 'key_id': 4784273, 'results_count': 380000000, 'result_extra': 'carousel,local_pack', 'result_spell': '', 'result_spell_type': '', 'result_se_check_url': 'https://www.google.co.uk/search?q=japanese%20restaurant&num=100&hl=en&gl=GB&gws_rd=cr&ie=UTF-8&oe=UTF-8&uule=w+CAIQIFISCcM8HUfhhHZIEbzKx0ulhCYF'}, {'post_id': '113', 'post_key': 'nutritionist', 'task_id': 12027143620, 'se_id': 22, 'loc_id': 9046112, 'key_id': 1316969, 'results_count': 49700000, 'result_extra': 'people_also_ask,images,videos,local_pack', 'result_spell': '', 'result_spell_type': '', 'result_se_check_url': 'https://www.google.co.uk/search?q=nutritionist&num=100&hl=en&gl=GB&gws_rd=cr&ie=UTF-8&oe=UTF-8&uule=w+CAIQIFISCcM8HUfhhHZIEbzKx0ulhCYF'}, {'post_id': '114', 'post_key': 'blacksmith', 'task_id': 12027143646, 'se_id': 22, 'loc_id': 9046112, 'key_id': 15661586, 'results_count': 60300000, 'result_extra': 'people_also_ask,videos,images,knowledge_graph,local_pack', 'result_spell': '', 'result_spell_type': '', 'result_se_check_url': 'https://www.google.co.uk/search?q=blacksmith&num=100&hl=en&gl=GB&gws_rd=cr&ie=UTF-8&oe=UTF-8&uule=w+CAIQIFISCcM8HUfhhHZIEbzKx0ulhCYF'}, {'post_id': '115', 'post_key': 'oncologist', 'task_id': 12027143673, 'se_id': 22, 'loc_id': 9046112, 'key_id': 2674107, 'results_count': 20000000, 'result_extra': 'featured_snippet,people_also_ask,knowledge_graph,related_search,google_review,local_pack', 'result_spell': '', 'result_spell_type': '', 'result_se_check_url': 'https://www.google.co.uk/search?q=oncologist&num=100&hl=en&gl=GB&gws_rd=cr&ie=UTF-8&oe=UTF-8&uule=w+CAIQIFISCcM8HUfhhHZIEbzKx0ulhCYF'}, {'post_id': '116', 'post_key': 'mexican restaurant', 'task_id': 12027143704, 'se_id': 22, 'loc_id': 9046112, 'key_id': 2775339, 'results_count': 240000000, 'result_extra': 'top_stories,people_also_ask,images,carousel,local_pack', 'result_spell': '', 'result_spell_type': '', 'result_se_check_url': 'https://www.google.co.uk/search?q=mexican%20restaurant&num=100&hl=en&gl=GB&gws_rd=cr&ie=UTF-8&oe=UTF-8&uule=w+CAIQIFISCcM8HUfhhHZIEbzKx0ulhCYF'}, {'post_id': '117', 'post_key': 'counselor', 'task_id': 12027143729, 'se_id': 22, 'loc_id': 9046112, 'key_id': 2598088, 'results_count': 218000000, 'result_extra': 'people_also_ask,top_stories,images,local_pack', 'result_spell': '', 'result_spell_type': '', 'result_se_check_url': 'https://www.google.co.uk/search?q=counselor&num=100&hl=en&gl=GB&gws_rd=cr&ie=UTF-8&oe=UTF-8&uule=w+CAIQIFISCcM8HUfhhHZIEbzKx0ulhCYF'}, {'post_id': '118', 'post_key': 'endocrinologist', 'task_id': 12027143758, 'se_id': 22, 'loc_id': 9046112, 'key_id': 867489, 'results_count': 57000000, 'result_extra': 'people_also_ask,videos,knowledge_graph,related_search,google_review,local_pack', 'result_spell': '', 'result_spell_type': '', 'result_se_check_url': 'https://www.google.co.uk/search?q=endocrinologist&num=100&hl=en&gl=GB&gws_rd=cr&ie=UTF-8&oe=UTF-8&uule=w+CAIQIFISCcM8HUfhhHZIEbzKx0ulhCYF'}, {'post_id': '119', 'post_key': 'private investigator', 'task_id': 12027143790, 'se_id': 22, 'loc_id': 9046112, 'key_id': 466518, 'results_count': 79600000, 'result_extra': 'people_also_ask,videos,images,local_pack', 'result_spell': '', 'result_spell_type': '', 'result_se_check_url': 'https://www.google.co.uk/search?q=private%20investigator&num=100&hl=en&gl=GB&gws_rd=cr&ie=UTF-8&oe=UTF-8&uule=w+CAIQIFISCcM8HUfhhHZIEbzKx0ulhCYF'}, {'post_id': '120', 'post_key': 'welder', 'task_id': 12027143828, 'se_id': 22, 'loc_id': 9046112, 'key_id': 1363529, 'results_count': 195000000, 'result_extra': 'people_also_ask,videos,images,shopping,local_pack', 'result_spell': '', 'result_spell_type': '', 'result_se_check_url': 'https://www.google.co.uk/search?q=welder&num=100&hl=en&gl=GB&gws_rd=cr&ie=UTF-8&oe=UTF-8&uule=w+CAIQIFISCcM8HUfhhHZIEbzKx0ulhCYF'}, {'post_id': '121', 'post_key': 'stable', 'task_id': 12027143853, 'se_id': 22, 'loc_id': 9046112, 'key_id': 2604091, 'results_count': 1470000000, 'result_extra': 'answer_box,people_also_ask,images,videos,local_pack', 'result_spell': '', 'result_spell_type': '', 'result_se_check_url': 'https://www.google.co.uk/search?q=stable&num=100&hl=en&gl=GB&gws_rd=cr&ie=UTF-8&oe=UTF-8&uule=w+CAIQIFISCcM8HUfhhHZIEbzKx0ulhCYF'}, {'post_id': '122', 'post_key': 'monastery', 'task_id': 12027143877, 'se_id': 22, 'loc_id': 9046112, 'key_id': 20194455, 'results_count': 126000000, 'result_extra': 'people_also_ask,top_stories,videos,knowledge_graph,google_review,local_pack', 'result_spell': '', 'result_spell_type': '', 'result_se_check_url': 'https://www.google.co.uk/search?q=monastery&num=100&hl=en&gl=GB&gws_rd=cr&ie=UTF-8&oe=UTF-8&uule=w+CAIQIFISCcM8HUfhhHZIEbzKx0ulhCYF'}, {'post_id': '123', 'post_key': 'nail salon', 'task_id': 12027143899, 'se_id': 22, 'loc_id': 9046112, 'key_id': 1541018, 'results_count': 300000000, 'result_extra': 'people_also_ask,videos,images,top_stories,local_pack', 'result_spell': '', 'result_spell_type': '', 'result_se_check_url': 'https://www.google.co.uk/search?q=nail%20salon&num=100&hl=en&gl=GB&gws_rd=cr&ie=UTF-8&oe=UTF-8&uule=w+CAIQIFISCcM8HUfhhHZIEbzKx0ulhCYF'}, {'post_id': '124', 'post_key': 'ophthalmologist', 'task_id': 12027143926, 'se_id': 22, 'loc_id': 9046112, 'key_id': 5088382, 'results_count': 70400000, 'result_extra': 'people_also_ask,knowledge_graph,related_search,google_review,local_pack', 'result_spell': '', 'result_spell_type': '', 'result_se_check_url': 'https://www.google.co.uk/search?q=ophthalmologist&num=100&hl=en&gl=GB&gws_rd=cr&ie=UTF-8&oe=UTF-8&uule=w+CAIQIFISCcM8HUfhhHZIEbzKx0ulhCYF'}, {'post_id': '125', 'post_key': 'deli', 'task_id': 12027143948, 'se_id': 22, 'loc_id': 9046112, 'key_id': 861362, 'results_count': 397000000, 'result_extra': 'people_also_ask,videos,images,carousel,local_pack', 'result_spell': '', 'result_spell_type': '', 'result_se_check_url': 'https://www.google.co.uk/search?q=deli&num=100&hl=en&gl=GB&gws_rd=cr&ie=UTF-8&oe=UTF-8&uule=w+CAIQIFISCcM8HUfhhHZIEbzKx0ulhCYF'}, {'post_id': '126', 'post_key': 'brasserie', 'task_id': 12027143970, 'se_id': 22, 'loc_id': 9046112, 'key_id': 2564347, 'results_count': 74400000, 'result_extra': 'people_also_ask,knowledge_graph,carousel,local_pack', 'result_spell': '', 'result_spell_type': '', 'result_se_check_url': 'https://www.google.co.uk/search?q=brasserie&num=100&hl=en&gl=GB&gws_rd=cr&ie=UTF-8&oe=UTF-8&uule=w+CAIQIFISCcM8HUfhhHZIEbzKx0ulhCYF'}, {'post_id': '127', 'post_key': 'mission', 'task_id': 12027143995, 'se_id': 22, 'loc_id': 9046112, 'key_id': 2535731, 'results_count': 4100000000, 'result_extra': 'people_also_ask,videos,images,local_pack', 'result_spell': '', 'result_spell_type': '', 'result_se_check_url': 'https://www.google.co.uk/search?q=mission&num=100&hl=en&gl=GB&gws_rd=cr&ie=UTF-8&oe=UTF-8&uule=w+CAIQIFISCcM8HUfhhHZIEbzKx0ulhCYF'}, {'post_id': '128', 'post_key': 'lodge', 'task_id': 12027144023, 'se_id': 22, 'loc_id': 9046112, 'key_id': 3420081, 'results_count': 595000000, 'result_extra': 'answer_box,images', 'result_spell': '', 'result_spell_type': '', 'result_se_check_url': 'https://www.google.co.uk/search?q=lodge&num=100&hl=en&gl=GB&gws_rd=cr&ie=UTF-8&oe=UTF-8&uule=w+CAIQIFISCcM8HUfhhHZIEbzKx0ulhCYF'}, {'post_id': '129', 'post_key': 'chamber of commerce', 'task_id': 12027144046, 'se_id': 22, 'loc_id': 9046112, 'key_id': 17740151, 'results_count': 331000000, 'result_extra': 'people_also_ask,images,local_pack', 'result_spell': '', 'result_spell_type': '', 'result_se_check_url': 'https://www.google.co.uk/search?q=chamber%20of%20commerce&num=100&hl=en&gl=GB&gws_rd=cr&ie=UTF-8&oe=UTF-8&uule=w+CAIQIFISCcM8HUfhhHZIEbzKx0ulhCYF'}, {'post_id': '130', 'post_key': 'vineyard', 'task_id': 12027144069, 'se_id': 22, 'loc_id': 9046112, 'key_id': 2624678, 'results_count': 245000000, 'result_extra': 'people_also_ask,images,local_pack', 'result_spell': '', 'result_spell_type': '', 'result_se_check_url': 'https://www.google.co.uk/search?q=vineyard&num=100&hl=en&gl=GB&gws_rd=cr&ie=UTF-8&oe=UTF-8&uule=w+CAIQIFISCcM8HUfhhHZIEbzKx0ulhCYF'}, {'post_id': '131', 'post_key': 'pet cemetery', 'task_id': 12027144096, 'se_id': 22, 'loc_id': 9046112, 'key_id': 10166489, 'results_count': 94800000, 'result_extra': 'answer_box,people_also_ask,videos,knowledge_graph,related_search,google_review', 'result_spell': 'sematary', 'result_spell_type': 'did_you_mean', 'result_se_check_url': 'https://www.google.co.uk/search?q=pet%20cemetery&num=100&hl=en&gl=GB&gws_rd=cr&ie=UTF-8&oe=UTF-8&uule=w+CAIQIFISCcM8HUfhhHZIEbzKx0ulhCYF'}, {'post_id': '132', 'post_key': 'graphic designer', 'task_id': 12027144121, 'se_id': 22, 'loc_id': 9046112, 'key_id': 268559, 'results_count': 690000000, 'result_extra': 'people_also_ask,top_stories,videos,knowledge_graph,google_review,local_pack', 'result_spell': '', 'result_spell_type': '', 'result_se_check_url': 'https://www.google.co.uk/search?q=graphic%20designer&num=100&hl=en&gl=GB&gws_rd=cr&ie=UTF-8&oe=UTF-8&uule=w+CAIQIFISCcM8HUfhhHZIEbzKx0ulhCYF'}, {'post_id': '133', 'post_key': 'psychotherapist', 'task_id': 12027144143, 'se_id': 22, 'loc_id': 9046112, 'key_id': 698175, 'results_count': 76200000, 'result_extra': 'people_also_ask,images,knowledge_graph,google_review,local_pack', 'result_spell': '', 'result_spell_type': '', 'result_se_check_url': 'https://www.google.co.uk/search?q=psychotherapist&num=100&hl=en&gl=GB&gws_rd=cr&ie=UTF-8&oe=UTF-8&uule=w+CAIQIFISCcM8HUfhhHZIEbzKx0ulhCYF'}, {'post_id': '134', 'post_key': 'surgeon', 'task_id': 12027144163, 'se_id': 22, 'loc_id': 9046112, 'key_id': 4005331, 'results_count': 292000000, 'result_extra': 'people_also_ask,images,videos,top_stories,local_pack', 'result_spell': '', 'result_spell_type': '', 'result_se_check_url': 'https://www.google.co.uk/search?q=surgeon&num=100&hl=en&gl=GB&gws_rd=cr&ie=UTF-8&oe=UTF-8&uule=w+CAIQIFISCcM8HUfhhHZIEbzKx0ulhCYF'}, {'post_id': '135', 'post_key': 'stadium', 'task_id': 12027144185, 'se_id': 22, 'loc_id': 9046112, 'key_id': 1213196, 'results_count': 2080000000, 'result_extra': 'top_stories,people_also_ask,videos,knowledge_graph,local_pack', 'result_spell': '', 'result_spell_type': '', 'result_se_check_url': 'https://www.google.co.uk/search?q=stadium&num=100&hl=en&gl=GB&gws_rd=cr&ie=UTF-8&oe=UTF-8&uule=w+CAIQIFISCcM8HUfhhHZIEbzKx0ulhCYF'}, {'post_id': '136', 'post_key': 'pawn shop', 'task_id': 12027144204, 'se_id': 22, 'loc_id': 9046112, 'key_id': 7346158, 'results_count': 82000000, 'result_extra': 'people_also_ask,videos,images,carousel,local_pack', 'result_spell': '', 'result_spell_type': '', 'result_se_check_url': 'https://www.google.co.uk/search?q=pawn%20shop&num=100&hl=en&gl=GB&gws_rd=cr&ie=UTF-8&oe=UTF-8&uule=w+CAIQIFISCcM8HUfhhHZIEbzKx0ulhCYF'}, {'post_id': '137', 'post_key': 'photo shop', 'task_id': 12027144229, 'se_id': 22, 'loc_id': 9046112, 'key_id': 2590721, 'results_count': 8340000000, 'result_extra': 'people_also_ask,videos,twitter,knowledge_graph,related_search,carousel,google_review,local_pack', 'result_spell': '', 'result_spell_type': '', 'result_se_check_url': 'https://www.google.co.uk/search?q=photo%20shop&num=100&hl=en&gl=GB&gws_rd=cr&ie=UTF-8&oe=UTF-8&uule=w+CAIQIFISCcM8HUfhhHZIEbzKx0ulhCYF'}, {'post_id': '138', 'post_key': 'wedding photographer', 'task_id': 12027144248, 'se_id': 22, 'loc_id': 9046112, 'key_id': 253037, 'results_count': 261000000, 'result_extra': 'people_also_ask,local_pack', 'result_spell': '', 'result_spell_type': '', 'result_se_check_url': 'https://www.google.co.uk/search?q=wedding%20photographer&num=100&hl=en&gl=GB&gws_rd=cr&ie=UTF-8&oe=UTF-8&uule=w+CAIQIFISCcM8HUfhhHZIEbzKx0ulhCYF'}, {'post_id': '139', 'post_key': 'observatory', 'task_id': 12027144267, 'se_id': 22, 'loc_id': 9046112, 'key_id': 43400629, 'results_count': 96600000, 'result_extra': 'people_also_ask,images,local_pack', 'result_spell': '', 'result_spell_type': '', 'result_se_check_url': 'https://www.google.co.uk/search?q=observatory&num=100&hl=en&gl=GB&gws_rd=cr&ie=UTF-8&oe=UTF-8&uule=w+CAIQIFISCcM8HUfhhHZIEbzKx0ulhCYF'}, {'post_id': '140', 'post_key': 'newsstand', 'task_id': 12027144285, 'se_id': 22, 'loc_id': 9046112, 'key_id': 41652041, 'results_count': 51300000, 'result_extra': 'people_also_ask,images', 'result_spell': '', 'result_spell_type': '', 'result_se_check_url': 'https://www.google.co.uk/search?q=newsstand&num=100&hl=en&gl=GB&gws_rd=cr&ie=UTF-8&oe=UTF-8&uule=w+CAIQIFISCcM8HUfhhHZIEbzKx0ulhCYF'}, {'post_id': '141', 'post_key': 'brewery', 'task_id': 12027144307, 'se_id': 22, 'loc_id': 9046112, 'key_id': 863311, 'results_count': 777000000, 'result_extra': 'people_also_ask,top_stories,images,local_pack', 'result_spell': '', 'result_spell_type': '', 'result_se_check_url': 'https://www.google.co.uk/search?q=brewery&num=100&hl=en&gl=GB&gws_rd=cr&ie=UTF-8&oe=UTF-8&uule=w+CAIQIFISCcM8HUfhhHZIEbzKx0ulhCYF'}, {'post_id': '142', 'post_key': 'foundry', 'task_id': 12027144329, 'se_id': 22, 'loc_id': 9046112, 'key_id': 1080894, 'results_count': 97600000, 'result_extra': 'people_also_ask,images,videos,local_pack', 'result_spell': '', 'result_spell_type': '', 'result_se_check_url': 'https://www.google.co.uk/search?q=foundry&num=100&hl=en&gl=GB&gws_rd=cr&ie=UTF-8&oe=UTF-8&uule=w+CAIQIFISCcM8HUfhhHZIEbzKx0ulhCYF'}, {'post_id': '143', 'post_key': 'airline', 'task_id': 12027144352, 'se_id': 22, 'loc_id': 9046112, 'key_id': 169833, 'results_count': 1310000000, 'result_extra': 'top_stories,people_also_ask,videos,images,related_search', 'result_spell': '', 'result_spell_type': '', 'result_se_check_url': 'https://www.google.co.uk/search?q=airline&num=100&hl=en&gl=GB&gws_rd=cr&ie=UTF-8&oe=UTF-8&uule=w+CAIQIFISCcM8HUfhhHZIEbzKx0ulhCYF'}, {'post_id': '144', 'post_key': 'optician', 'task_id': 12027144372, 'se_id': 22, 'loc_id': 9046112, 'key_id': 2794739, 'results_count': 42800000, 'result_extra': 'people_also_ask,top_stories,images,local_pack', 'result_spell': '', 'result_spell_type': '', 'result_se_check_url': 'https://www.google.co.uk/search?q=optician&num=100&hl=en&gl=GB&gws_rd=cr&ie=UTF-8&oe=UTF-8&uule=w+CAIQIFISCcM8HUfhhHZIEbzKx0ulhCYF'}, {'post_id': '145', 'post_key': 'contractor', 'task_id': 12027144395, 'se_id': 22, 'loc_id': 9046112, 'key_id': 1964870, 'results_count': 1720000000, 'result_extra': 'people_also_ask,top_stories,videos,knowledge_graph', 'result_spell': '', 'result_spell_type': '', 'result_se_check_url': 'https://www.google.co.uk/search?q=contractor&num=100&hl=en&gl=GB&gws_rd=cr&ie=UTF-8&oe=UTF-8&uule=w+CAIQIFISCcM8HUfhhHZIEbzKx0ulhCYF'}, {'post_id': '146', 'post_key': 'diner', 'task_id': 12027144418, 'se_id': 22, 'loc_id': 9046112, 'key_id': 3662967, 'results_count': 602000000, 'result_extra': 'people_also_ask,images,videos,carousel,local_pack', 'result_spell': '', 'result_spell_type': '', 'result_se_check_url': 'https://www.google.co.uk/search?q=diner&num=100&hl=en&gl=GB&gws_rd=cr&ie=UTF-8&oe=UTF-8&uule=w+CAIQIFISCcM8HUfhhHZIEbzKx0ulhCYF'}, {'post_id': '147', 'post_key': 'resort', 'task_id': 12027144443, 'se_id': 22, 'loc_id': 9046112, 'key_id': 2459391, 'results_count': 2550000000, 'result_extra': 'answer_box,people_also_ask,top_stories,knowledge_graph,google_review', 'result_spell': '', 'result_spell_type': '', 'result_se_check_url': 'https://www.google.co.uk/search?q=resort&num=100&hl=en&gl=GB&gws_rd=cr&ie=UTF-8&oe=UTF-8&uule=w+CAIQIFISCcM8HUfhhHZIEbzKx0ulhCYF'}, {'post_id': '148', 'post_key': 'buddhist temple', 'task_id': 12027144463, 'se_id': 22, 'loc_id': 9046112, 'key_id': 26575636, 'results_count': 115000000, 'result_extra': 'people_also_ask,videos,top_stories,knowledge_graph,local_pack', 'result_spell': '', 'result_spell_type': '', 'result_se_check_url': 'https://www.google.co.uk/search?q=buddhist%20temple&num=100&hl=en&gl=GB&gws_rd=cr&ie=UTF-8&oe=UTF-8&uule=w+CAIQIFISCcM8HUfhhHZIEbzKx0ulhCYF'}, {'post_id': '149', 'post_key': 'hair salon', 'task_id': 12027144493, 'se_id': 22, 'loc_id': 9046112, 'key_id': 684008, 'results_count': 994000000, 'result_extra': 'people_also_ask,top_stories,images,local_pack', 'result_spell': '', 'result_spell_type': '', 'result_se_check_url': 'https://www.google.co.uk/search?q=hair%20salon&num=100&hl=en&gl=GB&gws_rd=cr&ie=UTF-8&oe=UTF-8&uule=w+CAIQIFISCcM8HUfhhHZIEbzKx0ulhCYF'}, {'post_id': '150', 'post_key': 'opera house', 'task_id': 12027144513, 'se_id': 22, 'loc_id': 9046112, 'key_id': 4581432, 'results_count': 494000000, 'result_extra': 'twitter,top_stories,videos,people_also_ask,images,local_pack', 'result_spell': '', 'result_spell_type': '', 'result_se_check_url': 'https://www.google.co.uk/search?q=opera%20house&num=100&hl=en&gl=GB&gws_rd=cr&ie=UTF-8&oe=UTF-8&uule=w+CAIQIFISCcM8HUfhhHZIEbzKx0ulhCYF'}, {'post_id': '151', 'post_key': 'beauty salon', 'task_id': 12027144536, 'se_id': 22, 'loc_id': 9046112, 'key_id': 588675, 'results_count': 1020000000, 'result_extra': 'top_stories,people_also_ask,knowledge_graph,local_pack', 'result_spell': '', 'result_spell_type': '', 'result_se_check_url': 'https://www.google.co.uk/search?q=beauty%20salon&num=100&hl=en&gl=GB&gws_rd=cr&ie=UTF-8&oe=UTF-8&uule=w+CAIQIFISCcM8HUfhhHZIEbzKx0ulhCYF'}, {'post_id': '152', 'post_key': 'recording studio', 'task_id': 12027144555, 'se_id': 22, 'loc_id': 9046112, 'key_id': 1325979, 'results_count': 511000000, 'result_extra': 'people_also_ask,images,videos,shopping,local_pack', 'result_spell': '', 'result_spell_type': '', 'result_se_check_url': 'https://www.google.co.uk/search?q=recording%20studio&num=100&hl=en&gl=GB&gws_rd=cr&ie=UTF-8&oe=UTF-8&uule=w+CAIQIFISCcM8HUfhhHZIEbzKx0ulhCYF'}, {'post_id': '153', 'post_key': 'rheumatologist', 'task_id': 12027144577, 'se_id': 22, 'loc_id': 9046112, 'key_id': 9571525, 'results_count': 26700000, 'result_extra': 'people_also_ask,videos,knowledge_graph,related_search,google_review,local_pack', 'result_spell': '', 'result_spell_type': '', 'result_se_check_url': 'https://www.google.co.uk/search?q=rheumatologist&num=100&hl=en&gl=GB&gws_rd=cr&ie=UTF-8&oe=UTF-8&uule=w+CAIQIFISCcM8HUfhhHZIEbzKx0ulhCYF'}, {'post_id': '154', 'post_key': 'nanny', 'task_id': 12027144595, 'se_id': 22, 'loc_id': 9046112, 'key_id': 981837, 'results_count': 107000000, 'result_extra': 'people_also_ask,top_stories,videos,images,local_pack', 'result_spell': '', 'result_spell_type': '', 'result_se_check_url': 'https://www.google.co.uk/search?q=nanny&num=100&hl=en&gl=GB&gws_rd=cr&ie=UTF-8&oe=UTF-8&uule=w+CAIQIFISCcM8HUfhhHZIEbzKx0ulhCYF'}, {'post_id': '155', 'post_key': 'pathologist', 'task_id': 12027144613, 'se_id': 22, 'loc_id': 9046112, 'key_id': 40588926, 'results_count': 190000000, 'result_extra': 'featured_snippet,people_also_ask,images,knowledge_graph,related_search,google_review,local_pack', 'result_spell': '', 'result_spell_type': '', 'result_se_check_url': 'https://www.google.co.uk/search?q=pathologist&num=100&hl=en&gl=GB&gws_rd=cr&ie=UTF-8&oe=UTF-8&uule=w+CAIQIFISCcM8HUfhhHZIEbzKx0ulhCYF'}, {'post_id': '156', 'post_key': 'lebanese restaurant', 'task_id': 12027144638, 'se_id': 22, 'loc_id': 9046112, 'key_id': 3945595, 'results_count': 101000000, 'result_extra': 'people_also_ask,carousel,local_pack', 'result_spell': '', 'result_spell_type': '', 'result_se_check_url': 'https://www.google.co.uk/search?q=lebanese%20restaurant&num=100&hl=en&gl=GB&gws_rd=cr&ie=UTF-8&oe=UTF-8&uule=w+CAIQIFISCcM8HUfhhHZIEbzKx0ulhCYF'}, {'post_id': '157', 'post_key': 'travel agency', 'task_id': 12027144657, 'se_id': 22, 'loc_id': 9046112, 'key_id': 40940, 'results_count': 3200000000, 'result_extra': 'people_also_ask,images,top_stories,local_pack', 'result_spell': '', 'result_spell_type': '', 'result_se_check_url': 'https://www.google.co.uk/search?q=travel%20agency&num=100&hl=en&gl=GB&gws_rd=cr&ie=UTF-8&oe=UTF-8&uule=w+CAIQIFISCcM8HUfhhHZIEbzKx0ulhCYF'}, {'post_id': '158', 'post_key': 'cafeteria', 'task_id': 12027144676, 'se_id': 22, 'loc_id': 9046112, 'key_id': 3775885, 'results_count': 474000000, 'result_extra': 'featured_snippet,top_stories,people_also_ask,videos,images,local_pack', 'result_spell': '', 'result_spell_type': '', 'result_se_check_url': 'https://www.google.co.uk/search?q=cafeteria&num=100&hl=en&gl=GB&gws_rd=cr&ie=UTF-8&oe=UTF-8&uule=w+CAIQIFISCcM8HUfhhHZIEbzKx0ulhCYF'}, {'post_id': '159', 'post_key': 'animal shelter', 'task_id': 12027144694, 'se_id': 22, 'loc_id': 9046112, 'key_id': 321167, 'results_count': 262000000, 'result_extra': 'people_also_ask,images,local_pack', 'result_spell': '', 'result_spell_type': '', 'result_se_check_url': 'https://www.google.co.uk/search?q=animal%20shelter&num=100&hl=en&gl=GB&gws_rd=cr&ie=UTF-8&oe=UTF-8&uule=w+CAIQIFISCcM8HUfhhHZIEbzKx0ulhCYF'}, {'post_id': '160', 'post_key': 'shooting range', 'task_id': 12027144715, 'se_id': 22, 'loc_id': 9046112, 'key_id': 5011910, 'results_count': 361000000, 'result_extra': 'local_pack', 'result_spell': '', 'result_spell_type': '', 'result_se_check_url': 'https://www.google.co.uk/search?q=shooting%20range&num=100&hl=en&gl=GB&gws_rd=cr&ie=UTF-8&oe=UTF-8&uule=w+CAIQIFISCcM8HUfhhHZIEbzKx0ulhCYF'}, {'post_id': '161', 'post_key': 'cake shop', 'task_id': 12027144737, 'se_id': 22, 'loc_id': 9046112, 'key_id': 4176785, 'results_count': 2050000000, 'result_extra': 'people_also_ask,images,carousel,local_pack', 'result_spell': '', 'result_spell_type': '', 'result_se_check_url': 'https://www.google.co.uk/search?q=cake%20shop&num=100&hl=en&gl=GB&gws_rd=cr&ie=UTF-8&oe=UTF-8&uule=w+CAIQIFISCcM8HUfhhHZIEbzKx0ulhCYF'}, {'post_id': '162', 'post_key': 'golf course', 'task_id': 12027144758, 'se_id': 22, 'loc_id': 9046112, 'key_id': 2583147, 'results_count': 1150000000, 'result_extra': 'top_stories,people_also_ask,videos,local_pack', 'result_spell': '', 'result_spell_type': '', 'result_se_check_url': 'https://www.google.co.uk/search?q=golf%20course&num=100&hl=en&gl=GB&gws_rd=cr&ie=UTF-8&oe=UTF-8&uule=w+CAIQIFISCcM8HUfhhHZIEbzKx0ulhCYF'}, {'post_id': '163', 'post_key': 'korean restaurant', 'task_id': 12027144783, 'se_id': 22, 'loc_id': 9046112, 'key_id': 4784301, 'results_count': 255000000, 'result_extra': 'videos,carousel,local_pack', 'result_spell': '', 'result_spell_type': '', 'result_se_check_url': 'https://www.google.co.uk/search?q=korean%20restaurant&num=100&hl=en&gl=GB&gws_rd=cr&ie=UTF-8&oe=UTF-8&uule=w+CAIQIFISCcM8HUfhhHZIEbzKx0ulhCYF'}, {'post_id': '164', 'post_key': 'baptist church', 'task_id': 12027144805, 'se_id': 22, 'loc_id': 9046112, 'key_id': 4872815, 'results_count': 251000000, 'result_extra': 'people_also_ask,local_pack', 'result_spell': '', 'result_spell_type': '', 'result_se_check_url': 'https://www.google.co.uk/search?q=baptist%20church&num=100&hl=en&gl=GB&gws_rd=cr&ie=UTF-8&oe=UTF-8&uule=w+CAIQIFISCcM8HUfhhHZIEbzKx0ulhCYF'}, {'post_id': '165', 'post_key': 'golf club', 'task_id': 12027144832, 'se_id': 22, 'loc_id': 9046112, 'key_id': 20567043, 'results_count': 2460000000, 'result_extra': 'top_stories,people_also_ask,local_pack', 'result_spell': '', 'result_spell_type': '', 'result_se_check_url': 'https://www.google.co.uk/search?q=golf%20club&num=100&hl=en&gl=GB&gws_rd=cr&ie=UTF-8&oe=UTF-8&uule=w+CAIQIFISCcM8HUfhhHZIEbzKx0ulhCYF'}, {'post_id': '166', 'post_key': 'physiatrist', 'task_id': 12027144864, 'se_id': 22, 'loc_id': 9046112, 'key_id': 7374121, 'results_count': 2690000, 'result_extra': 'people_also_ask,videos,related_search,google_review,local_pack', 'result_spell': '', 'result_spell_type': '', 'result_se_check_url': 'https://www.google.co.uk/search?q=physiatrist&num=100&hl=en&gl=GB&gws_rd=cr&ie=UTF-8&oe=UTF-8&uule=w+CAIQIFISCcM8HUfhhHZIEbzKx0ulhCYF'}, {'post_id': '167', 'post_key': 'christmas tree farm', 'task_id': 12027144911, 'se_id': 22, 'loc_id': 9046112, 'key_id': 1377194, 'results_count': 259000000, 'result_extra': 'images,people_also_ask,top_stories,videos,local_pack', 'result_spell': '', 'result_spell_type': '', 'result_se_check_url': 'https://www.google.co.uk/search?q=christmas%20tree%20farm&num=100&hl=en&gl=GB&gws_rd=cr&ie=UTF-8&oe=UTF-8&uule=w+CAIQIFISCcM8HUfhhHZIEbzKx0ulhCYF'}, {'post_id': '168', 'post_key': 'genealogist', 'task_id': 12027144942, 'se_id': 22, 'loc_id': 9046112, 'key_id': 576019, 'results_count': 194000000, 'result_extra': 'people_also_ask,knowledge_graph,related_search,google_review,local_pack', 'result_spell': '', 'result_spell_type': '', 'result_se_check_url': 'https://www.google.co.uk/search?q=genealogist&num=100&hl=en&gl=GB&gws_rd=cr&ie=UTF-8&oe=UTF-8&uule=w+CAIQIFISCcM8HUfhhHZIEbzKx0ulhCYF'}, {'post_id': '169', 'post_key': 'model shop', 'task_id': 12027144967, 'se_id': 22, 'loc_id': 9046112, 'key_id': 55548900, 'results_count': 5460000000, 'result_extra': 'images,carousel,local_pack', 'result_spell': '', 'result_spell_type': '', 'result_se_check_url': 'https://www.google.co.uk/search?q=model%20shop&num=100&hl=en&gl=GB&gws_rd=cr&ie=UTF-8&oe=UTF-8&uule=w+CAIQIFISCcM8HUfhhHZIEbzKx0ulhCYF'}, {'post_id': '170', 'post_key': 'general practitioner', 'task_id': 12027144995, 'se_id': 22, 'loc_id': 9046112, 'key_id': 867486, 'results_count': 141000000, 'result_extra': 'people_also_ask,images,local_pack', 'result_spell': '', 'result_spell_type': '', 'result_se_check_url': 'https://www.google.co.uk/search?q=general%20practitioner&num=100&hl=en&gl=GB&gws_rd=cr&ie=UTF-8&oe=UTF-8&uule=w+CAIQIFISCcM8HUfhhHZIEbzKx0ulhCYF'}, {'post_id': '171', 'post_key': 'bed & breakfast', 'task_id': 12027145023, 'se_id': 22, 'loc_id': 9046112, 'key_id': 320402, 'results_count': 352000000, 'result_extra': 'answer_box,people_also_ask', 'result_spell': '', 'result_spell_type': '', 'result_se_check_url': 'https://www.google.co.uk/search?q=bed%20%26%20breakfast&num=100&hl=en&gl=GB&gws_rd=cr&ie=UTF-8&oe=UTF-8&uule=w+CAIQIFISCcM8HUfhhHZIEbzKx0ulhCYF'}, {'post_id': '172', 'post_key': 'taxi service', 'task_id': 12027145054, 'se_id': 22, 'loc_id': 9046112, 'key_id': 686398, 'results_count': 1800000000, 'result_extra': 'people_also_ask,images,local_pack', 'result_spell': '', 'result_spell_type': '', 'result_se_check_url': 'https://www.google.co.uk/search?q=taxi%20service&num=100&hl=en&gl=GB&gws_rd=cr&ie=UTF-8&oe=UTF-8&uule=w+CAIQIFISCcM8HUfhhHZIEbzKx0ulhCYF'}, {'post_id': '173', 'post_key': 'guest house', 'task_id': 12027145100, 'se_id': 22, 'loc_id': 9046112, 'key_id': 898679, 'results_count': 2320000000, 'result_extra': 'answer_box,people_also_ask,images', 'result_spell': '', 'result_spell_type': '', 'result_se_check_url': 'https://www.google.co.uk/search?q=guest%20house&num=100&hl=en&gl=GB&gws_rd=cr&ie=UTF-8&oe=UTF-8&uule=w+CAIQIFISCcM8HUfhhHZIEbzKx0ulhCYF'}, {'post_id': '174', 'post_key': 'painter', 'task_id': 12027145128, 'se_id': 22, 'loc_id': 9046112, 'key_id': 1249026, 'results_count': 345000000, 'result_extra': 'people_also_ask,top_stories,videos,twitter,images,local_pack', 'result_spell': '', 'result_spell_type': '', 'result_se_check_url': 'https://www.google.co.uk/search?q=painter&num=100&hl=en&gl=GB&gws_rd=cr&ie=UTF-8&oe=UTF-8&uule=w+CAIQIFISCcM8HUfhhHZIEbzKx0ulhCYF'}, {'post_id': '175', 'post_key': 'levee', 'task_id': 12027145154, 'se_id': 22, 'loc_id': 9046112, 'key_id': 17190862, 'results_count': 30400000, 'result_extra': 'answer_box,people_also_ask,videos,top_stories,knowledge_graph,google_review', 'result_spell': '', 'result_spell_type': '', 'result_se_check_url': 'https://www.google.co.uk/search?q=levee&num=100&hl=en&gl=GB&gws_rd=cr&ie=UTF-8&oe=UTF-8&uule=w+CAIQIFISCcM8HUfhhHZIEbzKx0ulhCYF'}, {'post_id': '176', 'post_key': 'kennel', 'task_id': 12027145182, 'se_id': 22, 'loc_id': 9046112, 'key_id': 752066, 'results_count': 140000000, 'result_extra': 'people_also_ask,images,shopping,local_pack', 'result_spell': '', 'result_spell_type': '', 'result_se_check_url': 'https://www.google.co.uk/search?q=kennel&num=100&hl=en&gl=GB&gws_rd=cr&ie=UTF-8&oe=UTF-8&uule=w+CAIQIFISCcM8HUfhhHZIEbzKx0ulhCYF'}, {'post_id': '177', 'post_key': 'pet store', 'task_id': 12027145214, 'se_id': 22, 'loc_id': 9046112, 'key_id': 327392, 'results_count': 2790000000, 'result_extra': 'people_also_ask,videos,local_pack', 'result_spell': '', 'result_spell_type': '', 'result_se_check_url': 'https://www.google.co.uk/search?q=pet%20store&num=100&hl=en&gl=GB&gws_rd=cr&ie=UTF-8&oe=UTF-8&uule=w+CAIQIFISCcM8HUfhhHZIEbzKx0ulhCYF'}, {'post_id': '178', 'post_key': 'veterinarian', 'task_id': 12027145252, 'se_id': 22, 'loc_id': 9046112, 'key_id': 329637, 'results_count': 289000000, 'result_extra': 'people_also_ask,top_stories,images,knowledge_graph,google_review,local_pack', 'result_spell': '', 'result_spell_type': '', 'result_se_check_url': 'https://www.google.co.uk/search?q=veterinarian&num=100&hl=en&gl=GB&gws_rd=cr&ie=UTF-8&oe=UTF-8&uule=w+CAIQIFISCcM8HUfhhHZIEbzKx0ulhCYF'}, {'post_id': '179', 'post_key': 'laundromat', 'task_id': 12027145281, 'se_id': 22, 'loc_id': 9046112, 'key_id': 3303769, 'results_count': 28000000, 'result_extra': 'videos,top_stories,people_also_ask,images,local_pack', 'result_spell': '', 'result_spell_type': '', 'result_se_check_url': 'https://www.google.co.uk/search?q=laundromat&num=100&hl=en&gl=GB&gws_rd=cr&ie=UTF-8&oe=UTF-8&uule=w+CAIQIFISCcM8HUfhhHZIEbzKx0ulhCYF'}, {'post_id': '180', 'post_key': 'brazilian restaurant', 'task_id': 12027145306, 'se_id': 22, 'loc_id': 9046112, 'key_id': 24548437, 'results_count': 98200000, 'result_extra': 'videos,carousel,local_pack', 'result_spell': '', 'result_spell_type': '', 'result_se_check_url': 'https://www.google.co.uk/search?q=brazilian%20restaurant&num=100&hl=en&gl=GB&gws_rd=cr&ie=UTF-8&oe=UTF-8&uule=w+CAIQIFISCcM8HUfhhHZIEbzKx0ulhCYF'}, {'post_id': '181', 'post_key': 'tennis court', 'task_id': 12027145334, 'se_id': 22, 'loc_id': 9046112, 'key_id': 3369141, 'results_count': 796000000, 'result_extra': 'people_also_ask,images,videos,local_pack', 'result_spell': '', 'result_spell_type': '', 'result_se_check_url': 'https://www.google.co.uk/search?q=tennis%20court&num=100&hl=en&gl=GB&gws_rd=cr&ie=UTF-8&oe=UTF-8&uule=w+CAIQIFISCcM8HUfhhHZIEbzKx0ulhCYF'}, {'post_id': '182', 'post_key': 'radiologist', 'task_id': 12027145363, 'se_id': 22, 'loc_id': 9046112, 'key_id': 9611402, 'results_count': 124000000, 'result_extra': 'people_also_ask,images,local_pack', 'result_spell': '', 'result_spell_type': '', 'result_se_check_url': 'https://www.google.co.uk/search?q=radiologist&num=100&hl=en&gl=GB&gws_rd=cr&ie=UTF-8&oe=UTF-8&uule=w+CAIQIFISCcM8HUfhhHZIEbzKx0ulhCYF'}, {'post_id': '183', 'post_key': 'anglican church', 'task_id': 12027145391, 'se_id': 22, 'loc_id': 9046112, 'key_id': 5084874, 'results_count': 117000000, 'result_extra': 'people_also_ask,top_stories,knowledge_graph,google_review,local_pack', 'result_spell': '', 'result_spell_type': '', 'result_se_check_url': 'https://www.google.co.uk/search?q=anglican%20church&num=100&hl=en&gl=GB&gws_rd=cr&ie=UTF-8&oe=UTF-8&uule=w+CAIQIFISCcM8HUfhhHZIEbzKx0ulhCYF'}, {'post_id': '184', 'post_key': 'cardiologist', 'task_id': 12027145417, 'se_id': 22, 'loc_id': 9046112, 'key_id': 867490, 'results_count': 97700000, 'result_extra': 'people_also_ask,knowledge_graph,related_search,google_review,local_pack', 'result_spell': '', 'result_spell_type': '', 'result_se_check_url': 'https://www.google.co.uk/search?q=cardiologist&num=100&hl=en&gl=GB&gws_rd=cr&ie=UTF-8&oe=UTF-8&uule=w+CAIQIFISCcM8HUfhhHZIEbzKx0ulhCYF'}, {'post_id': '185', 'post_key': 'seafood restaurant', 'task_id': 12027145438, 'se_id': 22, 'loc_id': 9046112, 'key_id': 949684, 'results_count': 423000000, 'result_extra': 'top_stories,people_also_ask,carousel,local_pack', 'result_spell': '', 'result_spell_type': '', 'result_se_check_url': 'https://www.google.co.uk/search?q=seafood%20restaurant&num=100&hl=en&gl=GB&gws_rd=cr&ie=UTF-8&oe=UTF-8&uule=w+CAIQIFISCcM8HUfhhHZIEbzKx0ulhCYF'}, {'post_id': '186', 'post_key': 'garden center', 'task_id': 12027145464, 'se_id': 22, 'loc_id': 9046112, 'key_id': 54567146, 'results_count': 3640000000, 'result_extra': 'images,people_also_ask,local_pack', 'result_spell': '', 'result_spell_type': '', 'result_se_check_url': 'https://www.google.co.uk/search?q=garden%20center&num=100&hl=en&gl=GB&gws_rd=cr&ie=UTF-8&oe=UTF-8&uule=w+CAIQIFISCcM8HUfhhHZIEbzKx0ulhCYF'}, {'post_id': '187', 'post_key': 'botanical garden', 'task_id': 12027145487, 'se_id': 22, 'loc_id': 9046112, 'key_id': 46091433, 'results_count': 259000000, 'result_extra': 'people_also_ask,videos,knowledge_graph,local_pack', 'result_spell': '', 'result_spell_type': '', 'result_se_check_url': 'https://www.google.co.uk/search?q=botanical%20garden&num=100&hl=en&gl=GB&gws_rd=cr&ie=UTF-8&oe=UTF-8&uule=w+CAIQIFISCcM8HUfhhHZIEbzKx0ulhCYF'}, {'post_id': '188', 'post_key': 'orthodox church', 'task_id': 12027145512, 'se_id': 22, 'loc_id': 9046112, 'key_id': 7273197, 'results_count': 83300000, 'result_extra': 'people_also_ask,videos,knowledge_graph,related_search,google_review,local_pack', 'result_spell': '', 'result_spell_type': '', 'result_se_check_url': 'https://www.google.co.uk/search?q=orthodox%20church&num=100&hl=en&gl=GB&gws_rd=cr&ie=UTF-8&oe=UTF-8&uule=w+CAIQIFISCcM8HUfhhHZIEbzKx0ulhCYF'}, {'post_id': '189', 'post_key': 'orthopedic surgeon', 'task_id': 12027145531, 'se_id': 22, 'loc_id': 9046112, 'key_id': 525324, 'results_count': 52800000, 'result_extra': 'people_also_ask,videos,images,local_pack', 'result_spell': '', 'result_spell_type': '', 'result_se_check_url': 'https://www.google.co.uk/search?q=orthopedic%20surgeon&num=100&hl=en&gl=GB&gws_rd=cr&ie=UTF-8&oe=UTF-8&uule=w+CAIQIFISCcM8HUfhhHZIEbzKx0ulhCYF'}, {'post_id': '190', 'post_key': 'dog walker', 'task_id': 12027145550, 'se_id': 22, 'loc_id': 9046112, 'key_id': 380240, 'results_count': 243000000, 'result_extra': 'people_also_ask,top_stories,images,local_pack', 'result_spell': '', 'result_spell_type': '', 'result_se_check_url': 'https://www.google.co.uk/search?q=dog%20walker&num=100&hl=en&gl=GB&gws_rd=cr&ie=UTF-8&oe=UTF-8&uule=w+CAIQIFISCcM8HUfhhHZIEbzKx0ulhCYF'}, {'post_id': '191', 'post_key': 'public school', 'task_id': 12027145571, 'se_id': 22, 'loc_id': 9046112, 'key_id': 4586523, 'results_count': 10940000000, 'result_extra': 'people_also_ask,top_stories,images,local_pack', 'result_spell': '', 'result_spell_type': '', 'result_se_check_url': 'https://www.google.co.uk/search?q=public%20school&num=100&hl=en&gl=GB&gws_rd=cr&ie=UTF-8&oe=UTF-8&uule=w+CAIQIFISCcM8HUfhhHZIEbzKx0ulhCYF'}, {'post_id': '192', 'post_key': 'french restaurant', 'task_id': 12027145597, 'se_id': 22, 'loc_id': 9046112, 'key_id': 5909763, 'results_count': 850000000, 'result_extra': 'images,carousel,local_pack', 'result_spell': '', 'result_spell_type': '', 'result_se_check_url': 'https://www.google.co.uk/search?q=french%20restaurant&num=100&hl=en&gl=GB&gws_rd=cr&ie=UTF-8&oe=UTF-8&uule=w+CAIQIFISCcM8HUfhhHZIEbzKx0ulhCYF'}, {'post_id': '193', 'post_key': 'gastroenterologist', 'task_id': 12027145618, 'se_id': 22, 'loc_id': 9046112, 'key_id': 1528913, 'results_count': 56100000, 'result_extra': 'people_also_ask,videos,knowledge_graph,related_search,google_review,local_pack', 'result_spell': '', 'result_spell_type': '', 'result_se_check_url': 'https://www.google.co.uk/search?q=gastroenterologist&num=100&hl=en&gl=GB&gws_rd=cr&ie=UTF-8&oe=UTF-8&uule=w+CAIQIFISCcM8HUfhhHZIEbzKx0ulhCYF'}, {'post_id': '194', 'post_key': 'steak house', 'task_id': 12027145642, 'se_id': 22, 'loc_id': 9046112, 'key_id': 1482542, 'results_count': 439000000, 'result_extra': 'top_stories,images,people_also_ask,carousel,local_pack', 'result_spell': 'steakhouse', 'result_spell_type': 'did_you_mean', 'result_se_check_url': 'https://www.google.co.uk/search?q=steak%20house&num=100&hl=en&gl=GB&gws_rd=cr&ie=UTF-8&oe=UTF-8&uule=w+CAIQIFISCcM8HUfhhHZIEbzKx0ulhCYF'}, {'post_id': '196', 'post_key': 'stock broker', 'task_id': 12027145685, 'se_id': 22, 'loc_id': 9046112, 'key_id': 422905, 'results_count': 218000000, 'result_extra': 'people_also_ask,videos,images,knowledge_graph,local_pack', 'result_spell': '', 'result_spell_type': '', 'result_se_check_url': 'https://www.google.co.uk/search?q=stock%20broker&num=100&hl=en&gl=GB&gws_rd=cr&ie=UTF-8&oe=UTF-8&uule=w+CAIQIFISCcM8HUfhhHZIEbzKx0ulhCYF'}, {'post_id': '197', 'post_key': 'child psychologist', 'task_id': 12027145708, 'se_id': 22, 'loc_id': 9046112, 'key_id': 398578, 'results_count': 0, 'result_extra': 'people_also_ask,related_search', 'result_spell': '', 'result_spell_type': '', 'result_se_check_url': 'https://www.google.co.uk/search?q=child%20psychologist&num=100&hl=en&gl=GB&gws_rd=cr&ie=UTF-8&oe=UTF-8&uule=w+CAIQIFISCcM8HUfhhHZIEbzKx0ulhCYF'}, {'post_id': '198', 'post_key': 'basketball court', 'task_id': 12027145730, 'se_id': 22, 'loc_id': 9046112, 'key_id': 3574537, 'results_count': 1080000000, 'result_extra': 'top_stories,local_pack', 'result_spell': '', 'result_spell_type': '', 'result_se_check_url': 'https://www.google.co.uk/search?q=basketball%20court&num=100&hl=en&gl=GB&gws_rd=cr&ie=UTF-8&oe=UTF-8&uule=w+CAIQIFISCcM8HUfhhHZIEbzKx0ulhCYF'}, {'post_id': '199', 'post_key': 'surplus store', 'task_id': 12027145746, 'se_id': 22, 'loc_id': 9046112, 'key_id': 775273, 'results_count': 164000000, 'result_extra': 'images,videos,people_also_ask,local_pack', 'result_spell': '', 'result_spell_type': '', 'result_se_check_url': 'https://www.google.co.uk/search?q=surplus%20store&num=100&hl=en&gl=GB&gws_rd=cr&ie=UTF-8&oe=UTF-8&uule=w+CAIQIFISCcM8HUfhhHZIEbzKx0ulhCYF'}, {'post_id': '200', 'post_key': 'travel clinic', 'task_id': 12027145764, 'se_id': 22, 'loc_id': 9046112, 'key_id': 1038296, 'results_count': 367000000, 'result_extra': 'people_also_ask,local_pack', 'result_spell': '', 'result_spell_type': '', 'result_se_check_url': 'https://www.google.co.uk/search?q=travel%20clinic&num=100&hl=en&gl=GB&gws_rd=cr&ie=UTF-8&oe=UTF-8&uule=w+CAIQIFISCcM8HUfhhHZIEbzKx0ulhCYF'}]\n"
     ]
    }
   ],
   "source": [
    "final_results = []\n",
    "\n",
    "completed_tasks_response = client.get(\"/v2/srp_tasks_get\")\n",
    "if completed_tasks_response[\"status\"] == \"error\":\n",
    "    print(\"error. Code: %d Message: %s\" % (completed_tasks_response[\"error\"][\"code\"], completed_tasks_response[\"error\"][\"message\"]))\n",
    "else:\n",
    "    results = completed_tasks_response[\"results\"]\n",
    "    print(results)\n",
    "    for result in results:\n",
    "        srp_response = client.get(\"/v2/srp_tasks_get/%d\" % (result[\"task_id\"]))\n",
    "        if srp_response[\"status\"] == \"error\":\n",
    "            print(\"error. Code: %d Message: %s\" % (srp_response[\"error\"][\"code\"], srp_response[\"error\"][\"message\"]))\n",
    "        else:\n",
    "            final_results.append(srp_response[\"results\"])"
   ]
  },
  {
   "cell_type": "code",
   "execution_count": 102,
   "metadata": {},
   "outputs": [],
   "source": [
    "pickle.dump(final_results, open('SERP_data.pkl', 'wb'))"
   ]
  },
  {
   "cell_type": "markdown",
   "metadata": {},
   "source": [
    "##  Data Munging The Arrays"
   ]
  },
  {
   "cell_type": "code",
   "execution_count": 112,
   "metadata": {
    "collapsed": true
   },
   "outputs": [
    {
     "name": "stdout",
     "output_type": "stream",
     "text": [
      "related\n",
      "{'post_id': '70', 'task_id': 12027031107, 'se_id': 22, 'loc_id': 9046112, 'key_id': 3445065, 'post_key': 'chimney sweep', 'result_datetime': '2019-10-28 23:58:11 +00:00', 'result_position': 1, 'result_url': 'https://www.hetas.co.uk/find-chimney-sweep/', 'result_breadcrumb': 'https://www.hetas.co.uk › find-chimney-sweep', 'result_title': 'Chimney Sweep Search | Find a Chimney Sweep Near Me', 'result_snippet_extra': '', 'result_snippet': 'Find you local HETAS Approved Chimney Sweep using the HETAS interactive search. Simply enter your postcode to find your local chimney sweep.', 'results_count': 12600000, 'result_extra': 'people_also_ask,images,local_pack', 'result_stat': [], 'result_spell': '', 'result_spell_type': '', 'result_highlighted': ['Chimney Sweep', 'chimney sweep'], 'result_se_check_url': 'https://www.google.co.uk/search?q=chimney%20sweep&num=100&hl=en&gl=GB&gws_rd=cr&ie=UTF-8&oe=UTF-8&uule=w+CAIQIFISCcM8HUfhhHZIEbzKx0ulhCYF'}\n",
      "{'post_id': '70', 'task_id': 12027031107, 'se_id': 22, 'loc_id': 9046112, 'key_id': 3445065, 'post_key': 'chimney sweep', 'result_datetime': '2019-10-28 23:58:11 +00:00', 'result_position': 2, 'result_url': 'https://www.readingsweep.co.uk/', 'result_breadcrumb': 'https://www.readingsweep.co.uk', 'result_title': 'VIRGO Chimney Sweep in Reading, Berkshire', 'result_snippet_extra': '', 'result_snippet': 'Reading Chimney Sweep & NACS member. Clean and tidy professional Chimney Sweep.Woodstove power sweeping and traditional brush for the best sweep.', 'results_count': 12600000, 'result_extra': 'people_also_ask,images,local_pack', 'result_stat': [], 'result_spell': '', 'result_spell_type': '', 'result_highlighted': ['Chimney Sweep'], 'result_se_check_url': 'https://www.google.co.uk/search?q=chimney%20sweep&num=100&hl=en&gl=GB&gws_rd=cr&ie=UTF-8&oe=UTF-8&uule=w+CAIQIFISCcM8HUfhhHZIEbzKx0ulhCYF'}\n",
      "{'post_id': '70', 'task_id': 12027031107, 'se_id': 22, 'loc_id': 9046112, 'key_id': 3445065, 'post_key': 'chimney sweep', 'result_datetime': '2019-10-28 23:58:11 +00:00', 'result_position': 3, 'result_url': 'https://www.checkatrade.com/Search/Chimney-Sweep/in/Reading', 'result_breadcrumb': 'https://www.checkatrade.com › Search Chimney-Sweep in Reading', 'result_title': 'Chimney Sweep in Reading - Find a trade with Checkatrade.', 'result_snippet_extra': '', 'result_snippet': 'All members providing Chimney Sweep services in Reading are Recommended, Vetted and Monitored and meet our standards of trading.', 'results_count': 12600000, 'result_extra': 'people_also_ask,images,local_pack', 'result_stat': [], 'result_spell': '', 'result_spell_type': '', 'result_highlighted': ['Chimney Sweep'], 'result_se_check_url': 'https://www.google.co.uk/search?q=chimney%20sweep&num=100&hl=en&gl=GB&gws_rd=cr&ie=UTF-8&oe=UTF-8&uule=w+CAIQIFISCcM8HUfhhHZIEbzKx0ulhCYF'}\n",
      "{'post_id': '70', 'task_id': 12027031107, 'se_id': 22, 'loc_id': 9046112, 'key_id': 3445065, 'post_key': 'chimney sweep', 'result_datetime': '2019-10-28 23:58:11 +00:00', 'result_position': 4, 'result_url': 'https://www.acsweep.co.uk/', 'result_breadcrumb': 'https://www.acsweep.co.uk', 'result_title': 'Adams Chimney Sweep in Reading, Berkshire', 'result_snippet_extra': '', 'result_snippet': 'We are a local chimney sweep business in Reading, Berkshire. Clean, prompt and sensible prices for all your chimney sweeping requirements.', 'results_count': 12600000, 'result_extra': 'people_also_ask,images,local_pack', 'result_stat': [], 'result_spell': '', 'result_spell_type': '', 'result_highlighted': ['chimney sweep', 'chimney sweeping'], 'result_se_check_url': 'https://www.google.co.uk/search?q=chimney%20sweep&num=100&hl=en&gl=GB&gws_rd=cr&ie=UTF-8&oe=UTF-8&uule=w+CAIQIFISCcM8HUfhhHZIEbzKx0ulhCYF'}\n",
      "{'post_id': '70', 'task_id': 12027031107, 'se_id': 22, 'loc_id': 9046112, 'key_id': 3445065, 'post_key': 'chimney sweep', 'result_datetime': '2019-10-28 23:58:11 +00:00', 'result_position': 5, 'result_url': 'https://www.yell.com/s/chimney+sweeps-reading.html', 'result_breadcrumb': 'https://www.yell.com › Reading › Chimney Sweeps', 'result_title': 'Chimney Sweeps in Reading | Get a Quote - Yell', 'result_snippet_extra': '', 'result_snippet': 'Find Chimney Sweeps in Reading, get reviews, contact details and submit reviews for your local tradesmen. Request a quote from Chimney Sweeps near you\\xa0...', 'results_count': 12600000, 'result_extra': 'people_also_ask,images,local_pack', 'result_stat': [], 'result_spell': '', 'result_spell_type': '', 'result_highlighted': ['Chimney Sweeps'], 'result_se_check_url': 'https://www.google.co.uk/search?q=chimney%20sweep&num=100&hl=en&gl=GB&gws_rd=cr&ie=UTF-8&oe=UTF-8&uule=w+CAIQIFISCcM8HUfhhHZIEbzKx0ulhCYF'}\n",
      "{'post_id': '70', 'task_id': 12027031107, 'se_id': 22, 'loc_id': 9046112, 'key_id': 3445065, 'post_key': 'chimney sweep', 'result_datetime': '2019-10-28 23:58:11 +00:00', 'result_position': 6, 'result_url': 'https://www.findachimneysweep.co.uk/', 'result_breadcrumb': 'https://www.findachimneysweep.co.uk', 'result_title': 'Find a Chimney Sweep near me - UK directory of Chimney ...', 'result_snippet_extra': '', 'result_snippet': 'Find a chimney sweep is the UKs premier directory of member sweeps providing customers with qualified, highly trained and knowledgaeble sweeps in your\\xa0...', 'results_count': 12600000, 'result_extra': 'people_also_ask,images,local_pack', 'result_stat': [], 'result_spell': '', 'result_spell_type': '', 'result_highlighted': ['chimney sweep'], 'result_se_check_url': 'https://www.google.co.uk/search?q=chimney%20sweep&num=100&hl=en&gl=GB&gws_rd=cr&ie=UTF-8&oe=UTF-8&uule=w+CAIQIFISCcM8HUfhhHZIEbzKx0ulhCYF'}\n",
      "{'post_id': '70', 'task_id': 12027031107, 'se_id': 22, 'loc_id': 9046112, 'key_id': 3445065, 'post_key': 'chimney sweep', 'result_datetime': '2019-10-28 23:58:11 +00:00', 'result_position': 7, 'result_url': 'https://www.lockchimneysweepsreading.co.uk/', 'result_breadcrumb': 'https://www.lockchimneysweepsreading.co.uk', 'result_title': 'Locks Chimney Sweep | Professional Chimney Sweep in ...', 'result_snippet_extra': '', 'result_snippet': \"We're Master Members of the National Association of Chimney Sweeps and we're HETAS registered so our work will be carried out to the highest of standards.\", 'results_count': 12600000, 'result_extra': 'people_also_ask,images,local_pack', 'result_stat': [], 'result_spell': '', 'result_spell_type': '', 'result_highlighted': ['Chimney Sweeps'], 'result_se_check_url': 'https://www.google.co.uk/search?q=chimney%20sweep&num=100&hl=en&gl=GB&gws_rd=cr&ie=UTF-8&oe=UTF-8&uule=w+CAIQIFISCcM8HUfhhHZIEbzKx0ulhCYF'}\n",
      "{'post_id': '70', 'task_id': 12027031107, 'se_id': 22, 'loc_id': 9046112, 'key_id': 3445065, 'post_key': 'chimney sweep', 'result_datetime': '2019-10-28 23:58:11 +00:00', 'result_position': 8, 'result_url': 'https://nacs.org.uk/', 'result_breadcrumb': 'https://nacs.org.uk', 'result_title': 'Home - The National Association of Chimney Sweeps (NACS)', 'result_snippet_extra': '', 'result_snippet': 'Find a Chimney Sweep near you. Search now ... Training. Extensive range of courses offered for both novices and experienced sweeps & engineers. Book\\xa0...', 'results_count': 12600000, 'result_extra': 'people_also_ask,images,local_pack', 'result_stat': [], 'result_spell': '', 'result_spell_type': '', 'result_highlighted': ['Chimney Sweep'], 'result_se_check_url': 'https://www.google.co.uk/search?q=chimney%20sweep&num=100&hl=en&gl=GB&gws_rd=cr&ie=UTF-8&oe=UTF-8&uule=w+CAIQIFISCcM8HUfhhHZIEbzKx0ulhCYF'}\n",
      "{'post_id': '70', 'task_id': 12027031107, 'se_id': 22, 'loc_id': 9046112, 'key_id': 3445065, 'post_key': 'chimney sweep', 'result_datetime': '2019-10-28 23:58:11 +00:00', 'result_position': 9, 'result_url': 'https://en.wikipedia.org/wiki/Chimney_sweep', 'result_breadcrumb': 'https://en.wikipedia.org › wiki › Chimney_sweep', 'result_title': 'Chimney sweep - Wikipedia', 'result_snippet_extra': '', 'result_snippet': 'A chimney sweep is a person who clears ash and soot from chimneys. The chimney uses the pressure difference caused by a hot column of gas to create a draught and draw air over the hot coals or wood enabling continued combustion. Chimneys may be straight or contain many changes of direction.', 'results_count': 12600000, 'result_extra': 'people_also_ask,images,local_pack', 'result_stat': [], 'result_spell': '', 'result_spell_type': '', 'result_highlighted': ['chimney sweep'], 'result_se_check_url': 'https://www.google.co.uk/search?q=chimney%20sweep&num=100&hl=en&gl=GB&gws_rd=cr&ie=UTF-8&oe=UTF-8&uule=w+CAIQIFISCcM8HUfhhHZIEbzKx0ulhCYF'}\n",
      "{'post_id': '70', 'task_id': 12027031107, 'se_id': 22, 'loc_id': 9046112, 'key_id': 3445065, 'post_key': 'chimney sweep', 'result_datetime': '2019-10-28 23:58:11 +00:00', 'result_position': 10, 'result_url': 'https://www.stovesonline.co.uk/services/chimney-sweeps.html', 'result_breadcrumb': 'https://www.stovesonline.co.uk › services › chimney-sweeps', 'result_title': 'Find your local chimney sweeps UK', 'result_snippet_extra': '', 'result_snippet': 'The Stovesonline Chimney sweep search lets you find your nearest chimney sweep in the UK.', 'results_count': 12600000, 'result_extra': 'people_also_ask,images,local_pack', 'result_stat': [], 'result_spell': '', 'result_spell_type': '', 'result_highlighted': ['Chimney sweep', 'chimney sweep'], 'result_se_check_url': 'https://www.google.co.uk/search?q=chimney%20sweep&num=100&hl=en&gl=GB&gws_rd=cr&ie=UTF-8&oe=UTF-8&uule=w+CAIQIFISCcM8HUfhhHZIEbzKx0ulhCYF'}\n",
      "{'post_id': '70', 'task_id': 12027031107, 'se_id': 22, 'loc_id': 9046112, 'key_id': 3445065, 'post_key': 'chimney sweep', 'result_datetime': '2019-10-28 23:58:11 +00:00', 'result_position': 11, 'result_url': 'https://www.ucas.com/ucas/after-gcses/find-career-ideas/explore-jobs/job-profile/chimney-sweep', 'result_breadcrumb': 'https://www.ucas.com › ucas › find-career-ideas › explore-jobs › job-profile', 'result_title': 'How To Become A Chimney sweep | Explore Jobs | UCAS', 'result_snippet_extra': '', 'result_snippet': 'Chimney sweeps clean the chimneys of open fires.', 'results_count': 12600000, 'result_extra': 'people_also_ask,images,local_pack', 'result_stat': [], 'result_spell': '', 'result_spell_type': '', 'result_highlighted': ['Chimney sweeps'], 'result_se_check_url': 'https://www.google.co.uk/search?q=chimney%20sweep&num=100&hl=en&gl=GB&gws_rd=cr&ie=UTF-8&oe=UTF-8&uule=w+CAIQIFISCcM8HUfhhHZIEbzKx0ulhCYF'}\n",
      "{'post_id': '70', 'task_id': 12027031107, 'se_id': 22, 'loc_id': 9046112, 'key_id': 3445065, 'post_key': 'chimney sweep', 'result_datetime': '2019-10-28 23:58:11 +00:00', 'result_position': 12, 'result_url': 'https://www.sweepsafe.com/become-chimney-sweeps/', 'result_breadcrumb': 'https://www.sweepsafe.com › become-chimney-sweeps', 'result_title': 'Become a Chimney Sweep | Sweep Safe', 'result_snippet_extra': '', 'result_snippet': '5 Sep 2018 - People are now becoming chimney sweeps by choice and not just the stereotypical ex mine worker, many are choosing sweeping as their\\xa0...', 'results_count': 12600000, 'result_extra': 'people_also_ask,images,local_pack', 'result_stat': [], 'result_spell': '', 'result_spell_type': '', 'result_highlighted': ['chimney sweeps'], 'result_se_check_url': 'https://www.google.co.uk/search?q=chimney%20sweep&num=100&hl=en&gl=GB&gws_rd=cr&ie=UTF-8&oe=UTF-8&uule=w+CAIQIFISCcM8HUfhhHZIEbzKx0ulhCYF'}\n",
      "{'post_id': '70', 'task_id': 12027031107, 'se_id': 22, 'loc_id': 9046112, 'key_id': 3445065, 'post_key': 'chimney sweep', 'result_datetime': '2019-10-28 23:58:11 +00:00', 'result_position': 13, 'result_url': 'https://threebestrated.co.uk/chimney-sweeps-in-reading', 'result_breadcrumb': 'https://threebestrated.co.uk › chimney-sweeps-in-reading', 'result_title': '3 Best Chimney Sweeps in Reading, UK - Top Picks August ...', 'result_snippet_extra': '', 'result_snippet': 'Handpicked Top 3 Chimney Sweeps in Reading. We check reputation, history, complaints, reviews, satisfaction, trust, cost to find you the best.', 'results_count': 12600000, 'result_extra': 'people_also_ask,images,local_pack', 'result_stat': [], 'result_spell': '', 'result_spell_type': '', 'result_highlighted': ['Chimney Sweeps'], 'result_se_check_url': 'https://www.google.co.uk/search?q=chimney%20sweep&num=100&hl=en&gl=GB&gws_rd=cr&ie=UTF-8&oe=UTF-8&uule=w+CAIQIFISCcM8HUfhhHZIEbzKx0ulhCYF'}\n",
      "{'post_id': '70', 'task_id': 12027031107, 'se_id': 22, 'loc_id': 9046112, 'key_id': 3445065, 'post_key': 'chimney sweep', 'result_datetime': '2019-10-28 23:58:11 +00:00', 'result_position': 14, 'result_url': 'https://www.guildofmasterchimneysweeps.co.uk/', 'result_breadcrumb': 'https://www.guildofmasterchimneysweeps.co.uk', 'result_title': 'Chimney Sweep Training, Chimney sweeps organisation', 'result_snippet_extra': '', 'result_snippet': 'The Guild of Master Chimney Sweeps is the national association of chimney sweeps in the UK offering chimney sweep training an qualifications to UK\\xa0...', 'results_count': 12600000, 'result_extra': 'people_also_ask,images,local_pack', 'result_stat': [], 'result_spell': '', 'result_spell_type': '', 'result_highlighted': ['Chimney Sweeps', 'chimney sweeps', 'chimney sweep'], 'result_se_check_url': 'https://www.google.co.uk/search?q=chimney%20sweep&num=100&hl=en&gl=GB&gws_rd=cr&ie=UTF-8&oe=UTF-8&uule=w+CAIQIFISCcM8HUfhhHZIEbzKx0ulhCYF'}\n",
      "{'post_id': '70', 'task_id': 12027031107, 'se_id': 22, 'loc_id': 9046112, 'key_id': 3445065, 'post_key': 'chimney sweep', 'result_datetime': '2019-10-28 23:58:11 +00:00', 'result_position': 15, 'result_url': 'https://www.guildofmasterchimneysweeps.co.uk/guild-certified-chimney-sweep-training/', 'result_breadcrumb': 'https://www.guildofmasterchimneysweeps.co.uk › guild-certified-chimney-...', 'result_title': 'Guild Certified chimney sweep training | Guild of Master ...', 'result_snippet_extra': '', 'result_snippet': '1 Jun 2017 - In years past a chimney sweep would have spent 2 years apprenticeship with a master chimney sweep before going out on their own. In reality\\xa0...', 'results_count': 12600000, 'result_extra': 'people_also_ask,images,local_pack', 'result_stat': [], 'result_spell': '', 'result_spell_type': '', 'result_highlighted': ['chimney sweep'], 'result_se_check_url': 'https://www.google.co.uk/search?q=chimney%20sweep&num=100&hl=en&gl=GB&gws_rd=cr&ie=UTF-8&oe=UTF-8&uule=w+CAIQIFISCcM8HUfhhHZIEbzKx0ulhCYF'}\n",
      "{'post_id': '70', 'task_id': 12027031107, 'se_id': 22, 'loc_id': 9046112, 'key_id': 3445065, 'post_key': 'chimney sweep', 'result_datetime': '2019-10-28 23:58:11 +00:00', 'result_position': 16, 'result_url': 'https://www.ourproperty.co.uk/guides/chimney_sweep/', 'result_breadcrumb': 'https://www.ourproperty.co.uk › guides › chimney_sweep', 'result_title': 'All you need to know about chimney sweeping - OurProperty ...', 'result_snippet_extra': '', 'result_snippet': 'When most people think of chimney sweeps, they conjure an image of a soot-covered child in the midst of the Industrial Revolution. Chimney sweeping is an\\xa0...', 'results_count': 12600000, 'result_extra': 'people_also_ask,images,local_pack', 'result_stat': [], 'result_spell': '', 'result_spell_type': '', 'result_highlighted': ['chimney sweeps', 'Chimney sweeping'], 'result_se_check_url': 'https://www.google.co.uk/search?q=chimney%20sweep&num=100&hl=en&gl=GB&gws_rd=cr&ie=UTF-8&oe=UTF-8&uule=w+CAIQIFISCcM8HUfhhHZIEbzKx0ulhCYF'}\n",
      "{'post_id': '70', 'task_id': 12027031107, 'se_id': 22, 'loc_id': 9046112, 'key_id': 3445065, 'post_key': 'chimney sweep', 'result_datetime': '2019-10-28 23:58:11 +00:00', 'result_position': 17, 'result_url': 'https://nationalcareers.service.gov.uk/job-profiles/chimney-sweep', 'result_breadcrumb': 'https://nationalcareers.service.gov.uk › job-profiles › chimney-sweep', 'result_title': 'Chimney sweep | Explore careers - National Careers Service', 'result_snippet_extra': '', 'result_snippet': 'Chimney sweeps clean the chimneys and flues of open fires and other coal, gas, oil and wood-fired heating systems.', 'results_count': 12600000, 'result_extra': 'people_also_ask,images,local_pack', 'result_stat': [], 'result_spell': '', 'result_spell_type': '', 'result_highlighted': ['Chimney sweeps'], 'result_se_check_url': 'https://www.google.co.uk/search?q=chimney%20sweep&num=100&hl=en&gl=GB&gws_rd=cr&ie=UTF-8&oe=UTF-8&uule=w+CAIQIFISCcM8HUfhhHZIEbzKx0ulhCYF'}\n",
      "{'post_id': '70', 'task_id': 12027031107, 'se_id': 22, 'loc_id': 9046112, 'key_id': 3445065, 'post_key': 'chimney sweep', 'result_datetime': '2019-10-28 23:58:11 +00:00', 'result_position': 18, 'result_url': 'https://www.jamesthesweep.co.uk/', 'result_breadcrumb': 'https://www.jamesthesweep.co.uk', 'result_title': 'Master Chimney Sweep & Flue Technician > James The ...', 'result_snippet_extra': '', 'result_snippet': 'James the Sweep – real name James Hughes – is the highest rated and experienced chimney sweep in Royal Tunbridge Wells and nearby areas. He has swept\\xa0...', 'results_count': 12600000, 'result_extra': 'people_also_ask,images,local_pack', 'result_stat': [], 'result_spell': '', 'result_spell_type': '', 'result_highlighted': ['chimney sweep'], 'result_se_check_url': 'https://www.google.co.uk/search?q=chimney%20sweep&num=100&hl=en&gl=GB&gws_rd=cr&ie=UTF-8&oe=UTF-8&uule=w+CAIQIFISCcM8HUfhhHZIEbzKx0ulhCYF'}\n",
      "{'post_id': '70', 'task_id': 12027031107, 'se_id': 22, 'loc_id': 9046112, 'key_id': 3445065, 'post_key': 'chimney sweep', 'result_datetime': '2019-10-28 23:58:11 +00:00', 'result_position': 19, 'result_url': 'https://www.sweepsmart.co.uk/', 'result_breadcrumb': 'https://www.sweepsmart.co.uk', 'result_title': 'SweepSmart | London Chimney Sweep', 'result_snippet_extra': '', 'result_snippet': 'Sweepsmart is your Local Friendly & Professional Chimney Sweep based in Enfield, London. Servicing London, Herts and Essex areas. We help with many\\xa0...', 'results_count': 12600000, 'result_extra': 'people_also_ask,images,local_pack', 'result_stat': [], 'result_spell': '', 'result_spell_type': '', 'result_highlighted': ['Chimney Sweep'], 'result_se_check_url': 'https://www.google.co.uk/search?q=chimney%20sweep&num=100&hl=en&gl=GB&gws_rd=cr&ie=UTF-8&oe=UTF-8&uule=w+CAIQIFISCcM8HUfhhHZIEbzKx0ulhCYF'}\n",
      "{'post_id': '70', 'task_id': 12027031107, 'se_id': 22, 'loc_id': 9046112, 'key_id': 3445065, 'post_key': 'chimney sweep', 'result_datetime': '2019-10-28 23:58:11 +00:00', 'result_position': 20, 'result_url': 'https://www.wilkinschimneysweep.co.uk/winchester', 'result_breadcrumb': 'https://www.wilkinschimneysweep.co.uk › winchester', 'result_title': 'Chimney Sweep in Winchester | Wilkins Chimney Sweep', 'result_snippet_extra': '', 'result_snippet': 'Call your local, friendly and professional chimney sweep on 01962 600999. Adrian Steel is the Wilkins Chimney Sweep for Winchester and the surrounding\\xa0...', 'results_count': 12600000, 'result_extra': 'people_also_ask,images,local_pack', 'result_stat': [], 'result_spell': '', 'result_spell_type': '', 'result_highlighted': ['chimney sweep', 'Chimney Sweep'], 'result_se_check_url': 'https://www.google.co.uk/search?q=chimney%20sweep&num=100&hl=en&gl=GB&gws_rd=cr&ie=UTF-8&oe=UTF-8&uule=w+CAIQIFISCcM8HUfhhHZIEbzKx0ulhCYF'}\n",
      "{'post_id': '70', 'task_id': 12027031107, 'se_id': 22, 'loc_id': 9046112, 'key_id': 3445065, 'post_key': 'chimney sweep', 'result_datetime': '2019-10-28 23:58:11 +00:00', 'result_position': 21, 'result_url': 'https://www.milborrowchimneysweeps.co.uk/', 'result_breadcrumb': 'https://www.milborrowchimneysweeps.co.uk', 'result_title': 'Milborrow Chimney Sweeps: Chimney Sweep Sussex, Kent ...', 'result_snippet_extra': '', 'result_snippet': 'Professional Chimney Sweeps in Sussex, Kent and Surrey, Milborrow Chimney Sweeps. We are a family firm established for over 100 years. We look after your\\xa0...', 'results_count': 12600000, 'result_extra': 'people_also_ask,images,local_pack', 'result_stat': [], 'result_spell': '', 'result_spell_type': '', 'result_highlighted': ['Chimney Sweeps'], 'result_se_check_url': 'https://www.google.co.uk/search?q=chimney%20sweep&num=100&hl=en&gl=GB&gws_rd=cr&ie=UTF-8&oe=UTF-8&uule=w+CAIQIFISCcM8HUfhhHZIEbzKx0ulhCYF'}\n",
      "{'post_id': '70', 'task_id': 12027031107, 'se_id': 22, 'loc_id': 9046112, 'key_id': 3445065, 'post_key': 'chimney sweep', 'result_datetime': '2019-10-28 23:58:11 +00:00', 'result_position': 22, 'result_url': 'https://www.bbc.co.uk/news/uk-england-47772902', 'result_breadcrumb': 'https://www.bbc.co.uk › news › uk-england-47772902', 'result_title': 'Chimney sweeps: The women brushing aside stereotypes ...', 'result_snippet_extra': '', 'result_snippet': \"27 Jun 2019 - Three women explain what it's like to work in the traditionally male-dominated trade of chimney sweeping.\", 'results_count': 12600000, 'result_extra': 'people_also_ask,images,local_pack', 'result_stat': [], 'result_spell': '', 'result_spell_type': '', 'result_highlighted': ['chimney sweeping'], 'result_se_check_url': 'https://www.google.co.uk/search?q=chimney%20sweep&num=100&hl=en&gl=GB&gws_rd=cr&ie=UTF-8&oe=UTF-8&uule=w+CAIQIFISCcM8HUfhhHZIEbzKx0ulhCYF'}\n",
      "{'post_id': '70', 'task_id': 12027031107, 'se_id': 22, 'loc_id': 9046112, 'key_id': 3445065, 'post_key': 'chimney sweep', 'result_datetime': '2019-10-28 23:58:11 +00:00', 'result_position': 23, 'result_url': 'https://www.wilkinschimneysweep.co.uk/halesowen', 'result_breadcrumb': 'https://www.wilkinschimneysweep.co.uk › halesowen', 'result_title': 'Chimney Sweep in Halesowen | Wilkins Chimney Sweep', 'result_snippet_extra': '', 'result_snippet': 'Call your local, friendly and professional chimney sweep on 0121 405 8008. Mark Yeomans is the Wilkins Chimney Sweep for Halesowen and the surrounding\\xa0...', 'results_count': 12600000, 'result_extra': 'people_also_ask,images,local_pack', 'result_stat': [], 'result_spell': '', 'result_spell_type': '', 'result_highlighted': ['chimney sweep', 'Chimney Sweep'], 'result_se_check_url': 'https://www.google.co.uk/search?q=chimney%20sweep&num=100&hl=en&gl=GB&gws_rd=cr&ie=UTF-8&oe=UTF-8&uule=w+CAIQIFISCcM8HUfhhHZIEbzKx0ulhCYF'}\n",
      "{'post_id': '70', 'task_id': 12027031107, 'se_id': 22, 'loc_id': 9046112, 'key_id': 3445065, 'post_key': 'chimney sweep', 'result_datetime': '2019-10-28 23:58:11 +00:00', 'result_position': 24, 'result_url': 'https://www.pearsonsofduns.co.uk/chimney-sweep-stove-servicing.html', 'result_breadcrumb': 'https://www.pearsonsofduns.co.uk › chimney-sweep-stove-servicing', 'result_title': 'Chimney Sweep & Stove Servicing - Duns - Pearsons of Duns', 'result_snippet_extra': '', 'result_snippet': 'Our chimney sweep uses a modern power sweeping brush and we pride ourselves on a clean and professional service.', 'results_count': 12600000, 'result_extra': 'people_also_ask,images,local_pack', 'result_stat': [], 'result_spell': '', 'result_spell_type': '', 'result_highlighted': ['chimney sweep'], 'result_se_check_url': 'https://www.google.co.uk/search?q=chimney%20sweep&num=100&hl=en&gl=GB&gws_rd=cr&ie=UTF-8&oe=UTF-8&uule=w+CAIQIFISCcM8HUfhhHZIEbzKx0ulhCYF'}\n",
      "{'post_id': '70', 'task_id': 12027031107, 'se_id': 22, 'loc_id': 9046112, 'key_id': 3445065, 'post_key': 'chimney sweep', 'result_datetime': '2019-10-28 23:58:11 +00:00', 'result_position': 25, 'result_url': 'https://highpeaksweep.co.uk/', 'result_breadcrumb': 'https://highpeaksweep.co.uk', 'result_title': 'High Peak Sweep | Chimney Sweep Derbyshire | Bird Guards', 'result_snippet_extra': '', 'result_snippet': 'High Peak Chimney Sweep offers a clean, friendly and professional service to ensure that your chimney works safely and efficiently. From a standard sweep\\xa0...', 'results_count': 12600000, 'result_extra': 'people_also_ask,images,local_pack', 'result_stat': [], 'result_spell': '', 'result_spell_type': '', 'result_highlighted': ['Chimney Sweep'], 'result_se_check_url': 'https://www.google.co.uk/search?q=chimney%20sweep&num=100&hl=en&gl=GB&gws_rd=cr&ie=UTF-8&oe=UTF-8&uule=w+CAIQIFISCcM8HUfhhHZIEbzKx0ulhCYF'}\n",
      "{'post_id': '70', 'task_id': 12027031107, 'se_id': 22, 'loc_id': 9046112, 'key_id': 3445065, 'post_key': 'chimney sweep', 'result_datetime': '2019-10-28 23:58:11 +00:00', 'result_position': 26, 'result_url': 'https://www.thesun.co.uk/news/8615000/dead-chimney-sweeps-parliament-warning/', 'result_breadcrumb': 'https://www.thesun.co.uk › news › dead-chimney-sweeps-parliament-warning', 'result_title': 'Bodies of dead chimney sweep boys as young as four could ...', 'result_snippet_extra': '', 'result_snippet': '11 Mar 2019 - THE bodies of dead chimney sweep boys could still be lying in Parliament, an MP has warned. Experts examining the crumbling Palace of\\xa0...', 'results_count': 12600000, 'result_extra': 'people_also_ask,images,local_pack', 'result_stat': [], 'result_spell': '', 'result_spell_type': '', 'result_highlighted': ['chimney sweep'], 'result_se_check_url': 'https://www.google.co.uk/search?q=chimney%20sweep&num=100&hl=en&gl=GB&gws_rd=cr&ie=UTF-8&oe=UTF-8&uule=w+CAIQIFISCcM8HUfhhHZIEbzKx0ulhCYF'}\n",
      "{'post_id': '70', 'task_id': 12027031107, 'se_id': 22, 'loc_id': 9046112, 'key_id': 3445065, 'post_key': 'chimney sweep', 'result_datetime': '2019-10-28 23:58:11 +00:00', 'result_position': 27, 'result_url': 'https://www.mrjollychimneysweep.com/', 'result_breadcrumb': 'https://www.mrjollychimneysweep.com', 'result_title': 'Chimney Sweep London, Mr Jolly Chimney Sweep Tunbridge ...', 'result_snippet_extra': '', 'result_snippet': 'Mr Jolly, chimney sweep for London and the South East. We provide a friendly and reliable chimney sweeping service. We issue certificates and are insured and\\xa0...', 'results_count': 12600000, 'result_extra': 'people_also_ask,images,local_pack', 'result_stat': [], 'result_spell': '', 'result_spell_type': '', 'result_highlighted': ['chimney sweep', 'chimney sweeping'], 'result_se_check_url': 'https://www.google.co.uk/search?q=chimney%20sweep&num=100&hl=en&gl=GB&gws_rd=cr&ie=UTF-8&oe=UTF-8&uule=w+CAIQIFISCcM8HUfhhHZIEbzKx0ulhCYF'}\n",
      "{'post_id': '70', 'task_id': 12027031107, 'se_id': 22, 'loc_id': 9046112, 'key_id': 3445065, 'post_key': 'chimney sweep', 'result_datetime': '2019-10-28 23:58:11 +00:00', 'result_position': 28, 'result_url': 'https://uk.trustpilot.com/review/wilkinschimneysweep.co.uk', 'result_breadcrumb': 'https://uk.trustpilot.com › review › wilkinschimneysweep.co.uk', 'result_title': 'Wilkins Chimney Sweep Reviews | Read Customer Service ...', 'result_snippet_extra': ' Rating: 5 - \\u200e5,294 reviews', 'result_snippet': 'Wilkins Chimney Sweep has 5 stars! Check out what 5294 people have written so far, and share your own experience.', 'results_count': 12600000, 'result_extra': 'people_also_ask,images,local_pack', 'result_stat': {'rating': 5, 'rating_type': 'stars', 'rating_max': 5, 'votes': 5294}, 'result_spell': '', 'result_spell_type': '', 'result_highlighted': ['Chimney Sweep'], 'result_se_check_url': 'https://www.google.co.uk/search?q=chimney%20sweep&num=100&hl=en&gl=GB&gws_rd=cr&ie=UTF-8&oe=UTF-8&uule=w+CAIQIFISCcM8HUfhhHZIEbzKx0ulhCYF'}\n",
      "{'post_id': '70', 'task_id': 12027031107, 'se_id': 22, 'loc_id': 9046112, 'key_id': 3445065, 'post_key': 'chimney sweep', 'result_datetime': '2019-10-28 23:58:11 +00:00', 'result_position': 29, 'result_url': 'https://www.wintermantle-chimneysweep.uk/', 'result_breadcrumb': 'https://www.wintermantle-chimneysweep.uk', 'result_title': 'Jack Wintermantle Chimney Sweep Services - Home', 'result_snippet_extra': '', 'result_snippet': 'Jack Wintermantle Chimney Sweep Services. Approved by HETAS and a member of the Guild of Master Chimney Sweeps. Covering West Somerset, Exmoor\\xa0...', 'results_count': 12600000, 'result_extra': 'people_also_ask,images,local_pack', 'result_stat': [], 'result_spell': '', 'result_spell_type': '', 'result_highlighted': ['Chimney Sweep', 'Chimney Sweeps'], 'result_se_check_url': 'https://www.google.co.uk/search?q=chimney%20sweep&num=100&hl=en&gl=GB&gws_rd=cr&ie=UTF-8&oe=UTF-8&uule=w+CAIQIFISCcM8HUfhhHZIEbzKx0ulhCYF'}\n",
      "{'post_id': '70', 'task_id': 12027031107, 'se_id': 22, 'loc_id': 9046112, 'key_id': 3445065, 'post_key': 'chimney sweep', 'result_datetime': '2019-10-28 23:58:11 +00:00', 'result_position': 30, 'result_url': 'https://www.rcchimneysweep.uk/', 'result_breadcrumb': 'https://www.rcchimneysweep.uk', 'result_title': 'R C Chimney Sweep - professional chimney sweep service ...', 'result_snippet_extra': '', 'result_snippet': 'R C Chimney Sweep is a professional chimney sweep service operating across Yorkshire. Contact us today and see what we can do for you.', 'results_count': 12600000, 'result_extra': 'people_also_ask,images,local_pack', 'result_stat': [], 'result_spell': '', 'result_spell_type': '', 'result_highlighted': ['Chimney Sweep', 'chimney sweep'], 'result_se_check_url': 'https://www.google.co.uk/search?q=chimney%20sweep&num=100&hl=en&gl=GB&gws_rd=cr&ie=UTF-8&oe=UTF-8&uule=w+CAIQIFISCcM8HUfhhHZIEbzKx0ulhCYF'}\n",
      "{'post_id': '70', 'task_id': 12027031107, 'se_id': 22, 'loc_id': 9046112, 'key_id': 3445065, 'post_key': 'chimney sweep', 'result_datetime': '2019-10-28 23:58:11 +00:00', 'result_position': 31, 'result_url': 'https://www.thebfa.org/members/wilkins-chimney-sweep-limited/', 'result_breadcrumb': 'https://www.thebfa.org › members › wilkins-chimney-sweep-limited', 'result_title': 'Wilkins Chimney Sweep Limited · The British Franchise ...', 'result_snippet_extra': '', 'result_snippet': \"Company Overview. We're a business with a great heritage. Established in 1895 in Newbury, Berkshire, Wilkins Chimney Sweep expanded with its first\\xa0...\", 'results_count': 12600000, 'result_extra': 'people_also_ask,images,local_pack', 'result_stat': [], 'result_spell': '', 'result_spell_type': '', 'result_highlighted': ['Chimney Sweep'], 'result_se_check_url': 'https://www.google.co.uk/search?q=chimney%20sweep&num=100&hl=en&gl=GB&gws_rd=cr&ie=UTF-8&oe=UTF-8&uule=w+CAIQIFISCcM8HUfhhHZIEbzKx0ulhCYF'}\n",
      "{'post_id': '70', 'task_id': 12027031107, 'se_id': 22, 'loc_id': 9046112, 'key_id': 3445065, 'post_key': 'chimney sweep', 'result_datetime': '2019-10-28 23:58:11 +00:00', 'result_position': 32, 'result_url': 'https://butterfly-conservation.org/moths/chimney-sweeper', 'result_breadcrumb': 'https://butterfly-conservation.org › moths › chimney-sweeper', 'result_title': 'Chimney Sweeper - Butterfly Conservation', 'result_snippet_extra': '', 'result_snippet': 'This distinctive moth has sometimes been mistaken for the Small Blue butterfly. It rarely varies in colour but may become browner with wear. This moth is usually\\xa0...', 'results_count': 12600000, 'result_extra': 'people_also_ask,images,local_pack', 'result_stat': [], 'result_spell': '', 'result_spell_type': '', 'result_highlighted': [], 'result_se_check_url': 'https://www.google.co.uk/search?q=chimney%20sweep&num=100&hl=en&gl=GB&gws_rd=cr&ie=UTF-8&oe=UTF-8&uule=w+CAIQIFISCcM8HUfhhHZIEbzKx0ulhCYF'}\n",
      "{'post_id': '70', 'task_id': 12027031107, 'se_id': 22, 'loc_id': 9046112, 'key_id': 3445065, 'post_key': 'chimney sweep', 'result_datetime': '2019-10-28 23:58:11 +00:00', 'result_position': 33, 'result_url': 'https://metro.co.uk/2019/02/03/disneys-mary-poppins-branded-racist-chimney-sweep-scene-blackface-8430194/', 'result_breadcrumb': 'https://metro.co.uk › Entertainment › Film', 'result_title': \"Disney's Mary Poppins called 'racist' as chimney sweep are ...\", 'result_snippet_extra': '', 'result_snippet': \"3 Feb 2019 - Disney's Mary Poppins called 'racist' by university professor over chimney sweep scene.\", 'results_count': 12600000, 'result_extra': 'people_also_ask,images,local_pack', 'result_stat': [], 'result_spell': '', 'result_spell_type': '', 'result_highlighted': ['chimney sweep'], 'result_se_check_url': 'https://www.google.co.uk/search?q=chimney%20sweep&num=100&hl=en&gl=GB&gws_rd=cr&ie=UTF-8&oe=UTF-8&uule=w+CAIQIFISCcM8HUfhhHZIEbzKx0ulhCYF'}\n",
      "{'post_id': '70', 'task_id': 12027031107, 'se_id': 22, 'loc_id': 9046112, 'key_id': 3445065, 'post_key': 'chimney sweep', 'result_datetime': '2019-10-28 23:58:11 +00:00', 'result_position': 34, 'result_url': 'https://mainlynorfolk.info/copperfamily/songs/sweepchimneysweep.html', 'result_breadcrumb': 'https://mainlynorfolk.info › copperfamily › songs › sweepchimneysweep', 'result_title': 'Sweep, Chimney Sweep (Roud 1217) - Mainly Norfolk', 'result_snippet_extra': '', 'result_snippet': '24 Nov 2018 - Steeleye Span (then with Martin Carthy and John Kirkpatrick) recorded Sweep, Chimney Sweep in 1977 for their tenth album, Storm Force Ten\\xa0...', 'results_count': 12600000, 'result_extra': 'people_also_ask,images,local_pack', 'result_stat': [], 'result_spell': '', 'result_spell_type': '', 'result_highlighted': ['Chimney Sweep'], 'result_se_check_url': 'https://www.google.co.uk/search?q=chimney%20sweep&num=100&hl=en&gl=GB&gws_rd=cr&ie=UTF-8&oe=UTF-8&uule=w+CAIQIFISCcM8HUfhhHZIEbzKx0ulhCYF'}\n",
      "{'post_id': '70', 'task_id': 12027031107, 'se_id': 22, 'loc_id': 9046112, 'key_id': 3445065, 'post_key': 'chimney sweep', 'result_datetime': '2019-10-28 23:58:11 +00:00', 'result_position': 35, 'result_url': 'https://www.whitbychimneysweep.co.uk/', 'result_breadcrumb': 'https://www.whitbychimneysweep.co.uk', 'result_title': 'Mucky Duck - Whitby Chimney Sweep - Home', 'result_snippet_extra': '', 'result_snippet': 'Whitby Chimney Sweep - Traditional Brush & Vacuum - Domestic & Commercial - ICS Registered.', 'results_count': 12600000, 'result_extra': 'people_also_ask,images,local_pack', 'result_stat': [], 'result_spell': '', 'result_spell_type': '', 'result_highlighted': ['Chimney Sweep'], 'result_se_check_url': 'https://www.google.co.uk/search?q=chimney%20sweep&num=100&hl=en&gl=GB&gws_rd=cr&ie=UTF-8&oe=UTF-8&uule=w+CAIQIFISCcM8HUfhhHZIEbzKx0ulhCYF'}\n",
      "{'post_id': '70', 'task_id': 12027031107, 'se_id': 22, 'loc_id': 9046112, 'key_id': 3445065, 'post_key': 'chimney sweep', 'result_datetime': '2019-10-28 23:58:11 +00:00', 'result_position': 36, 'result_url': 'https://www.newcastlesupportdirectory.org.uk/kb5/newcastle/fsd/service.page?id=hg9Ws6Z8vJU', 'result_breadcrumb': 'https://www.newcastlesupportdirectory.org.uk › newcastle › fsd › service', 'result_title': 'Chimney Sweep Theatre Company | Newcastle Support ...', 'result_snippet_extra': '', 'result_snippet': 'Chimney Sweep TC are a musical theatre company for children in the North East. We create and instil confidence through performing arts to children from 4\\xa0...', 'results_count': 12600000, 'result_extra': 'people_also_ask,images,local_pack', 'result_stat': [], 'result_spell': '', 'result_spell_type': '', 'result_highlighted': ['Chimney Sweep'], 'result_se_check_url': 'https://www.google.co.uk/search?q=chimney%20sweep&num=100&hl=en&gl=GB&gws_rd=cr&ie=UTF-8&oe=UTF-8&uule=w+CAIQIFISCcM8HUfhhHZIEbzKx0ulhCYF'}\n",
      "{'post_id': '70', 'task_id': 12027031107, 'se_id': 22, 'loc_id': 9046112, 'key_id': 3445065, 'post_key': 'chimney sweep', 'result_datetime': '2019-10-28 23:58:11 +00:00', 'result_position': 37, 'result_url': 'https://www.tomthesweep.co.uk/', 'result_breadcrumb': 'https://www.tomthesweep.co.uk', 'result_title': 'Tom Griffiths - Chimney Sweep | Ceredigion', 'result_snippet_extra': '', 'result_snippet': 'Tom Griffiths, Chimney Sweep & stove installer in Ceredigion. HETAS & Guild of Master Sweeps recommended. Call 07718275150.', 'results_count': 12600000, 'result_extra': 'people_also_ask,images,local_pack', 'result_stat': [], 'result_spell': '', 'result_spell_type': '', 'result_highlighted': ['Chimney Sweep'], 'result_se_check_url': 'https://www.google.co.uk/search?q=chimney%20sweep&num=100&hl=en&gl=GB&gws_rd=cr&ie=UTF-8&oe=UTF-8&uule=w+CAIQIFISCcM8HUfhhHZIEbzKx0ulhCYF'}\n",
      "{'post_id': '70', 'task_id': 12027031107, 'se_id': 22, 'loc_id': 9046112, 'key_id': 3445065, 'post_key': 'chimney sweep', 'result_datetime': '2019-10-28 23:58:11 +00:00', 'result_position': 38, 'result_url': 'http://www.ashburtonchimneysweep.co.uk/', 'result_breadcrumb': 'www.ashburtonchimneysweep.co.uk', 'result_title': 'Ashburton Chimney Sweep | Cre-Away Tar Removal | HETAS ...', 'result_snippet_extra': '', 'result_snippet': 'Dan Fisher offers a professional chimney sweep service in Ashburton, Buckfastleigh and the surrounding Dartmoor towns and villages. Professionally trained\\xa0...', 'results_count': 12600000, 'result_extra': 'people_also_ask,images,local_pack', 'result_stat': [], 'result_spell': '', 'result_spell_type': '', 'result_highlighted': ['chimney sweep'], 'result_se_check_url': 'https://www.google.co.uk/search?q=chimney%20sweep&num=100&hl=en&gl=GB&gws_rd=cr&ie=UTF-8&oe=UTF-8&uule=w+CAIQIFISCcM8HUfhhHZIEbzKx0ulhCYF'}\n",
      "{'post_id': '70', 'task_id': 12027031107, 'se_id': 22, 'loc_id': 9046112, 'key_id': 3445065, 'post_key': 'chimney sweep', 'result_datetime': '2019-10-28 23:58:11 +00:00', 'result_position': 39, 'result_url': 'http://www.wessexchimneys.co.uk/', 'result_breadcrumb': 'www.wessexchimneys.co.uk', 'result_title': 'Wessex Chimneys | Chimney sweep based in Weymouth ...', 'result_snippet_extra': '', 'result_snippet': 'Wessex Chimneys - Chimneys sweep and chimney safey. We fit chimney pots, bird spikes, guards and carbon monoxide alarms and cover the dorset area.', 'results_count': 12600000, 'result_extra': 'people_also_ask,images,local_pack', 'result_stat': [], 'result_spell': '', 'result_spell_type': '', 'result_highlighted': ['Chimneys sweep'], 'result_se_check_url': 'https://www.google.co.uk/search?q=chimney%20sweep&num=100&hl=en&gl=GB&gws_rd=cr&ie=UTF-8&oe=UTF-8&uule=w+CAIQIFISCcM8HUfhhHZIEbzKx0ulhCYF'}\n",
      "{'post_id': '70', 'task_id': 12027031107, 'se_id': 22, 'loc_id': 9046112, 'key_id': 3445065, 'post_key': 'chimney sweep', 'result_datetime': '2019-10-28 23:58:11 +00:00', 'result_position': 40, 'result_url': 'https://www.prosweepdevon.co.uk/', 'result_breadcrumb': 'https://www.prosweepdevon.co.uk', 'result_title': 'Chimney Sweep in Newton Abbot & Bovey Tracey, Devon', 'result_snippet_extra': '', 'result_snippet': '5 Mar 2018 - Trained Chimney Sweep in Bovey Tracey, Newton Abbot, Torquay and surrounding areas. Members of Devon Trading Standards Buy With\\xa0...', 'results_count': 12600000, 'result_extra': 'people_also_ask,images,local_pack', 'result_stat': [], 'result_spell': '', 'result_spell_type': '', 'result_highlighted': ['Chimney Sweep'], 'result_se_check_url': 'https://www.google.co.uk/search?q=chimney%20sweep&num=100&hl=en&gl=GB&gws_rd=cr&ie=UTF-8&oe=UTF-8&uule=w+CAIQIFISCcM8HUfhhHZIEbzKx0ulhCYF'}\n",
      "{'post_id': '70', 'task_id': 12027031107, 'se_id': 22, 'loc_id': 9046112, 'key_id': 3445065, 'post_key': 'chimney sweep', 'result_datetime': '2019-10-28 23:58:11 +00:00', 'result_position': 41, 'result_url': 'http://www.academysweeps.co.uk/', 'result_breadcrumb': 'www.academysweeps.co.uk', 'result_title': 'Academy Sweeps, Chimney Sweep services in Camberley ...', 'result_snippet_extra': '', 'result_snippet': 'Trading Standards and Checkatrade rated chimney sweep. I am a local fireman of 23 yearsâ€™ service who has been a chimney sweep in Surrey, Hants, Berks\\xa0...', 'results_count': 12600000, 'result_extra': 'people_also_ask,images,local_pack', 'result_stat': [], 'result_spell': '', 'result_spell_type': '', 'result_highlighted': ['chimney sweep'], 'result_se_check_url': 'https://www.google.co.uk/search?q=chimney%20sweep&num=100&hl=en&gl=GB&gws_rd=cr&ie=UTF-8&oe=UTF-8&uule=w+CAIQIFISCcM8HUfhhHZIEbzKx0ulhCYF'}\n",
      "{'post_id': '70', 'task_id': 12027031107, 'se_id': 22, 'loc_id': 9046112, 'key_id': 3445065, 'post_key': 'chimney sweep', 'result_datetime': '2019-10-28 23:58:11 +00:00', 'result_position': 42, 'result_url': 'https://www.royalwarrant.org/company/milborrow-chimney-sweeps', 'result_breadcrumb': 'https://www.royalwarrant.org › company › milborrow-chimney-sweeps', 'result_title': 'Milborrow Chimney Sweeps | Royal Warrant Holders ...', 'result_snippet_extra': '', 'result_snippet': 'Chimney, fireplace and stove experts. New stove and fireplace installations, CCTV surveys, smoke, soundness and pressure testing, inspections and written\\xa0...', 'results_count': 12600000, 'result_extra': 'people_also_ask,images,local_pack', 'result_stat': [], 'result_spell': '', 'result_spell_type': '', 'result_highlighted': ['Chimney', 'fireplace'], 'result_se_check_url': 'https://www.google.co.uk/search?q=chimney%20sweep&num=100&hl=en&gl=GB&gws_rd=cr&ie=UTF-8&oe=UTF-8&uule=w+CAIQIFISCcM8HUfhhHZIEbzKx0ulhCYF'}\n",
      "{'post_id': '70', 'task_id': 12027031107, 'se_id': 22, 'loc_id': 9046112, 'key_id': 3445065, 'post_key': 'chimney sweep', 'result_datetime': '2019-10-28 23:58:11 +00:00', 'result_position': 43, 'result_url': 'https://www.saferchimneys.co.uk/', 'result_breadcrumb': 'https://www.saferchimneys.co.uk', 'result_title': 'Safer Chimneys: Professional Chimney Sweep | Hampshire', 'result_snippet_extra': '', 'result_snippet': 'Your local professional Chimney Sweep. Based in Havant, Safer Chimneys covers South and East Hampshire and neighbouring West Sussex. Member of the\\xa0...', 'results_count': 12600000, 'result_extra': 'people_also_ask,images,local_pack', 'result_stat': [], 'result_spell': '', 'result_spell_type': '', 'result_highlighted': ['Chimney Sweep'], 'result_se_check_url': 'https://www.google.co.uk/search?q=chimney%20sweep&num=100&hl=en&gl=GB&gws_rd=cr&ie=UTF-8&oe=UTF-8&uule=w+CAIQIFISCcM8HUfhhHZIEbzKx0ulhCYF'}\n",
      "{'post_id': '70', 'task_id': 12027031107, 'se_id': 22, 'loc_id': 9046112, 'key_id': 3445065, 'post_key': 'chimney sweep', 'result_datetime': '2019-10-28 23:58:11 +00:00', 'result_position': 44, 'result_url': 'https://niacs.co.uk/members/sweeps-away-chimney-sweep/', 'result_breadcrumb': 'https://niacs.co.uk › members › sweeps-away-chimney-sweep', 'result_title': 'Sweeps Away Chimney Sweep – NIACS', 'result_snippet_extra': '', 'result_snippet': 'Sweeps Away Chimney Sweep. Proprietor: Darran Lindsay. 17 Hillmount Cottages Moneyreagh Co Down BT23 6DT. Landline:+44 2890 448 815. Mobile: +44\\xa0...', 'results_count': 12600000, 'result_extra': 'people_also_ask,images,local_pack', 'result_stat': [], 'result_spell': '', 'result_spell_type': '', 'result_highlighted': ['Chimney Sweep'], 'result_se_check_url': 'https://www.google.co.uk/search?q=chimney%20sweep&num=100&hl=en&gl=GB&gws_rd=cr&ie=UTF-8&oe=UTF-8&uule=w+CAIQIFISCcM8HUfhhHZIEbzKx0ulhCYF'}\n",
      "{'post_id': '70', 'task_id': 12027031107, 'se_id': 22, 'loc_id': 9046112, 'key_id': 3445065, 'post_key': 'chimney sweep', 'result_datetime': '2019-10-28 23:58:11 +00:00', 'result_position': 45, 'result_url': 'https://www.heart.co.uk/showbiz/tv-movies/mary-poppins-racist/', 'result_breadcrumb': 'https://www.heart.co.uk › showbiz › tv-movies › mary-poppins-racist', 'result_title': \"American academic brands Mary Poppins 'racist' because of ...\", 'result_snippet_extra': '', 'result_snippet': '4 Feb 2019 - The university professor claims that the chimney sweep appearances have a darker, offensive meaning.', 'results_count': 12600000, 'result_extra': 'people_also_ask,images,local_pack', 'result_stat': [], 'result_spell': '', 'result_spell_type': '', 'result_highlighted': ['chimney sweep'], 'result_se_check_url': 'https://www.google.co.uk/search?q=chimney%20sweep&num=100&hl=en&gl=GB&gws_rd=cr&ie=UTF-8&oe=UTF-8&uule=w+CAIQIFISCcM8HUfhhHZIEbzKx0ulhCYF'}\n",
      "{'post_id': '70', 'task_id': 12027031107, 'se_id': 22, 'loc_id': 9046112, 'key_id': 3445065, 'post_key': 'chimney sweep', 'result_datetime': '2019-10-28 23:58:11 +00:00', 'result_position': 46, 'result_url': 'https://meadowchimneysweep.co.uk/', 'result_breadcrumb': 'https://meadowchimneysweep.co.uk', 'result_title': 'Meadow Chimney Sweeping services and general ...', 'result_snippet_extra': '', 'result_snippet': 'Meadow Chimney Sweeping Services and general property maintenance. Open fires, wood burners, gas and oil flues swept using the latest technology and\\xa0...', 'results_count': 12600000, 'result_extra': 'people_also_ask,images,local_pack', 'result_stat': [], 'result_spell': '', 'result_spell_type': '', 'result_highlighted': ['Chimney Sweeping'], 'result_se_check_url': 'https://www.google.co.uk/search?q=chimney%20sweep&num=100&hl=en&gl=GB&gws_rd=cr&ie=UTF-8&oe=UTF-8&uule=w+CAIQIFISCcM8HUfhhHZIEbzKx0ulhCYF'}\n",
      "{'post_id': '70', 'task_id': 12027031107, 'se_id': 22, 'loc_id': 9046112, 'key_id': 3445065, 'post_key': 'chimney sweep', 'result_datetime': '2019-10-28 23:58:11 +00:00', 'result_position': 47, 'result_url': 'https://www.blakeschimneysweep.co.uk/', 'result_breadcrumb': 'https://www.blakeschimneysweep.co.uk', 'result_title': \"Blake's Chimney Sweeping & Woodburners\", 'result_snippet_extra': '', 'result_snippet': \"Blake's Chimney Sweeping offer a professional and reliable chimney sweeping and repair service. We also install & repair woodburners.\", 'results_count': 12600000, 'result_extra': 'people_also_ask,images,local_pack', 'result_stat': [], 'result_spell': '', 'result_spell_type': '', 'result_highlighted': ['Chimney Sweeping', 'chimney sweeping'], 'result_se_check_url': 'https://www.google.co.uk/search?q=chimney%20sweep&num=100&hl=en&gl=GB&gws_rd=cr&ie=UTF-8&oe=UTF-8&uule=w+CAIQIFISCcM8HUfhhHZIEbzKx0ulhCYF'}\n",
      "{'post_id': '70', 'task_id': 12027031107, 'se_id': 22, 'loc_id': 9046112, 'key_id': 3445065, 'post_key': 'chimney sweep', 'result_datetime': '2019-10-28 23:58:11 +00:00', 'result_position': 48, 'result_url': 'https://www.davethechimneysweep.co.uk/', 'result_breadcrumb': 'https://www.davethechimneysweep.co.uk', 'result_title': 'Dave the Chimney Sweep: Local chimney sweep', 'result_snippet_extra': '', 'result_snippet': 'If you are looking for a local chimney sweep, look no further than Dave the Chimney Sweep. I serve customers across Saltash.', 'results_count': 12600000, 'result_extra': 'people_also_ask,images,local_pack', 'result_stat': [], 'result_spell': '', 'result_spell_type': '', 'result_highlighted': ['chimney sweep', 'Chimney Sweep'], 'result_se_check_url': 'https://www.google.co.uk/search?q=chimney%20sweep&num=100&hl=en&gl=GB&gws_rd=cr&ie=UTF-8&oe=UTF-8&uule=w+CAIQIFISCcM8HUfhhHZIEbzKx0ulhCYF'}\n",
      "{'post_id': '70', 'task_id': 12027031107, 'se_id': 22, 'loc_id': 9046112, 'key_id': 3445065, 'post_key': 'chimney sweep', 'result_datetime': '2019-10-28 23:58:11 +00:00', 'result_position': 49, 'result_url': 'http://www.mooringbrotherschimneysweep.co.uk/', 'result_breadcrumb': 'www.mooringbrotherschimneysweep.co.uk', 'result_title': 'Mooring Brothers Chimney Sweeps – All Chimneys & Stoves ...', 'result_snippet_extra': '', 'result_snippet': 'Mooring Brothers Chimney Sweep is a family run registered member of the Guild of Master Chimney Sweeps and HETAS Registered. To find out more about\\xa0...', 'results_count': 12600000, 'result_extra': 'people_also_ask,images,local_pack', 'result_stat': [], 'result_spell': '', 'result_spell_type': '', 'result_highlighted': ['Chimney Sweep', 'Chimney Sweeps'], 'result_se_check_url': 'https://www.google.co.uk/search?q=chimney%20sweep&num=100&hl=en&gl=GB&gws_rd=cr&ie=UTF-8&oe=UTF-8&uule=w+CAIQIFISCcM8HUfhhHZIEbzKx0ulhCYF'}\n",
      "{'post_id': '70', 'task_id': 12027031107, 'se_id': 22, 'loc_id': 9046112, 'key_id': 3445065, 'post_key': 'chimney sweep', 'result_datetime': '2019-10-28 23:58:11 +00:00', 'result_position': 50, 'result_url': 'https://www.planitplus.net/JobProfiles/View/539/139', 'result_breadcrumb': 'https://www.planitplus.net › JobProfiles › View', 'result_title': 'Job Profiles : Chimney Sweep Property Services - Planit', 'result_snippet_extra': '', 'result_snippet': \"A chimney sweep unblocks chimney flues and sweeps them clean of soot, tar, birds' nests and anything else that could be blocking them, to prevent chimney\\xa0...\", 'results_count': 12600000, 'result_extra': 'people_also_ask,images,local_pack', 'result_stat': [], 'result_spell': '', 'result_spell_type': '', 'result_highlighted': ['chimney sweep'], 'result_se_check_url': 'https://www.google.co.uk/search?q=chimney%20sweep&num=100&hl=en&gl=GB&gws_rd=cr&ie=UTF-8&oe=UTF-8&uule=w+CAIQIFISCcM8HUfhhHZIEbzKx0ulhCYF'}\n",
      "{'post_id': '70', 'task_id': 12027031107, 'se_id': 22, 'loc_id': 9046112, 'key_id': 3445065, 'post_key': 'chimney sweep', 'result_datetime': '2019-10-28 23:58:11 +00:00', 'result_position': 51, 'result_url': 'https://www.chimneysweeplocal.co.uk/sweeps/m-g-buckingham-vacuum-chimney-sweep/', 'result_breadcrumb': 'https://www.chimneysweeplocal.co.uk › sweeps › m-g-buckingham-vacuu...', 'result_title': 'M & G Buckingham Vacuum Chimney Sweep in Oxfordshire ...', 'result_snippet_extra': '', 'result_snippet': '14 Oct 2019 - M & G Buckingham Vacuum Chimney Sweep are professional chimney sweeps in Oxfordshire managed by Gary Buckingham covering\\xa0...', 'results_count': 12600000, 'result_extra': 'people_also_ask,images,local_pack', 'result_stat': [], 'result_spell': '', 'result_spell_type': '', 'result_highlighted': ['Chimney Sweep', 'chimney sweeps'], 'result_se_check_url': 'https://www.google.co.uk/search?q=chimney%20sweep&num=100&hl=en&gl=GB&gws_rd=cr&ie=UTF-8&oe=UTF-8&uule=w+CAIQIFISCcM8HUfhhHZIEbzKx0ulhCYF'}\n",
      "{'post_id': '70', 'task_id': 12027031107, 'se_id': 22, 'loc_id': 9046112, 'key_id': 3445065, 'post_key': 'chimney sweep', 'result_datetime': '2019-10-28 23:58:11 +00:00', 'result_position': 52, 'result_url': 'https://www.thechimneysweepers.co.uk/uncategorized/chimney-sweep-north-london/', 'result_breadcrumb': 'https://www.thechimneysweepers.co.uk › uncategorized › chimney-sweep-...', 'result_title': 'Chimney Sweep North London - Jordan Brothers', 'result_snippet_extra': '', 'result_snippet': '4 Sep 2016 - Chimney Sweep North London. Jordan Brothers have been chimney sweeps in North London for the last twenty years. We cover all of the\\xa0...', 'results_count': 12600000, 'result_extra': 'people_also_ask,images,local_pack', 'result_stat': [], 'result_spell': '', 'result_spell_type': '', 'result_highlighted': ['Chimney Sweep', 'chimney sweeps'], 'result_se_check_url': 'https://www.google.co.uk/search?q=chimney%20sweep&num=100&hl=en&gl=GB&gws_rd=cr&ie=UTF-8&oe=UTF-8&uule=w+CAIQIFISCcM8HUfhhHZIEbzKx0ulhCYF'}\n",
      "{'post_id': '70', 'task_id': 12027031107, 'se_id': 22, 'loc_id': 9046112, 'key_id': 3445065, 'post_key': 'chimney sweep', 'result_datetime': '2019-10-28 23:58:11 +00:00', 'result_position': 53, 'result_url': 'http://www.prchimneysweeps.co.uk/', 'result_breadcrumb': 'www.prchimneysweeps.co.uk', 'result_title': 'P&R Chimney Sweeps | Chimney Sweep in Chippenham ...', 'result_snippet_extra': '', 'result_snippet': 'Professional Chimney Sweep in Chippenham, Corsham, Box and Bath. P & R Chimney Sweeps is a husband and wife team run by Paul and Ruth Elms.', 'results_count': 12600000, 'result_extra': 'people_also_ask,images,local_pack', 'result_stat': [], 'result_spell': '', 'result_spell_type': '', 'result_highlighted': ['Chimney Sweep', 'Chimney Sweeps'], 'result_se_check_url': 'https://www.google.co.uk/search?q=chimney%20sweep&num=100&hl=en&gl=GB&gws_rd=cr&ie=UTF-8&oe=UTF-8&uule=w+CAIQIFISCcM8HUfhhHZIEbzKx0ulhCYF'}\n",
      "{'post_id': '70', 'task_id': 12027031107, 'se_id': 22, 'loc_id': 9046112, 'key_id': 3445065, 'post_key': 'chimney sweep', 'result_datetime': '2019-10-28 23:58:11 +00:00', 'result_position': 54, 'result_url': 'http://www.jbowyerchimneysweep.co.uk/', 'result_breadcrumb': 'www.jbowyerchimneysweep.co.uk', 'result_title': 'Bedfordshire Chimney Sweep - J Bowyer in Kempston - Bedford', 'result_snippet_extra': '', 'result_snippet': 'J Bowyer Chimney Sweeps can sweep your chimney in Bedfordshire, Buckinghamshire or Hertfordshire. John Bowyer Chimney sweeps is based in Kempston\\xa0...', 'results_count': 12600000, 'result_extra': 'people_also_ask,images,local_pack', 'result_stat': [], 'result_spell': '', 'result_spell_type': '', 'result_highlighted': ['Chimney Sweeps', 'Chimney sweeps'], 'result_se_check_url': 'https://www.google.co.uk/search?q=chimney%20sweep&num=100&hl=en&gl=GB&gws_rd=cr&ie=UTF-8&oe=UTF-8&uule=w+CAIQIFISCcM8HUfhhHZIEbzKx0ulhCYF'}\n",
      "{'post_id': '70', 'task_id': 12027031107, 'se_id': 22, 'loc_id': 9046112, 'key_id': 3445065, 'post_key': 'chimney sweep', 'result_datetime': '2019-10-28 23:58:11 +00:00', 'result_position': 55, 'result_url': 'https://www.amazon.co.uk/slp/chimney-sweep-kit/n8cpxk47wp5u67m', 'result_breadcrumb': 'https://www.amazon.co.uk › slp › chimney-sweep-kit', 'result_title': 'Chimney Sweep Kit: Amazon.co.uk', 'result_snippet_extra': '', 'result_snippet': 'Free next day delivery on eligible orders for Amazon prime members | Buy chimney sweep kit on Amazon.co.uk.', 'results_count': 12600000, 'result_extra': 'people_also_ask,images,local_pack', 'result_stat': [], 'result_spell': '', 'result_spell_type': '', 'result_highlighted': ['chimney sweep'], 'result_se_check_url': 'https://www.google.co.uk/search?q=chimney%20sweep&num=100&hl=en&gl=GB&gws_rd=cr&ie=UTF-8&oe=UTF-8&uule=w+CAIQIFISCcM8HUfhhHZIEbzKx0ulhCYF'}\n",
      "{'post_id': '70', 'task_id': 12027031107, 'se_id': 22, 'loc_id': 9046112, 'key_id': 3445065, 'post_key': 'chimney sweep', 'result_datetime': '2019-10-28 23:58:11 +00:00', 'result_position': 56, 'result_url': 'http://vinechimneysweeprichmond.co.uk/', 'result_breadcrumb': 'vinechimneysweeprichmond.co.uk', 'result_title': 'Vine Chimney Sweep: Chimney Sweep In Richmond', 'result_snippet_extra': '', 'result_snippet': 'Vine Chimney Sweep has been run by Richard Vine for the last 30 years. It was established in 1850 by his great great Grandfather. Richard is now the fifth\\xa0...', 'results_count': 12600000, 'result_extra': 'people_also_ask,images,local_pack', 'result_stat': [], 'result_spell': '', 'result_spell_type': '', 'result_highlighted': ['Chimney Sweep'], 'result_se_check_url': 'https://www.google.co.uk/search?q=chimney%20sweep&num=100&hl=en&gl=GB&gws_rd=cr&ie=UTF-8&oe=UTF-8&uule=w+CAIQIFISCcM8HUfhhHZIEbzKx0ulhCYF'}\n",
      "{'post_id': '70', 'task_id': 12027031107, 'se_id': 22, 'loc_id': 9046112, 'key_id': 3445065, 'post_key': 'chimney sweep', 'result_datetime': '2019-10-28 23:58:11 +00:00', 'result_position': 57, 'result_url': 'http://guythechimneysweep.com/index.html', 'result_breadcrumb': 'guythechimneysweep.com', 'result_title': 'Guy the Chimney Sweep & Son - Home', 'result_snippet_extra': '', 'result_snippet': 'Chimney Sweeping Service and Stove Installation. ... Checkatrade information for Guy The Chimney Sweep and Son. \"Heat your Home Safely\" Remember', 'results_count': 12600000, 'result_extra': 'people_also_ask,images,local_pack', 'result_stat': [], 'result_spell': '', 'result_spell_type': '', 'result_highlighted': ['Chimney Sweeping', 'Chimney Sweep'], 'result_se_check_url': 'https://www.google.co.uk/search?q=chimney%20sweep&num=100&hl=en&gl=GB&gws_rd=cr&ie=UTF-8&oe=UTF-8&uule=w+CAIQIFISCcM8HUfhhHZIEbzKx0ulhCYF'}\n",
      "{'post_id': '70', 'task_id': 12027031107, 'se_id': 22, 'loc_id': 9046112, 'key_id': 3445065, 'post_key': 'chimney sweep', 'result_datetime': '2019-10-28 23:58:11 +00:00', 'result_position': 58, 'result_url': 'https://aardvarksweeps.co.uk/', 'result_breadcrumb': 'https://aardvarksweeps.co.uk', 'result_title': 'Aardvark Sweeps - Local Chimney Sweeps | South ... - London', 'result_snippet_extra': '', 'result_snippet': 'Are wood burning stoves being banned in London? Click here for some answers! FREE PHONE 0800 19 38 38 8 Chimney Sweep Services Prices fully inclusive\\xa0...', 'results_count': 12600000, 'result_extra': 'people_also_ask,images,local_pack', 'result_stat': [], 'result_spell': '', 'result_spell_type': '', 'result_highlighted': ['Chimney Sweep'], 'result_se_check_url': 'https://www.google.co.uk/search?q=chimney%20sweep&num=100&hl=en&gl=GB&gws_rd=cr&ie=UTF-8&oe=UTF-8&uule=w+CAIQIFISCcM8HUfhhHZIEbzKx0ulhCYF'}\n",
      "{'post_id': '70', 'task_id': 12027031107, 'se_id': 22, 'loc_id': 9046112, 'key_id': 3445065, 'post_key': 'chimney sweep', 'result_datetime': '2019-10-28 23:58:11 +00:00', 'result_position': 59, 'result_url': 'https://www.appleyardschimney.co.uk/', 'result_breadcrumb': 'https://www.appleyardschimney.co.uk', 'result_title': \"Appleyard's Chimney Sweeping and Services: Home\", 'result_snippet_extra': '', 'result_snippet': \"Appleyard's Chimney Sweeping & Services. A family run business that prides itself on it's quick, clean, safe and professional service. Call us now on: 01884\\xa0...\", 'results_count': 12600000, 'result_extra': 'people_also_ask,images,local_pack', 'result_stat': [], 'result_spell': '', 'result_spell_type': '', 'result_highlighted': ['Chimney Sweeping'], 'result_se_check_url': 'https://www.google.co.uk/search?q=chimney%20sweep&num=100&hl=en&gl=GB&gws_rd=cr&ie=UTF-8&oe=UTF-8&uule=w+CAIQIFISCcM8HUfhhHZIEbzKx0ulhCYF'}\n",
      "{'post_id': '70', 'task_id': 12027031107, 'se_id': 22, 'loc_id': 9046112, 'key_id': 3445065, 'post_key': 'chimney sweep', 'result_datetime': '2019-10-28 23:58:11 +00:00', 'result_position': 60, 'result_url': 'https://toastsouthern.com/', 'result_breadcrumb': 'https://toastsouthern.com', 'result_title': 'Chimney Lining Specialists, CCTV Surveying and Chimney ...', 'result_snippet_extra': '', 'result_snippet': 'Advanced Chimney Lining & Sweeping. ... “Toast sweep our 4 log burners every year, I am always surprised how clean and tidy they leave the rooms.”.', 'results_count': 12600000, 'result_extra': 'people_also_ask,images,local_pack', 'result_stat': [], 'result_spell': '', 'result_spell_type': '', 'result_highlighted': ['Chimney', 'Sweeping', 'sweep', 'clean'], 'result_se_check_url': 'https://www.google.co.uk/search?q=chimney%20sweep&num=100&hl=en&gl=GB&gws_rd=cr&ie=UTF-8&oe=UTF-8&uule=w+CAIQIFISCcM8HUfhhHZIEbzKx0ulhCYF'}\n",
      "{'post_id': '70', 'task_id': 12027031107, 'se_id': 22, 'loc_id': 9046112, 'key_id': 3445065, 'post_key': 'chimney sweep', 'result_datetime': '2019-10-28 23:58:11 +00:00', 'result_position': 61, 'result_url': 'http://www.bestchimneyclean.co.uk/', 'result_breadcrumb': 'www.bestchimneyclean.co.uk', 'result_title': 'Exeter and districts oldest chimney sweep business est.1954 ...', 'result_snippet_extra': '', 'result_snippet': 'Chimney sweep serving Exeter and surrounding area. est. 1954, CCTV, highly professional customer centred service, NVQ, HETAS & Trading Standards\\xa0...', 'results_count': 12600000, 'result_extra': 'people_also_ask,images,local_pack', 'result_stat': [], 'result_spell': '', 'result_spell_type': '', 'result_highlighted': ['Chimney sweep'], 'result_se_check_url': 'https://www.google.co.uk/search?q=chimney%20sweep&num=100&hl=en&gl=GB&gws_rd=cr&ie=UTF-8&oe=UTF-8&uule=w+CAIQIFISCcM8HUfhhHZIEbzKx0ulhCYF'}\n",
      "{'post_id': '70', 'task_id': 12027031107, 'se_id': 22, 'loc_id': 9046112, 'key_id': 3445065, 'post_key': 'chimney sweep', 'result_datetime': '2019-10-28 23:58:11 +00:00', 'result_position': 62, 'result_url': 'http://www.chimneysweepnorthants.co.uk/', 'result_breadcrumb': 'www.chimneysweepnorthants.co.uk', 'result_title': 'Avondale Sweeps Ltd', 'result_snippet_extra': '', 'result_snippet': 'We offer a Professional Chimney Sweeping Service. We also offer services covering installation, maintenance, repairs and basically anything chimney related.', 'results_count': 12600000, 'result_extra': 'people_also_ask,images,local_pack', 'result_stat': [], 'result_spell': '', 'result_spell_type': '', 'result_highlighted': ['Chimney Sweeping'], 'result_se_check_url': 'https://www.google.co.uk/search?q=chimney%20sweep&num=100&hl=en&gl=GB&gws_rd=cr&ie=UTF-8&oe=UTF-8&uule=w+CAIQIFISCcM8HUfhhHZIEbzKx0ulhCYF'}\n",
      "{'post_id': '70', 'task_id': 12027031107, 'se_id': 22, 'loc_id': 9046112, 'key_id': 3445065, 'post_key': 'chimney sweep', 'result_datetime': '2019-10-28 23:58:11 +00:00', 'result_position': 63, 'result_url': 'https://www.a1chimneysweepscroydon.co.uk/', 'result_breadcrumb': 'https://www.a1chimneysweepscroydon.co.uk', 'result_title': 'A1 Chimney Sweeps: Relining chimneys', 'result_snippet_extra': '', 'result_snippet': 'At A1 Chimney Sweeps, we offer a wide range of chimney services, from repairing and relining chimneys to chimney cleaning and installing liners. Call us to\\xa0...', 'results_count': 12600000, 'result_extra': 'people_also_ask,images,local_pack', 'result_stat': [], 'result_spell': '', 'result_spell_type': '', 'result_highlighted': ['Chimney Sweeps', 'chimney cleaning'], 'result_se_check_url': 'https://www.google.co.uk/search?q=chimney%20sweep&num=100&hl=en&gl=GB&gws_rd=cr&ie=UTF-8&oe=UTF-8&uule=w+CAIQIFISCcM8HUfhhHZIEbzKx0ulhCYF'}\n",
      "{'post_id': '70', 'task_id': 12027031107, 'se_id': 22, 'loc_id': 9046112, 'key_id': 3445065, 'post_key': 'chimney sweep', 'result_datetime': '2019-10-28 23:58:11 +00:00', 'result_position': 64, 'result_url': 'https://en-gb.facebook.com/j.barlowchimneysweep/', 'result_breadcrumb': 'https://en-gb.facebook.com › ... › Home improvement', 'result_title': 'J.Barlow Chimney Sweep - Home | Facebook - Halifax', 'result_snippet_extra': ' Rating: 5 - \\u200e42 votes', 'result_snippet': 'J.Barlow Chimney Sweep – HX1 Halifax, West Yorkshire – rated 5 based on 42 reviews \"A huge thank you to Josh, Craig and Matthew for all of the hard work!...', 'results_count': 12600000, 'result_extra': 'people_also_ask,images,local_pack', 'result_stat': {'rating': 5, 'rating_type': 'stars', 'rating_max': 5, 'votes': 42}, 'result_spell': '', 'result_spell_type': '', 'result_highlighted': ['Chimney Sweep'], 'result_se_check_url': 'https://www.google.co.uk/search?q=chimney%20sweep&num=100&hl=en&gl=GB&gws_rd=cr&ie=UTF-8&oe=UTF-8&uule=w+CAIQIFISCcM8HUfhhHZIEbzKx0ulhCYF'}\n",
      "{'post_id': '70', 'task_id': 12027031107, 'se_id': 22, 'loc_id': 9046112, 'key_id': 3445065, 'post_key': 'chimney sweep', 'result_datetime': '2019-10-28 23:58:11 +00:00', 'result_position': 65, 'result_url': 'https://treidchimneyservices.co.uk/', 'result_breadcrumb': 'https://treidchimneyservices.co.uk', 'result_title': 'About Us, T.Reid chimney services Kilmarnock, Ayrshire ...', 'result_snippet_extra': '', 'result_snippet': 'About US,About Us, T.Reid chimney services Kilmarnock, Ayrshire Chimney sweep, Kilmarnock chimney sweep.', 'results_count': 12600000, 'result_extra': 'people_also_ask,images,local_pack', 'result_stat': [], 'result_spell': '', 'result_spell_type': '', 'result_highlighted': ['Chimney sweep', 'chimney sweep'], 'result_se_check_url': 'https://www.google.co.uk/search?q=chimney%20sweep&num=100&hl=en&gl=GB&gws_rd=cr&ie=UTF-8&oe=UTF-8&uule=w+CAIQIFISCcM8HUfhhHZIEbzKx0ulhCYF'}\n",
      "{'post_id': '70', 'task_id': 12027031107, 'se_id': 22, 'loc_id': 9046112, 'key_id': 3445065, 'post_key': 'chimney sweep', 'result_datetime': '2019-10-28 23:58:11 +00:00', 'result_position': 66, 'result_url': 'https://www.joannathesweep.co.uk/', 'result_breadcrumb': 'https://www.joannathesweep.co.uk', 'result_title': 'Joanna Thurgur Chimney Sweep Services - Havant ...', 'result_snippet_extra': '', 'result_snippet': 'Female chimney sweep and member of the Guild of Master Chimney Sweeps.', 'results_count': 12600000, 'result_extra': 'people_also_ask,images,local_pack', 'result_stat': [], 'result_spell': '', 'result_spell_type': '', 'result_highlighted': ['chimney sweep', 'Chimney Sweeps'], 'result_se_check_url': 'https://www.google.co.uk/search?q=chimney%20sweep&num=100&hl=en&gl=GB&gws_rd=cr&ie=UTF-8&oe=UTF-8&uule=w+CAIQIFISCcM8HUfhhHZIEbzKx0ulhCYF'}\n",
      "{'post_id': '70', 'task_id': 12027031107, 'se_id': 22, 'loc_id': 9046112, 'key_id': 3445065, 'post_key': 'chimney sweep', 'result_datetime': '2019-10-28 23:58:11 +00:00', 'result_position': 67, 'result_url': 'https://www.glucaschimneysweep.com/', 'result_breadcrumb': 'https://www.glucaschimneysweep.com', 'result_title': 'G Lucas Chimney Sweep: Home', 'result_snippet_extra': '', 'result_snippet': 'G Lucas Chimney Sweep is both a Domestic and Commercial Chimney ... Having your chimney swept will remove soot, tar and creosote, which at the right\\xa0...', 'results_count': 12600000, 'result_extra': 'people_also_ask,images,local_pack', 'result_stat': [], 'result_spell': '', 'result_spell_type': '', 'result_highlighted': ['Chimney Sweep'], 'result_se_check_url': 'https://www.google.co.uk/search?q=chimney%20sweep&num=100&hl=en&gl=GB&gws_rd=cr&ie=UTF-8&oe=UTF-8&uule=w+CAIQIFISCcM8HUfhhHZIEbzKx0ulhCYF'}\n",
      "{'post_id': '70', 'task_id': 12027031107, 'se_id': 22, 'loc_id': 9046112, 'key_id': 3445065, 'post_key': 'chimney sweep', 'result_datetime': '2019-10-28 23:58:11 +00:00', 'result_position': 68, 'result_url': 'https://www.stevereedchimneysweep.co.uk/', 'result_breadcrumb': 'https://www.stevereedchimneysweep.co.uk', 'result_title': 'Steve Reed Chimney Sweep |', 'result_snippet_extra': '', 'result_snippet': 'If you are unsure of your current requirements, call us and we will be more than happy to provide you with any information or advice. Click here for a free quote\\xa0...', 'results_count': 12600000, 'result_extra': 'people_also_ask,images,local_pack', 'result_stat': [], 'result_spell': '', 'result_spell_type': '', 'result_highlighted': [], 'result_se_check_url': 'https://www.google.co.uk/search?q=chimney%20sweep&num=100&hl=en&gl=GB&gws_rd=cr&ie=UTF-8&oe=UTF-8&uule=w+CAIQIFISCcM8HUfhhHZIEbzKx0ulhCYF'}\n",
      "{'post_id': '70', 'task_id': 12027031107, 'se_id': 22, 'loc_id': 9046112, 'key_id': 3445065, 'post_key': 'chimney sweep', 'result_datetime': '2019-10-28 23:58:11 +00:00', 'result_position': 69, 'result_url': 'http://www.walthamblack.com/', 'result_breadcrumb': 'www.walthamblack.com', 'result_title': \"Waltham Black | Hampshire Chimney Sweep ... - Bishop's ...\", 'result_snippet_extra': '', 'result_snippet': 'Waltham Black | Hampshire Chimney Sweep | Professional Chimney Sweeping Service.', 'results_count': 12600000, 'result_extra': 'people_also_ask,images,local_pack', 'result_stat': [], 'result_spell': '', 'result_spell_type': '', 'result_highlighted': ['Chimney Sweep', 'Chimney Sweeping'], 'result_se_check_url': 'https://www.google.co.uk/search?q=chimney%20sweep&num=100&hl=en&gl=GB&gws_rd=cr&ie=UTF-8&oe=UTF-8&uule=w+CAIQIFISCcM8HUfhhHZIEbzKx0ulhCYF'}\n",
      "{'post_id': '70', 'task_id': 12027031107, 'se_id': 22, 'loc_id': 9046112, 'key_id': 3445065, 'post_key': 'chimney sweep', 'result_datetime': '2019-10-28 23:58:11 +00:00', 'result_position': 70, 'result_url': 'https://cleanandgo.com/', 'result_breadcrumb': 'https://cleanandgo.com', 'result_title': 'Chimney Sweep Bath | Bath area | Clean & Go Professional ...', 'result_snippet_extra': '', 'result_snippet': 'Professional Chimney Sweep in and around Bath. Local family business estd. 2001. ~ Reliable ~ Polite ~ Helpful ~ Clean ~ Insured ~ Member of the Guild of\\xa0...', 'results_count': 12600000, 'result_extra': 'people_also_ask,images,local_pack', 'result_stat': [], 'result_spell': '', 'result_spell_type': '', 'result_highlighted': ['Chimney Sweep'], 'result_se_check_url': 'https://www.google.co.uk/search?q=chimney%20sweep&num=100&hl=en&gl=GB&gws_rd=cr&ie=UTF-8&oe=UTF-8&uule=w+CAIQIFISCcM8HUfhhHZIEbzKx0ulhCYF'}\n",
      "{'post_id': '70', 'task_id': 12027031107, 'se_id': 22, 'loc_id': 9046112, 'key_id': 3445065, 'post_key': 'chimney sweep', 'result_datetime': '2019-10-28 23:58:11 +00:00', 'result_position': 71, 'result_url': 'https://www.findacraftsman.com/listing/m-rawlinson-chimney-sweep', 'result_breadcrumb': 'https://www.findacraftsman.com › Listings › M Rawlinson Chimney Sweep', 'result_title': 'M Rawlinson Chimney Sweep - The Guild of Master Craftsmen', 'result_snippet_extra': '', 'result_snippet': 'M Rawlinson Chimney Sweep. Phone. 01954 211049. Company Profile; Gallery; Videos; Reviews 0; Contact Company. Leave a review\\xa0...', 'results_count': 12600000, 'result_extra': 'people_also_ask,images,local_pack', 'result_stat': [], 'result_spell': '', 'result_spell_type': '', 'result_highlighted': ['Chimney Sweep'], 'result_se_check_url': 'https://www.google.co.uk/search?q=chimney%20sweep&num=100&hl=en&gl=GB&gws_rd=cr&ie=UTF-8&oe=UTF-8&uule=w+CAIQIFISCcM8HUfhhHZIEbzKx0ulhCYF'}\n",
      "{'post_id': '70', 'task_id': 12027031107, 'se_id': 22, 'loc_id': 9046112, 'key_id': 3445065, 'post_key': 'chimney sweep', 'result_datetime': '2019-10-28 23:58:11 +00:00', 'result_position': 72, 'result_url': 'https://www.fullyswept.co.uk/', 'result_breadcrumb': 'https://www.fullyswept.co.uk', 'result_title': 'Fully Accredited | Chimney Sweep York | Fully Swept |', 'result_snippet_extra': '', 'result_snippet': '1 Oct 2019 - A Professional, York based Hetas Accredited Chimney Sweep Who Loves His Work! High quality sweeping services throughout the York area,\\xa0...', 'results_count': 12600000, 'result_extra': 'people_also_ask,images,local_pack', 'result_stat': [], 'result_spell': '', 'result_spell_type': '', 'result_highlighted': ['Chimney Sweep'], 'result_se_check_url': 'https://www.google.co.uk/search?q=chimney%20sweep&num=100&hl=en&gl=GB&gws_rd=cr&ie=UTF-8&oe=UTF-8&uule=w+CAIQIFISCcM8HUfhhHZIEbzKx0ulhCYF'}\n",
      "{'post_id': '70', 'task_id': 12027031107, 'se_id': 22, 'loc_id': 9046112, 'key_id': 3445065, 'post_key': 'chimney sweep', 'result_datetime': '2019-10-28 23:58:11 +00:00', 'result_position': 73, 'result_url': 'http://www.hearthandhomechimneys.co.uk/areas-covered-hours-of-business/chimney-sweep-olney/', 'result_breadcrumb': 'www.hearthandhomechimneys.co.uk › areas-covered-hours-of-business', 'result_title': 'Chimney Sweeps Olney 01908 218201', 'result_snippet_extra': '', 'result_snippet': 'Chimney Sweep Olney - Hearth and Home Chimneys are proud to be able to offer the cleanest and most effective chimney sweep and vacuum service in Olney\\xa0...', 'results_count': 12600000, 'result_extra': 'people_also_ask,images,local_pack', 'result_stat': [], 'result_spell': '', 'result_spell_type': '', 'result_highlighted': ['Chimney Sweep', 'chimney sweep'], 'result_se_check_url': 'https://www.google.co.uk/search?q=chimney%20sweep&num=100&hl=en&gl=GB&gws_rd=cr&ie=UTF-8&oe=UTF-8&uule=w+CAIQIFISCcM8HUfhhHZIEbzKx0ulhCYF'}\n",
      "{'post_id': '70', 'task_id': 12027031107, 'se_id': 22, 'loc_id': 9046112, 'key_id': 3445065, 'post_key': 'chimney sweep', 'result_datetime': '2019-10-28 23:58:11 +00:00', 'result_position': 74, 'result_url': 'https://emilythesweep.co.uk/', 'result_breadcrumb': 'https://emilythesweep.co.uk', 'result_title': 'Emily the Sweep | Chimney Sweep | Plymouth, South Devon', 'result_snippet_extra': '', 'result_snippet': 'Plymouth Lady Chimney Sweep. Plymouth, South Devon and Cornwall. Emily the Sweep *', 'results_count': 12600000, 'result_extra': 'people_also_ask,images,local_pack', 'result_stat': [], 'result_spell': '', 'result_spell_type': '', 'result_highlighted': ['Chimney Sweep'], 'result_se_check_url': 'https://www.google.co.uk/search?q=chimney%20sweep&num=100&hl=en&gl=GB&gws_rd=cr&ie=UTF-8&oe=UTF-8&uule=w+CAIQIFISCcM8HUfhhHZIEbzKx0ulhCYF'}\n",
      "{'post_id': '70', 'task_id': 12027031107, 'se_id': 22, 'loc_id': 9046112, 'key_id': 3445065, 'post_key': 'chimney sweep', 'result_datetime': '2019-10-28 23:58:11 +00:00', 'result_position': 75, 'result_url': 'https://www.theguardian.com/money/2008/dec/20/working-life-chimney-sweep', 'result_breadcrumb': 'https://www.theguardian.com › money › dec › working-life-chimney-sweep', 'result_title': 'A working life: The chimney sweep | Money | The Guardian', 'result_snippet_extra': '', 'result_snippet': \"19 Dec 2008 - For 78 years, Kirk McLenaghan's family firm has kept the fireplaces of Edinburgh clean and burning bright. Erlend Clouston took to the rooftops\\xa0...\", 'results_count': 12600000, 'result_extra': 'people_also_ask,images,local_pack', 'result_stat': [], 'result_spell': '', 'result_spell_type': '', 'result_highlighted': ['clean'], 'result_se_check_url': 'https://www.google.co.uk/search?q=chimney%20sweep&num=100&hl=en&gl=GB&gws_rd=cr&ie=UTF-8&oe=UTF-8&uule=w+CAIQIFISCcM8HUfhhHZIEbzKx0ulhCYF'}\n",
      "{'post_id': '70', 'task_id': 12027031107, 'se_id': 22, 'loc_id': 9046112, 'key_id': 3445065, 'post_key': 'chimney sweep', 'result_datetime': '2019-10-28 23:58:11 +00:00', 'result_position': 76, 'result_url': 'https://www.chimneysweepnorthdevon.co.uk/', 'result_breadcrumb': 'https://www.chimneysweepnorthdevon.co.uk', 'result_title': 'Chimney Sweep North Devon, Sweeping Chimneys in ...', 'result_snippet_extra': '', 'result_snippet': 'Chimney Sweep North Devon sweep chimneys in Barnstaple, Bideford and beyond! Professional Chimney Sweeping using traditional methods.', 'results_count': 12600000, 'result_extra': 'people_also_ask,images,local_pack', 'result_stat': [], 'result_spell': '', 'result_spell_type': '', 'result_highlighted': ['Chimney Sweep', 'Chimney Sweeping'], 'result_se_check_url': 'https://www.google.co.uk/search?q=chimney%20sweep&num=100&hl=en&gl=GB&gws_rd=cr&ie=UTF-8&oe=UTF-8&uule=w+CAIQIFISCcM8HUfhhHZIEbzKx0ulhCYF'}\n",
      "{'post_id': '70', 'task_id': 12027031107, 'se_id': 22, 'loc_id': 9046112, 'key_id': 3445065, 'post_key': 'chimney sweep', 'result_datetime': '2019-10-28 23:58:11 +00:00', 'result_position': 77, 'result_url': 'https://www.diydoctor.org.uk/projects/sweepingachimney.htm', 'result_breadcrumb': 'https://www.diydoctor.org.uk › projects › sweepingachimney', 'result_title': 'How to Sweep a Chimney Yourself Using Chimney Rods and ...', 'result_snippet_extra': '', 'result_snippet': 'In this project you will learn how to sweep a chimney using the traditional method of rods and a chimney brush and also what other equipment you will need and\\xa0...', 'results_count': 12600000, 'result_extra': 'people_also_ask,images,local_pack', 'result_stat': [], 'result_spell': '', 'result_spell_type': '', 'result_highlighted': ['sweep', 'chimney'], 'result_se_check_url': 'https://www.google.co.uk/search?q=chimney%20sweep&num=100&hl=en&gl=GB&gws_rd=cr&ie=UTF-8&oe=UTF-8&uule=w+CAIQIFISCcM8HUfhhHZIEbzKx0ulhCYF'}\n",
      "{'post_id': '70', 'task_id': 12027031107, 'se_id': 22, 'loc_id': 9046112, 'key_id': 3445065, 'post_key': 'chimney sweep', 'result_datetime': '2019-10-28 23:58:11 +00:00', 'result_position': 78, 'result_url': 'https://www.sparklingflues.co.uk/', 'result_breadcrumb': 'https://www.sparklingflues.co.uk', 'result_title': 'Sparkling Flues | Female Chimney Sweep Manchester ...', 'result_snippet_extra': '', 'result_snippet': 'Professional female chimney sweep and family run company based in Manchester. We are an accredited member of The Guild of Master Chimney Sweeps and\\xa0...', 'results_count': 12600000, 'result_extra': 'people_also_ask,images,local_pack', 'result_stat': [], 'result_spell': '', 'result_spell_type': '', 'result_highlighted': ['chimney sweep', 'Chimney Sweeps'], 'result_se_check_url': 'https://www.google.co.uk/search?q=chimney%20sweep&num=100&hl=en&gl=GB&gws_rd=cr&ie=UTF-8&oe=UTF-8&uule=w+CAIQIFISCcM8HUfhhHZIEbzKx0ulhCYF'}\n",
      "{'post_id': '70', 'task_id': 12027031107, 'se_id': 22, 'loc_id': 9046112, 'key_id': 3445065, 'post_key': 'chimney sweep', 'result_datetime': '2019-10-28 23:58:11 +00:00', 'result_position': 79, 'result_url': 'https://www.dpm-stovesandchimneysweep.co.uk/', 'result_breadcrumb': 'https://www.dpm-stovesandchimneysweep.co.uk', 'result_title': 'DPM Gloucestershire, Bristol, Stroud Chimney sweep', 'result_snippet_extra': '', 'result_snippet': 'Chimneys swept across Gloucestershire, Wiltshire and Bristol. Stove installation also available. A friendly and clean service from a professional chimney sweep.', 'results_count': 12600000, 'result_extra': 'people_also_ask,images,local_pack', 'result_stat': [], 'result_spell': '', 'result_spell_type': '', 'result_highlighted': ['chimney sweep'], 'result_se_check_url': 'https://www.google.co.uk/search?q=chimney%20sweep&num=100&hl=en&gl=GB&gws_rd=cr&ie=UTF-8&oe=UTF-8&uule=w+CAIQIFISCcM8HUfhhHZIEbzKx0ulhCYF'}\n",
      "{'post_id': '70', 'task_id': 12027031107, 'se_id': 22, 'loc_id': 9046112, 'key_id': 3445065, 'post_key': 'chimney sweep', 'result_datetime': '2019-10-28 23:58:11 +00:00', 'result_position': 80, 'result_url': 'https://solidfuel.co.uk/chimney-sweeps/', 'result_breadcrumb': 'https://solidfuel.co.uk › chimney-sweeps', 'result_title': 'Chimney Sweeps in your area - Solid Fuel Association', 'result_snippet_extra': '', 'result_snippet': 'It is important to employ qualified professionally trained chimney sweeps, such as members of a recognised organisation.', 'results_count': 12600000, 'result_extra': 'people_also_ask,images,local_pack', 'result_stat': [], 'result_spell': '', 'result_spell_type': '', 'result_highlighted': ['chimney sweeps'], 'result_se_check_url': 'https://www.google.co.uk/search?q=chimney%20sweep&num=100&hl=en&gl=GB&gws_rd=cr&ie=UTF-8&oe=UTF-8&uule=w+CAIQIFISCcM8HUfhhHZIEbzKx0ulhCYF'}\n",
      "{'post_id': '70', 'task_id': 12027031107, 'se_id': 22, 'loc_id': 9046112, 'key_id': 3445065, 'post_key': 'chimney sweep', 'result_datetime': '2019-10-28 23:58:11 +00:00', 'result_position': 81, 'result_url': 'https://www.airevalleychimneysweeps.co.uk/', 'result_breadcrumb': 'https://www.airevalleychimneysweeps.co.uk', 'result_title': 'Aire Valley Chimney Sweeps, Chimney Rebuilding, Chimney ...', 'result_snippet_extra': '', 'result_snippet': 'Aire Valley Chimney Sweeps can provide commissioning, routine chimney sweeping, installation and repair to both new and existing flues and chimneys.', 'results_count': 12600000, 'result_extra': 'people_also_ask,images,local_pack', 'result_stat': [], 'result_spell': '', 'result_spell_type': '', 'result_highlighted': ['Chimney Sweeps', 'chimney sweeping'], 'result_se_check_url': 'https://www.google.co.uk/search?q=chimney%20sweep&num=100&hl=en&gl=GB&gws_rd=cr&ie=UTF-8&oe=UTF-8&uule=w+CAIQIFISCcM8HUfhhHZIEbzKx0ulhCYF'}\n",
      "{'post_id': '70', 'task_id': 12027031107, 'se_id': 22, 'loc_id': 9046112, 'key_id': 3445065, 'post_key': 'chimney sweep', 'result_datetime': '2019-10-28 23:58:11 +00:00', 'result_position': 82, 'result_url': 'https://www.apics.org.uk/', 'result_breadcrumb': 'https://www.apics.org.uk', 'result_title': 'APICS - Association of Professional and Independent ...', 'result_snippet_extra': '', 'result_snippet': 'Association of Professional and Independent Chimney Sweeps.', 'results_count': 12600000, 'result_extra': 'people_also_ask,images,local_pack', 'result_stat': [], 'result_spell': '', 'result_spell_type': '', 'result_highlighted': ['Chimney Sweeps'], 'result_se_check_url': 'https://www.google.co.uk/search?q=chimney%20sweep&num=100&hl=en&gl=GB&gws_rd=cr&ie=UTF-8&oe=UTF-8&uule=w+CAIQIFISCcM8HUfhhHZIEbzKx0ulhCYF'}\n",
      "{'post_id': '70', 'task_id': 12027031107, 'se_id': 22, 'loc_id': 9046112, 'key_id': 3445065, 'post_key': 'chimney sweep', 'result_datetime': '2019-10-28 23:58:11 +00:00', 'result_position': 83, 'result_url': 'http://www.thechimneysweepcompany.com/', 'result_breadcrumb': 'www.thechimneysweepcompany.com', 'result_title': 'Chimney Sweep services across North Wales, Chester and ...', 'result_snippet_extra': '', 'result_snippet': 'Over 40 years in chimney sweeping and maintenance, The Chimney Sweep Company offers quality chimney sweep services in North Wales, Chester and The\\xa0...', 'results_count': 12600000, 'result_extra': 'people_also_ask,images,local_pack', 'result_stat': [], 'result_spell': '', 'result_spell_type': '', 'result_highlighted': ['chimney sweeping', 'Chimney Sweep', 'chimney sweep'], 'result_se_check_url': 'https://www.google.co.uk/search?q=chimney%20sweep&num=100&hl=en&gl=GB&gws_rd=cr&ie=UTF-8&oe=UTF-8&uule=w+CAIQIFISCcM8HUfhhHZIEbzKx0ulhCYF'}\n",
      "{'post_id': '70', 'task_id': 12027031107, 'se_id': 22, 'loc_id': 9046112, 'key_id': 3445065, 'post_key': 'chimney sweep', 'result_datetime': '2019-10-28 23:58:11 +00:00', 'result_position': 84, 'result_url': 'https://thechimneysweeper.co.uk/', 'result_breadcrumb': 'https://thechimneysweeper.co.uk', 'result_title': 'Alastair Kemp | The Chimney Sweeper | SN16 chimney sweep ...', 'result_snippet_extra': '', 'result_snippet': 'Alastair Kemp, also known as the chimney sweeper has been servicing, fixing and offering chimney maintenance for a number of years. Serving the Malmesbury\\xa0...', 'results_count': 12600000, 'result_extra': 'people_also_ask,images,local_pack', 'result_stat': [], 'result_spell': '', 'result_spell_type': '', 'result_highlighted': ['chimney sweeper'], 'result_se_check_url': 'https://www.google.co.uk/search?q=chimney%20sweep&num=100&hl=en&gl=GB&gws_rd=cr&ie=UTF-8&oe=UTF-8&uule=w+CAIQIFISCcM8HUfhhHZIEbzKx0ulhCYF'}\n",
      "{'post_id': '70', 'task_id': 12027031107, 'se_id': 22, 'loc_id': 9046112, 'key_id': 3445065, 'post_key': 'chimney sweep', 'result_datetime': '2019-10-28 23:58:11 +00:00', 'result_position': 85, 'result_url': 'https://www.thecourier.co.uk/fp/news/local/fife/930123/pigeon-rescue-chimney-sweep-gary-shows-how-to-doo-it/', 'result_breadcrumb': 'https://www.thecourier.co.uk › news › local › fife › pigeon-rescue-chimne...', 'result_title': 'Pigeon rescue: Chimney sweep Gary shows how to doo it ...', 'result_snippet_extra': '', 'result_snippet': '6 Jul 2019 - Leslie-based chimney sweep Gary Duncan became something of a Dr Doo-little when he was called to a house in Falkland to sweep the\\xa0...', 'results_count': 12600000, 'result_extra': 'people_also_ask,images,local_pack', 'result_stat': [], 'result_spell': '', 'result_spell_type': '', 'result_highlighted': ['chimney sweep'], 'result_se_check_url': 'https://www.google.co.uk/search?q=chimney%20sweep&num=100&hl=en&gl=GB&gws_rd=cr&ie=UTF-8&oe=UTF-8&uule=w+CAIQIFISCcM8HUfhhHZIEbzKx0ulhCYF'}\n",
      "{'post_id': '70', 'task_id': 12027031107, 'se_id': 22, 'loc_id': 9046112, 'key_id': 3445065, 'post_key': 'chimney sweep', 'result_datetime': '2019-10-28 23:58:11 +00:00', 'result_position': 86, 'result_url': 'http://www.1-2-cmasterchimneysweep.co.uk/', 'result_breadcrumb': 'www.1-2-cmasterchimneysweep.co.uk', 'result_title': '1-2-C Chimney sweeps Carshalton Sutton Wimbledon ...', 'result_snippet_extra': '', 'result_snippet': '1-2-C chimney sweeps offers Chimney sweeping chimney testing repair in Carshalton Sutton Wimbledon Kingston upon Thames london.', 'results_count': 12600000, 'result_extra': 'people_also_ask,images,local_pack', 'result_stat': [], 'result_spell': '', 'result_spell_type': '', 'result_highlighted': ['chimney sweeps', 'Chimney sweeping'], 'result_se_check_url': 'https://www.google.co.uk/search?q=chimney%20sweep&num=100&hl=en&gl=GB&gws_rd=cr&ie=UTF-8&oe=UTF-8&uule=w+CAIQIFISCcM8HUfhhHZIEbzKx0ulhCYF'}\n",
      "{'post_id': '70', 'task_id': 12027031107, 'se_id': 22, 'loc_id': 9046112, 'key_id': 3445065, 'post_key': 'chimney sweep', 'result_datetime': '2019-10-28 23:58:11 +00:00', 'result_position': 87, 'result_url': 'http://www.chimneysweepmatlock.co.uk/', 'result_breadcrumb': 'www.chimneysweepmatlock.co.uk', 'result_title': 'Gary Beech Chimney Sweep', 'result_snippet_extra': '', 'result_snippet': 'Welcome to the website for Gary beech Chimney Sweep and Stove Cleaning. As you may have guessed I am a chimney sweep in Matlock and I am always\\xa0...', 'results_count': 12600000, 'result_extra': 'people_also_ask,images,local_pack', 'result_stat': [], 'result_spell': '', 'result_spell_type': '', 'result_highlighted': ['Chimney Sweep', 'chimney sweep'], 'result_se_check_url': 'https://www.google.co.uk/search?q=chimney%20sweep&num=100&hl=en&gl=GB&gws_rd=cr&ie=UTF-8&oe=UTF-8&uule=w+CAIQIFISCcM8HUfhhHZIEbzKx0ulhCYF'}\n",
      "{'post_id': '70', 'task_id': 12027031107, 'se_id': 22, 'loc_id': 9046112, 'key_id': 3445065, 'post_key': 'chimney sweep', 'result_datetime': '2019-10-28 23:58:11 +00:00', 'result_position': 88, 'result_url': 'https://www.pearcechimneysweep.co.uk/', 'result_breadcrumb': 'https://www.pearcechimneysweep.co.uk', 'result_title': 'Local Chimney Sweeps | Bromley | Pearce & Grandson', 'result_snippet_extra': '', 'result_snippet': 'With more than 300 years of operation, our family-run business is the preferred choice for clients in West Wickham, Bromley and the surrounding area. Request\\xa0...', 'results_count': 12600000, 'result_extra': 'people_also_ask,images,local_pack', 'result_stat': [], 'result_spell': '', 'result_spell_type': '', 'result_highlighted': [], 'result_se_check_url': 'https://www.google.co.uk/search?q=chimney%20sweep&num=100&hl=en&gl=GB&gws_rd=cr&ie=UTF-8&oe=UTF-8&uule=w+CAIQIFISCcM8HUfhhHZIEbzKx0ulhCYF'}\n",
      "{'post_id': '70', 'task_id': 12027031107, 'se_id': 22, 'loc_id': 9046112, 'key_id': 3445065, 'post_key': 'chimney sweep', 'result_datetime': '2019-10-28 23:58:11 +00:00', 'result_position': 89, 'result_url': 'https://www.rotarypowersweeping.co.uk/sweep-clothing-beer/top-hats-uniforms/', 'result_breadcrumb': 'https://www.rotarypowersweeping.co.uk › top-hats-uniforms', 'result_title': 'SnapLok Rotary Power Chimney ... - Rotary Power Sweeping', 'result_snippet_extra': '', 'result_snippet': 'At RPS we are very involved with chimney sweeps around the world, but particularly in Europe where it is common practice to wear the very smart and\\xa0...', 'results_count': 12600000, 'result_extra': 'people_also_ask,images,local_pack', 'result_stat': [], 'result_spell': '', 'result_spell_type': '', 'result_highlighted': ['chimney sweeps'], 'result_se_check_url': 'https://www.google.co.uk/search?q=chimney%20sweep&num=100&hl=en&gl=GB&gws_rd=cr&ie=UTF-8&oe=UTF-8&uule=w+CAIQIFISCcM8HUfhhHZIEbzKx0ulhCYF'}\n",
      "{'post_id': '70', 'task_id': 12027031107, 'se_id': 22, 'loc_id': 9046112, 'key_id': 3445065, 'post_key': 'chimney sweep', 'result_datetime': '2019-10-28 23:58:11 +00:00', 'result_position': 90, 'result_url': 'https://www.chimneysweepyorkshire.com/', 'result_breadcrumb': 'https://www.chimneysweepyorkshire.com', 'result_title': 'Four Seasons Chimney Sweep: Power chimney sweeping ...', 'result_snippet_extra': '', 'result_snippet': 'Power chimney sweeping Leeds, Bradford, West Yorkshire: Four Seasons Chimney Sweep. A first class chimney sweeping service, using the latest power\\xa0...', 'results_count': 12600000, 'result_extra': 'people_also_ask,images,local_pack', 'result_stat': [], 'result_spell': '', 'result_spell_type': '', 'result_highlighted': ['chimney sweeping', 'Chimney Sweep'], 'result_se_check_url': 'https://www.google.co.uk/search?q=chimney%20sweep&num=100&hl=en&gl=GB&gws_rd=cr&ie=UTF-8&oe=UTF-8&uule=w+CAIQIFISCcM8HUfhhHZIEbzKx0ulhCYF'}\n",
      "{'post_id': '70', 'task_id': 12027031107, 'se_id': 22, 'loc_id': 9046112, 'key_id': 3445065, 'post_key': 'chimney sweep', 'result_datetime': '2019-10-28 23:58:11 +00:00', 'result_position': 91, 'result_url': 'http://www.glynnschimneysweeps.com/', 'result_breadcrumb': 'www.glynnschimneysweeps.com', 'result_title': 'Glynns Chimney Sweeps - Need A Chimney Sweep Within ...', 'result_snippet_extra': '', 'result_snippet': 'For A Chimney Sweep in the London Hertfordshire Essex Area Call Glynns Chimney Sweeps on 01279 424983.', 'results_count': 12600000, 'result_extra': 'people_also_ask,images,local_pack', 'result_stat': [], 'result_spell': '', 'result_spell_type': '', 'result_highlighted': ['Chimney Sweep', 'Chimney Sweeps'], 'result_se_check_url': 'https://www.google.co.uk/search?q=chimney%20sweep&num=100&hl=en&gl=GB&gws_rd=cr&ie=UTF-8&oe=UTF-8&uule=w+CAIQIFISCcM8HUfhhHZIEbzKx0ulhCYF'}\n",
      "{'post_id': '70', 'task_id': 12027031107, 'se_id': 22, 'loc_id': 9046112, 'key_id': 3445065, 'post_key': 'chimney sweep', 'result_datetime': '2019-10-28 23:58:11 +00:00', 'result_position': 92, 'result_url': 'http://www.drflue.co.uk/', 'result_breadcrumb': 'www.drflue.co.uk', 'result_title': 'dr flue chimney sweep', 'result_snippet_extra': '', 'result_snippet': 'WITH OVER 10 YEARS EXPERIENCE , DR FLUE CHIMNEY SWEEPS CAN OFFER QUALITY WORKMANSHIP AT REASONABLE RATES. WE OFFER ALL\\xa0...', 'results_count': 12600000, 'result_extra': 'people_also_ask,images,local_pack', 'result_stat': [], 'result_spell': '', 'result_spell_type': '', 'result_highlighted': ['CHIMNEY SWEEPS'], 'result_se_check_url': 'https://www.google.co.uk/search?q=chimney%20sweep&num=100&hl=en&gl=GB&gws_rd=cr&ie=UTF-8&oe=UTF-8&uule=w+CAIQIFISCcM8HUfhhHZIEbzKx0ulhCYF'}\n",
      "{'post_id': '70', 'task_id': 12027031107, 'se_id': 22, 'loc_id': 9046112, 'key_id': 3445065, 'post_key': 'chimney sweep', 'result_datetime': '2019-10-28 23:58:11 +00:00', 'result_position': 93, 'result_url': 'https://www.chimneysweepdevon.com/', 'result_breadcrumb': 'https://www.chimneysweepdevon.com', 'result_title': 'John Read Chimney Sweep | Devon', 'result_snippet_extra': '', 'result_snippet': \"John holds the Guild of Master Sweeps' Certificate of Competence after being trained to the highest level. This training covered all areas of a sweep's job and\\xa0...\", 'results_count': 12600000, 'result_extra': 'people_also_ask,images,local_pack', 'result_stat': [], 'result_spell': '', 'result_spell_type': '', 'result_highlighted': ['Sweeps', \"sweep's\"], 'result_se_check_url': 'https://www.google.co.uk/search?q=chimney%20sweep&num=100&hl=en&gl=GB&gws_rd=cr&ie=UTF-8&oe=UTF-8&uule=w+CAIQIFISCcM8HUfhhHZIEbzKx0ulhCYF'}\n",
      "{'post_id': '70', 'task_id': 12027031107, 'se_id': 22, 'loc_id': 9046112, 'key_id': 3445065, 'post_key': 'chimney sweep', 'result_datetime': '2019-10-28 23:58:11 +00:00', 'result_position': 94, 'result_url': 'http://www.johnrobsonchimneysweep.co.uk/', 'result_breadcrumb': 'www.johnrobsonchimneysweep.co.uk', 'result_title': 'John Robson Chimney Sweep - Harrogate', 'result_snippet_extra': '', 'result_snippet': \"John Robson Chimney Sweep. We can sweep Open Fires, Stoves, Aga's & Biomass Boiler Flue Systems. About Us. Family Run. We are a Harrogate family run\\xa0...\", 'results_count': 12600000, 'result_extra': 'people_also_ask,images,local_pack', 'result_stat': [], 'result_spell': '', 'result_spell_type': '', 'result_highlighted': ['Chimney Sweep'], 'result_se_check_url': 'https://www.google.co.uk/search?q=chimney%20sweep&num=100&hl=en&gl=GB&gws_rd=cr&ie=UTF-8&oe=UTF-8&uule=w+CAIQIFISCcM8HUfhhHZIEbzKx0ulhCYF'}\n",
      "{'post_id': '70', 'task_id': 12027031107, 'se_id': 22, 'loc_id': 9046112, 'key_id': 3445065, 'post_key': 'chimney sweep', 'result_datetime': '2019-10-28 23:58:11 +00:00', 'result_position': 95, 'result_url': 'http://www.chimney-sweep-devon.co.uk/contact_us.html', 'result_breadcrumb': 'www.chimney-sweep-devon.co.uk › contact_us', 'result_title': 'Paul the Chimney Sweep, Paull Andrews, Contact Us ...', 'result_snippet_extra': '', 'result_snippet': 'The best way to contact us quickly is on our Mobile Phone because we are usually out and about sweeping chimneys. Less urgent enquiries may be left by\\xa0...', 'results_count': 12600000, 'result_extra': 'people_also_ask,images,local_pack', 'result_stat': [], 'result_spell': '', 'result_spell_type': '', 'result_highlighted': ['sweeping chimneys'], 'result_se_check_url': 'https://www.google.co.uk/search?q=chimney%20sweep&num=100&hl=en&gl=GB&gws_rd=cr&ie=UTF-8&oe=UTF-8&uule=w+CAIQIFISCcM8HUfhhHZIEbzKx0ulhCYF'}\n",
      "{'post_id': '70', 'task_id': 12027031107, 'se_id': 22, 'loc_id': 9046112, 'key_id': 3445065, 'post_key': 'chimney sweep', 'result_datetime': '2019-10-28 23:58:11 +00:00', 'result_position': 96, 'result_url': 'https://apps.derbyshire.gov.uk/applications/trusted-trader/profile.asp?tid=66809', 'result_breadcrumb': 'https://apps.derbyshire.gov.uk › applications › trusted-trader › profile', 'result_title': 'GW Chimney Sweep Services - Trusted Trader', 'result_snippet_extra': '', 'result_snippet': 'I offer a clean, prompt, efficient and friendly service with no mess. My rates are very reasonable and I work 7 days to provide a flexible service to my customers.', 'results_count': 12600000, 'result_extra': 'people_also_ask,images,local_pack', 'result_stat': [], 'result_spell': '', 'result_spell_type': '', 'result_highlighted': ['clean'], 'result_se_check_url': 'https://www.google.co.uk/search?q=chimney%20sweep&num=100&hl=en&gl=GB&gws_rd=cr&ie=UTF-8&oe=UTF-8&uule=w+CAIQIFISCcM8HUfhhHZIEbzKx0ulhCYF'}\n",
      "{'post_id': '70', 'task_id': 12027031107, 'se_id': 22, 'loc_id': 9046112, 'key_id': 3445065, 'post_key': 'chimney sweep', 'result_datetime': '2019-10-28 23:58:11 +00:00', 'result_position': 97, 'result_url': 'https://www.eaveschimneysweeps.co.uk/', 'result_breadcrumb': 'https://www.eaveschimneysweeps.co.uk', 'result_title': 'Eaves Chimney Sweep offers chimney sweeping in Stockport', 'result_snippet_extra': '', 'result_snippet': 'Eaves Chimney Sweep work across Buxton, Macclesfield , Stockport and beyond, with quality chimney sweeping services. For one of the best chimney sweeps,\\xa0...', 'results_count': 12600000, 'result_extra': 'people_also_ask,images,local_pack', 'result_stat': [], 'result_spell': '', 'result_spell_type': '', 'result_highlighted': ['Chimney Sweep', 'chimney sweeping', 'chimney sweeps'], 'result_se_check_url': 'https://www.google.co.uk/search?q=chimney%20sweep&num=100&hl=en&gl=GB&gws_rd=cr&ie=UTF-8&oe=UTF-8&uule=w+CAIQIFISCcM8HUfhhHZIEbzKx0ulhCYF'}\n",
      "{'post_id': '70', 'task_id': 12027031107, 'se_id': 22, 'loc_id': 9046112, 'key_id': 3445065, 'post_key': 'chimney sweep', 'result_datetime': '2019-10-28 23:58:11 +00:00', 'result_position': 98, 'result_url': 'https://www.hodgsonchimneysweep.co.uk/', 'result_breadcrumb': 'https://www.hodgsonchimneysweep.co.uk', 'result_title': 'Chimney Sweep Devon, Torquay, Hodgsons Chimney Sweeps', 'result_snippet_extra': '', 'result_snippet': 'Hodgsons Chimney sweeps Torquay are family run chimney sweeping and testing company in Devon and Somerset since 1964, with very high standards and\\xa0...', 'results_count': 12600000, 'result_extra': 'people_also_ask,images,local_pack', 'result_stat': [], 'result_spell': '', 'result_spell_type': '', 'result_highlighted': ['Chimney sweeps', 'chimney sweeping'], 'result_se_check_url': 'https://www.google.co.uk/search?q=chimney%20sweep&num=100&hl=en&gl=GB&gws_rd=cr&ie=UTF-8&oe=UTF-8&uule=w+CAIQIFISCcM8HUfhhHZIEbzKx0ulhCYF'}\n",
      "{'post_id': '70', 'task_id': 12027031107, 'se_id': 22, 'loc_id': 9046112, 'key_id': 3445065, 'post_key': 'chimney sweep', 'result_datetime': '2019-10-28 23:58:11 +00:00', 'result_position': 99, 'result_url': 'https://www.prospectmagazine.co.uk/magazine/philip-oltermann-germany-guild-chimney-sweeps', 'result_breadcrumb': 'https://www.prospectmagazine.co.uk › magazine › philip-oltermann-germa...', 'result_title': 'Can we learn from German chimney sweeps? | Prospect ...', 'result_snippet_extra': '', 'result_snippet': \"22 May 2013 - A Berlin chimney sweep: does Germany's success lie in “the very fact that labour is still supported by structures that are frankly medieval”?\", 'results_count': 12600000, 'result_extra': 'people_also_ask,images,local_pack', 'result_stat': [], 'result_spell': '', 'result_spell_type': '', 'result_highlighted': ['chimney sweep'], 'result_se_check_url': 'https://www.google.co.uk/search?q=chimney%20sweep&num=100&hl=en&gl=GB&gws_rd=cr&ie=UTF-8&oe=UTF-8&uule=w+CAIQIFISCcM8HUfhhHZIEbzKx0ulhCYF'}\n",
      "related\n",
      "related\n",
      "related\n"
     ]
    }
   ],
   "source": [
    "for i, j in final_results[0].items():\n",
    "    print(test)\n",
    "    for item in j:\n",
    "        print(item)"
   ]
  },
  {
   "cell_type": "markdown",
   "metadata": {},
   "source": [
    "# Creating A New Data-Structure."
   ]
  },
  {
   "cell_type": "code",
   "execution_count": 21,
   "metadata": {},
   "outputs": [],
   "source": [
    "master_dict = {\n",
    "    \n",
    "    'post_key': [],\n",
    "    'result_position': [],\n",
    "    'result_url': [],\n",
    "    'result_title': []\n",
    "    \n",
    "}"
   ]
  },
  {
   "cell_type": "code",
   "execution_count": 22,
   "metadata": {},
   "outputs": [],
   "source": [
    "key_list = ['post_key', 'result_position', 'result_url', 'result_title']\n",
    "\n",
    "# The Order Is Returned In The Following: Post_Key, Position, URL, Title which matches the order of our master_dict."
   ]
  },
  {
   "cell_type": "code",
   "execution_count": 29,
   "metadata": {
    "collapsed": true
   },
   "outputs": [
    {
     "name": "stdout",
     "output_type": "stream",
     "text": [
      "0.005 x 100 Result SERP Completed\n",
      "0.01 x 100 Result SERP Completed\n",
      "0.015 x 100 Result SERP Completed\n",
      "0.02 x 100 Result SERP Completed\n",
      "0.025 x 100 Result SERP Completed\n",
      "0.03 x 100 Result SERP Completed\n",
      "0.035 x 100 Result SERP Completed\n",
      "0.04 x 100 Result SERP Completed\n",
      "0.045 x 100 Result SERP Completed\n",
      "0.05 x 100 Result SERP Completed\n",
      "0.055 x 100 Result SERP Completed\n",
      "0.06 x 100 Result SERP Completed\n",
      "0.065 x 100 Result SERP Completed\n",
      "0.07 x 100 Result SERP Completed\n",
      "0.075 x 100 Result SERP Completed\n",
      "0.08 x 100 Result SERP Completed\n",
      "0.085 x 100 Result SERP Completed\n",
      "0.09 x 100 Result SERP Completed\n",
      "0.095 x 100 Result SERP Completed\n",
      "0.1 x 100 Result SERP Completed\n",
      "0.105 x 100 Result SERP Completed\n",
      "0.11 x 100 Result SERP Completed\n",
      "0.115 x 100 Result SERP Completed\n",
      "0.12 x 100 Result SERP Completed\n",
      "0.125 x 100 Result SERP Completed\n",
      "0.13 x 100 Result SERP Completed\n",
      "0.135 x 100 Result SERP Completed\n",
      "0.14 x 100 Result SERP Completed\n",
      "0.145 x 100 Result SERP Completed\n",
      "0.15 x 100 Result SERP Completed\n",
      "0.155 x 100 Result SERP Completed\n",
      "0.16 x 100 Result SERP Completed\n",
      "0.165 x 100 Result SERP Completed\n",
      "0.17 x 100 Result SERP Completed\n",
      "0.175 x 100 Result SERP Completed\n",
      "0.18 x 100 Result SERP Completed\n",
      "0.185 x 100 Result SERP Completed\n",
      "0.19 x 100 Result SERP Completed\n",
      "0.195 x 100 Result SERP Completed\n",
      "0.2 x 100 Result SERP Completed\n",
      "0.205 x 100 Result SERP Completed\n",
      "0.21 x 100 Result SERP Completed\n",
      "0.215 x 100 Result SERP Completed\n",
      "0.22 x 100 Result SERP Completed\n",
      "0.225 x 100 Result SERP Completed\n",
      "0.23 x 100 Result SERP Completed\n",
      "0.235 x 100 Result SERP Completed\n",
      "0.24 x 100 Result SERP Completed\n",
      "0.245 x 100 Result SERP Completed\n",
      "0.25 x 100 Result SERP Completed\n",
      "0.255 x 100 Result SERP Completed\n",
      "0.26 x 100 Result SERP Completed\n",
      "0.265 x 100 Result SERP Completed\n",
      "0.27 x 100 Result SERP Completed\n",
      "0.275 x 100 Result SERP Completed\n",
      "0.28 x 100 Result SERP Completed\n",
      "0.285 x 100 Result SERP Completed\n",
      "0.29 x 100 Result SERP Completed\n",
      "0.295 x 100 Result SERP Completed\n",
      "0.3 x 100 Result SERP Completed\n",
      "0.305 x 100 Result SERP Completed\n",
      "0.31 x 100 Result SERP Completed\n",
      "0.315 x 100 Result SERP Completed\n",
      "0.32 x 100 Result SERP Completed\n",
      "0.325 x 100 Result SERP Completed\n",
      "0.33 x 100 Result SERP Completed\n",
      "0.335 x 100 Result SERP Completed\n",
      "0.34 x 100 Result SERP Completed\n",
      "0.345 x 100 Result SERP Completed\n",
      "0.35 x 100 Result SERP Completed\n",
      "0.355 x 100 Result SERP Completed\n",
      "0.36 x 100 Result SERP Completed\n",
      "0.365 x 100 Result SERP Completed\n",
      "0.37 x 100 Result SERP Completed\n",
      "0.375 x 100 Result SERP Completed\n",
      "0.38 x 100 Result SERP Completed\n",
      "0.385 x 100 Result SERP Completed\n",
      "0.39 x 100 Result SERP Completed\n",
      "0.395 x 100 Result SERP Completed\n",
      "0.4 x 100 Result SERP Completed\n",
      "0.405 x 100 Result SERP Completed\n",
      "0.41 x 100 Result SERP Completed\n",
      "0.415 x 100 Result SERP Completed\n",
      "0.42 x 100 Result SERP Completed\n",
      "0.425 x 100 Result SERP Completed\n",
      "0.43 x 100 Result SERP Completed\n",
      "0.435 x 100 Result SERP Completed\n",
      "0.44 x 100 Result SERP Completed\n",
      "0.445 x 100 Result SERP Completed\n",
      "0.45 x 100 Result SERP Completed\n",
      "0.455 x 100 Result SERP Completed\n",
      "0.46 x 100 Result SERP Completed\n",
      "0.465 x 100 Result SERP Completed\n",
      "0.47 x 100 Result SERP Completed\n",
      "0.475 x 100 Result SERP Completed\n",
      "0.48 x 100 Result SERP Completed\n",
      "0.485 x 100 Result SERP Completed\n",
      "0.49 x 100 Result SERP Completed\n",
      "0.495 x 100 Result SERP Completed\n",
      "0.5 x 100 Result SERP Completed\n",
      "0.505 x 100 Result SERP Completed\n",
      "0.51 x 100 Result SERP Completed\n",
      "0.515 x 100 Result SERP Completed\n",
      "0.52 x 100 Result SERP Completed\n",
      "0.525 x 100 Result SERP Completed\n",
      "0.53 x 100 Result SERP Completed\n",
      "0.535 x 100 Result SERP Completed\n",
      "0.54 x 100 Result SERP Completed\n",
      "0.545 x 100 Result SERP Completed\n",
      "0.55 x 100 Result SERP Completed\n",
      "0.555 x 100 Result SERP Completed\n",
      "0.56 x 100 Result SERP Completed\n",
      "0.565 x 100 Result SERP Completed\n",
      "0.57 x 100 Result SERP Completed\n",
      "0.575 x 100 Result SERP Completed\n",
      "0.58 x 100 Result SERP Completed\n",
      "0.585 x 100 Result SERP Completed\n",
      "0.59 x 100 Result SERP Completed\n",
      "0.595 x 100 Result SERP Completed\n",
      "0.6 x 100 Result SERP Completed\n",
      "0.605 x 100 Result SERP Completed\n",
      "0.61 x 100 Result SERP Completed\n",
      "0.615 x 100 Result SERP Completed\n",
      "0.62 x 100 Result SERP Completed\n",
      "0.625 x 100 Result SERP Completed\n",
      "0.63 x 100 Result SERP Completed\n",
      "0.635 x 100 Result SERP Completed\n",
      "0.64 x 100 Result SERP Completed\n",
      "0.645 x 100 Result SERP Completed\n",
      "0.65 x 100 Result SERP Completed\n",
      "0.655 x 100 Result SERP Completed\n",
      "0.66 x 100 Result SERP Completed\n",
      "0.665 x 100 Result SERP Completed\n",
      "0.67 x 100 Result SERP Completed\n",
      "0.675 x 100 Result SERP Completed\n",
      "0.68 x 100 Result SERP Completed\n",
      "0.685 x 100 Result SERP Completed\n",
      "0.69 x 100 Result SERP Completed\n",
      "0.695 x 100 Result SERP Completed\n",
      "0.7 x 100 Result SERP Completed\n",
      "0.705 x 100 Result SERP Completed\n",
      "0.71 x 100 Result SERP Completed\n",
      "0.715 x 100 Result SERP Completed\n",
      "0.72 x 100 Result SERP Completed\n",
      "0.725 x 100 Result SERP Completed\n",
      "0.73 x 100 Result SERP Completed\n",
      "0.735 x 100 Result SERP Completed\n",
      "0.74 x 100 Result SERP Completed\n",
      "0.745 x 100 Result SERP Completed\n",
      "0.75 x 100 Result SERP Completed\n",
      "0.755 x 100 Result SERP Completed\n",
      "0.76 x 100 Result SERP Completed\n",
      "0.765 x 100 Result SERP Completed\n",
      "0.77 x 100 Result SERP Completed\n",
      "0.775 x 100 Result SERP Completed\n",
      "0.78 x 100 Result SERP Completed\n",
      "0.785 x 100 Result SERP Completed\n",
      "0.79 x 100 Result SERP Completed\n",
      "0.795 x 100 Result SERP Completed\n",
      "0.8 x 100 Result SERP Completed\n",
      "0.805 x 100 Result SERP Completed\n",
      "0.81 x 100 Result SERP Completed\n",
      "0.815 x 100 Result SERP Completed\n",
      "0.82 x 100 Result SERP Completed\n",
      "0.825 x 100 Result SERP Completed\n",
      "0.83 x 100 Result SERP Completed\n",
      "0.835 x 100 Result SERP Completed\n",
      "0.84 x 100 Result SERP Completed\n",
      "0.845 x 100 Result SERP Completed\n",
      "0.85 x 100 Result SERP Completed\n",
      "0.855 x 100 Result SERP Completed\n",
      "0.86 x 100 Result SERP Completed\n",
      "0.865 x 100 Result SERP Completed\n",
      "0.87 x 100 Result SERP Completed\n",
      "0.875 x 100 Result SERP Completed\n",
      "0.88 x 100 Result SERP Completed\n",
      "0.885 x 100 Result SERP Completed\n",
      "0.89 x 100 Result SERP Completed\n",
      "0.895 x 100 Result SERP Completed\n",
      "0.9 x 100 Result SERP Completed\n",
      "0.905 x 100 Result SERP Completed\n",
      "0.91 x 100 Result SERP Completed\n",
      "0.915 x 100 Result SERP Completed\n",
      "0.92 x 100 Result SERP Completed\n",
      "0.925 x 100 Result SERP Completed\n",
      "0.93 x 100 Result SERP Completed\n",
      "0.935 x 100 Result SERP Completed\n",
      "0.94 x 100 Result SERP Completed\n",
      "0.945 x 100 Result SERP Completed\n",
      "0.95 x 100 Result SERP Completed\n",
      "0.955 x 100 Result SERP Completed\n",
      "0.96 x 100 Result SERP Completed\n",
      "0.965 x 100 Result SERP Completed\n",
      "0.97 x 100 Result SERP Completed\n",
      "0.975 x 100 Result SERP Completed\n",
      "0.98 x 100 Result SERP Completed\n",
      "0.985 x 100 Result SERP Completed\n",
      "0.99 x 100 Result SERP Completed\n",
      "0.995 x 100 Result SERP Completed\n",
      "1.0 x 100 Result SERP Completed\n"
     ]
    }
   ],
   "source": [
    "i = 0\n",
    "\n",
    "while i < len(raw_data):\n",
    "    \n",
    "    # Query Every Keyword SERP Page.\n",
    "    for data in raw_data[i]['organic']:\n",
    "        for keys, values in data.items():\n",
    "            if keys in key_list:\n",
    "                master_dict[str(keys)].append(values)\n",
    "                \n",
    "    # Iterate I\n",
    "    i += 1\n",
    "        \n",
    "    print(\"{} x 100 Result SERP Completed\".format(i / len(raw_data)))"
   ]
  },
  {
   "cell_type": "markdown",
   "metadata": {},
   "source": [
    "# The SERP Data After Data Extraction"
   ]
  },
  {
   "cell_type": "markdown",
   "metadata": {},
   "source": [
    "After extracting all <strong> 201 keyword queries within the geo-code of Reading. </strong> we can inspect the data, also we will be stripping out the root domain element of every URL. This will serve as a brand-able query that we can use to search for knowledge panels via a different python script."
   ]
  },
  {
   "cell_type": "code",
   "execution_count": 32,
   "metadata": {},
   "outputs": [],
   "source": [
    "df = pd.DataFrame(master_dict)"
   ]
  },
  {
   "cell_type": "code",
   "execution_count": 34,
   "metadata": {},
   "outputs": [
    {
     "data": {
      "text/html": [
       "<div>\n",
       "<style scoped>\n",
       "    .dataframe tbody tr th:only-of-type {\n",
       "        vertical-align: middle;\n",
       "    }\n",
       "\n",
       "    .dataframe tbody tr th {\n",
       "        vertical-align: top;\n",
       "    }\n",
       "\n",
       "    .dataframe thead th {\n",
       "        text-align: right;\n",
       "    }\n",
       "</style>\n",
       "<table border=\"1\" class=\"dataframe\">\n",
       "  <thead>\n",
       "    <tr style=\"text-align: right;\">\n",
       "      <th></th>\n",
       "      <th>post_key</th>\n",
       "      <th>result_position</th>\n",
       "      <th>result_url</th>\n",
       "      <th>result_title</th>\n",
       "    </tr>\n",
       "  </thead>\n",
       "  <tbody>\n",
       "    <tr>\n",
       "      <td>0</td>\n",
       "      <td>chimney sweep</td>\n",
       "      <td>1</td>\n",
       "      <td>https://www.hetas.co.uk/find-chimney-sweep/</td>\n",
       "      <td>Chimney Sweep Search | Find a Chimney Sweep Ne...</td>\n",
       "    </tr>\n",
       "    <tr>\n",
       "      <td>1</td>\n",
       "      <td>chimney sweep</td>\n",
       "      <td>2</td>\n",
       "      <td>https://www.readingsweep.co.uk/</td>\n",
       "      <td>VIRGO Chimney Sweep in Reading, Berkshire</td>\n",
       "    </tr>\n",
       "    <tr>\n",
       "      <td>2</td>\n",
       "      <td>chimney sweep</td>\n",
       "      <td>3</td>\n",
       "      <td>https://www.checkatrade.com/Search/Chimney-Swe...</td>\n",
       "      <td>Chimney Sweep in Reading - Find a trade with C...</td>\n",
       "    </tr>\n",
       "    <tr>\n",
       "      <td>3</td>\n",
       "      <td>chimney sweep</td>\n",
       "      <td>4</td>\n",
       "      <td>https://www.acsweep.co.uk/</td>\n",
       "      <td>Adams Chimney Sweep in Reading, Berkshire</td>\n",
       "    </tr>\n",
       "    <tr>\n",
       "      <td>4</td>\n",
       "      <td>chimney sweep</td>\n",
       "      <td>5</td>\n",
       "      <td>https://www.yell.com/s/chimney+sweeps-reading....</td>\n",
       "      <td>Chimney Sweeps in Reading | Get a Quote - Yell</td>\n",
       "    </tr>\n",
       "    <tr>\n",
       "      <td>5</td>\n",
       "      <td>chimney sweep</td>\n",
       "      <td>6</td>\n",
       "      <td>https://www.findachimneysweep.co.uk/</td>\n",
       "      <td>Find a Chimney Sweep near me - UK directory of...</td>\n",
       "    </tr>\n",
       "    <tr>\n",
       "      <td>6</td>\n",
       "      <td>chimney sweep</td>\n",
       "      <td>7</td>\n",
       "      <td>https://www.lockchimneysweepsreading.co.uk/</td>\n",
       "      <td>Locks Chimney Sweep | Professional Chimney Swe...</td>\n",
       "    </tr>\n",
       "    <tr>\n",
       "      <td>7</td>\n",
       "      <td>chimney sweep</td>\n",
       "      <td>8</td>\n",
       "      <td>https://nacs.org.uk/</td>\n",
       "      <td>Home - The National Association of Chimney Swe...</td>\n",
       "    </tr>\n",
       "    <tr>\n",
       "      <td>8</td>\n",
       "      <td>chimney sweep</td>\n",
       "      <td>9</td>\n",
       "      <td>https://en.wikipedia.org/wiki/Chimney_sweep</td>\n",
       "      <td>Chimney sweep - Wikipedia</td>\n",
       "    </tr>\n",
       "    <tr>\n",
       "      <td>9</td>\n",
       "      <td>chimney sweep</td>\n",
       "      <td>10</td>\n",
       "      <td>https://www.stovesonline.co.uk/services/chimne...</td>\n",
       "      <td>Find your local chimney sweeps UK</td>\n",
       "    </tr>\n",
       "    <tr>\n",
       "      <td>10</td>\n",
       "      <td>chimney sweep</td>\n",
       "      <td>11</td>\n",
       "      <td>https://www.ucas.com/ucas/after-gcses/find-car...</td>\n",
       "      <td>How To Become A Chimney sweep | Explore Jobs |...</td>\n",
       "    </tr>\n",
       "    <tr>\n",
       "      <td>11</td>\n",
       "      <td>chimney sweep</td>\n",
       "      <td>12</td>\n",
       "      <td>https://www.sweepsafe.com/become-chimney-sweeps/</td>\n",
       "      <td>Become a Chimney Sweep | Sweep Safe</td>\n",
       "    </tr>\n",
       "    <tr>\n",
       "      <td>12</td>\n",
       "      <td>chimney sweep</td>\n",
       "      <td>13</td>\n",
       "      <td>https://threebestrated.co.uk/chimney-sweeps-in...</td>\n",
       "      <td>3 Best Chimney Sweeps in Reading, UK - Top Pic...</td>\n",
       "    </tr>\n",
       "    <tr>\n",
       "      <td>13</td>\n",
       "      <td>chimney sweep</td>\n",
       "      <td>14</td>\n",
       "      <td>https://www.guildofmasterchimneysweeps.co.uk/</td>\n",
       "      <td>Chimney Sweep Training, Chimney sweeps organis...</td>\n",
       "    </tr>\n",
       "    <tr>\n",
       "      <td>14</td>\n",
       "      <td>chimney sweep</td>\n",
       "      <td>15</td>\n",
       "      <td>https://www.guildofmasterchimneysweeps.co.uk/g...</td>\n",
       "      <td>Guild Certified chimney sweep training | Guild...</td>\n",
       "    </tr>\n",
       "  </tbody>\n",
       "</table>\n",
       "</div>"
      ],
      "text/plain": [
       "         post_key  result_position  \\\n",
       "0   chimney sweep                1   \n",
       "1   chimney sweep                2   \n",
       "2   chimney sweep                3   \n",
       "3   chimney sweep                4   \n",
       "4   chimney sweep                5   \n",
       "5   chimney sweep                6   \n",
       "6   chimney sweep                7   \n",
       "7   chimney sweep                8   \n",
       "8   chimney sweep                9   \n",
       "9   chimney sweep               10   \n",
       "10  chimney sweep               11   \n",
       "11  chimney sweep               12   \n",
       "12  chimney sweep               13   \n",
       "13  chimney sweep               14   \n",
       "14  chimney sweep               15   \n",
       "\n",
       "                                           result_url  \\\n",
       "0         https://www.hetas.co.uk/find-chimney-sweep/   \n",
       "1                     https://www.readingsweep.co.uk/   \n",
       "2   https://www.checkatrade.com/Search/Chimney-Swe...   \n",
       "3                          https://www.acsweep.co.uk/   \n",
       "4   https://www.yell.com/s/chimney+sweeps-reading....   \n",
       "5                https://www.findachimneysweep.co.uk/   \n",
       "6         https://www.lockchimneysweepsreading.co.uk/   \n",
       "7                                https://nacs.org.uk/   \n",
       "8         https://en.wikipedia.org/wiki/Chimney_sweep   \n",
       "9   https://www.stovesonline.co.uk/services/chimne...   \n",
       "10  https://www.ucas.com/ucas/after-gcses/find-car...   \n",
       "11   https://www.sweepsafe.com/become-chimney-sweeps/   \n",
       "12  https://threebestrated.co.uk/chimney-sweeps-in...   \n",
       "13      https://www.guildofmasterchimneysweeps.co.uk/   \n",
       "14  https://www.guildofmasterchimneysweeps.co.uk/g...   \n",
       "\n",
       "                                         result_title  \n",
       "0   Chimney Sweep Search | Find a Chimney Sweep Ne...  \n",
       "1           VIRGO Chimney Sweep in Reading, Berkshire  \n",
       "2   Chimney Sweep in Reading - Find a trade with C...  \n",
       "3           Adams Chimney Sweep in Reading, Berkshire  \n",
       "4      Chimney Sweeps in Reading | Get a Quote - Yell  \n",
       "5   Find a Chimney Sweep near me - UK directory of...  \n",
       "6   Locks Chimney Sweep | Professional Chimney Swe...  \n",
       "7   Home - The National Association of Chimney Swe...  \n",
       "8                           Chimney sweep - Wikipedia  \n",
       "9                   Find your local chimney sweeps UK  \n",
       "10  How To Become A Chimney sweep | Explore Jobs |...  \n",
       "11                Become a Chimney Sweep | Sweep Safe  \n",
       "12  3 Best Chimney Sweeps in Reading, UK - Top Pic...  \n",
       "13  Chimney Sweep Training, Chimney sweeps organis...  \n",
       "14  Guild Certified chimney sweep training | Guild...  "
      ]
     },
     "execution_count": 34,
     "metadata": {},
     "output_type": "execute_result"
    }
   ],
   "source": [
    "df.head(15)"
   ]
  },
  {
   "cell_type": "code",
   "execution_count": 35,
   "metadata": {},
   "outputs": [
    {
     "name": "stdout",
     "output_type": "stream",
     "text": [
      "<class 'pandas.core.frame.DataFrame'>\n",
      "RangeIndex: 19793 entries, 0 to 19792\n",
      "Data columns (total 4 columns):\n",
      "post_key           19793 non-null object\n",
      "result_position    19793 non-null int64\n",
      "result_url         19793 non-null object\n",
      "result_title       19793 non-null object\n",
      "dtypes: int64(1), object(3)\n",
      "memory usage: 618.7+ KB\n"
     ]
    }
   ],
   "source": [
    "df.info()"
   ]
  },
  {
   "cell_type": "markdown",
   "metadata": {},
   "source": [
    "# Data Cleaning"
   ]
  },
  {
   "cell_type": "markdown",
   "metadata": {},
   "source": [
    "Now that we've extracted our 200 geo-queries into a dataframe we need to clean the data, obtain the root domains. So let's get to it!"
   ]
  },
  {
   "cell_type": "code",
   "execution_count": 64,
   "metadata": {},
   "outputs": [],
   "source": [
    "def get_base_domain(x):\n",
    "\n",
    "    parsed = urlparse(x)\n",
    "    domain = parsed.netloc.split(\".\")[1:]\n",
    "    host = \".\".join(domain)\n",
    "\n",
    "    return host"
   ]
  },
  {
   "cell_type": "markdown",
   "metadata": {},
   "source": [
    "#### 1. Extract The Root Domain"
   ]
  },
  {
   "cell_type": "code",
   "execution_count": 73,
   "metadata": {},
   "outputs": [
    {
     "data": {
      "text/html": [
       "<div>\n",
       "<style scoped>\n",
       "    .dataframe tbody tr th:only-of-type {\n",
       "        vertical-align: middle;\n",
       "    }\n",
       "\n",
       "    .dataframe tbody tr th {\n",
       "        vertical-align: top;\n",
       "    }\n",
       "\n",
       "    .dataframe thead th {\n",
       "        text-align: right;\n",
       "    }\n",
       "</style>\n",
       "<table border=\"1\" class=\"dataframe\">\n",
       "  <thead>\n",
       "    <tr style=\"text-align: right;\">\n",
       "      <th></th>\n",
       "      <th>post_key</th>\n",
       "      <th>result_position</th>\n",
       "      <th>result_url</th>\n",
       "      <th>result_title</th>\n",
       "      <th>Root_Domain</th>\n",
       "    </tr>\n",
       "  </thead>\n",
       "  <tbody>\n",
       "    <tr>\n",
       "      <td>0</td>\n",
       "      <td>chimney sweep</td>\n",
       "      <td>1</td>\n",
       "      <td>https://www.hetas.co.uk/find-chimney-sweep/</td>\n",
       "      <td>Chimney Sweep Search | Find a Chimney Sweep Ne...</td>\n",
       "      <td>hetas.co.uk</td>\n",
       "    </tr>\n",
       "    <tr>\n",
       "      <td>1</td>\n",
       "      <td>chimney sweep</td>\n",
       "      <td>2</td>\n",
       "      <td>https://www.readingsweep.co.uk/</td>\n",
       "      <td>VIRGO Chimney Sweep in Reading, Berkshire</td>\n",
       "      <td>readingsweep.co.uk</td>\n",
       "    </tr>\n",
       "    <tr>\n",
       "      <td>2</td>\n",
       "      <td>chimney sweep</td>\n",
       "      <td>3</td>\n",
       "      <td>https://www.checkatrade.com/Search/Chimney-Swe...</td>\n",
       "      <td>Chimney Sweep in Reading - Find a trade with C...</td>\n",
       "      <td>checkatrade.com</td>\n",
       "    </tr>\n",
       "    <tr>\n",
       "      <td>3</td>\n",
       "      <td>chimney sweep</td>\n",
       "      <td>4</td>\n",
       "      <td>https://www.acsweep.co.uk/</td>\n",
       "      <td>Adams Chimney Sweep in Reading, Berkshire</td>\n",
       "      <td>acsweep.co.uk</td>\n",
       "    </tr>\n",
       "    <tr>\n",
       "      <td>4</td>\n",
       "      <td>chimney sweep</td>\n",
       "      <td>5</td>\n",
       "      <td>https://www.yell.com/s/chimney+sweeps-reading....</td>\n",
       "      <td>Chimney Sweeps in Reading | Get a Quote - Yell</td>\n",
       "      <td>yell.com</td>\n",
       "    </tr>\n",
       "  </tbody>\n",
       "</table>\n",
       "</div>"
      ],
      "text/plain": [
       "        post_key  result_position  \\\n",
       "0  chimney sweep                1   \n",
       "1  chimney sweep                2   \n",
       "2  chimney sweep                3   \n",
       "3  chimney sweep                4   \n",
       "4  chimney sweep                5   \n",
       "\n",
       "                                          result_url  \\\n",
       "0        https://www.hetas.co.uk/find-chimney-sweep/   \n",
       "1                    https://www.readingsweep.co.uk/   \n",
       "2  https://www.checkatrade.com/Search/Chimney-Swe...   \n",
       "3                         https://www.acsweep.co.uk/   \n",
       "4  https://www.yell.com/s/chimney+sweeps-reading....   \n",
       "\n",
       "                                        result_title         Root_Domain  \n",
       "0  Chimney Sweep Search | Find a Chimney Sweep Ne...         hetas.co.uk  \n",
       "1          VIRGO Chimney Sweep in Reading, Berkshire  readingsweep.co.uk  \n",
       "2  Chimney Sweep in Reading - Find a trade with C...     checkatrade.com  \n",
       "3          Adams Chimney Sweep in Reading, Berkshire       acsweep.co.uk  \n",
       "4     Chimney Sweeps in Reading | Get a Quote - Yell            yell.com  "
      ]
     },
     "execution_count": 73,
     "metadata": {},
     "output_type": "execute_result"
    }
   ],
   "source": [
    "df['Root_Domain'] = df['result_url'].apply(lambda x: get_base_domain(x))\n",
    "df.head()"
   ]
  },
  {
   "cell_type": "markdown",
   "metadata": {},
   "source": [
    "#### 2. De-duplicate against Root Domain"
   ]
  },
  {
   "cell_type": "code",
   "execution_count": 83,
   "metadata": {
    "collapsed": true
   },
   "outputs": [
    {
     "name": "stdout",
     "output_type": "stream",
     "text": [
      "<class 'pandas.core.frame.DataFrame'>\n",
      "Int64Index: 3187 entries, 0 to 19727\n",
      "Data columns (total 5 columns):\n",
      "post_key           3187 non-null object\n",
      "result_position    3187 non-null int64\n",
      "result_url         3187 non-null object\n",
      "result_title       3187 non-null object\n",
      "Root_Domain        3187 non-null object\n",
      "dtypes: int64(1), object(4)\n",
      "memory usage: 149.4+ KB\n"
     ]
    },
    {
     "name": "stderr",
     "output_type": "stream",
     "text": [
      "/Users/jamesphoenix/opt/anaconda3/lib/python3.7/site-packages/ipykernel_launcher.py:1: SettingWithCopyWarning: \n",
      "A value is trying to be set on a copy of a slice from a DataFrame\n",
      "\n",
      "See the caveats in the documentation: http://pandas.pydata.org/pandas-docs/stable/user_guide/indexing.html#returning-a-view-versus-a-copy\n",
      "  \"\"\"Entry point for launching an IPython kernel.\n"
     ]
    }
   ],
   "source": [
    "df.drop_duplicates(subset='Root_Domain', inplace = True)"
   ]
  },
  {
   "cell_type": "markdown",
   "metadata": {},
   "source": [
    "##### 3. Let's remove anything above position 36+, simply to just reduce the size of our dataset."
   ]
  },
  {
   "cell_type": "code",
   "execution_count": 84,
   "metadata": {},
   "outputs": [],
   "source": [
    "df = df[df['result_position'] < 36]"
   ]
  },
  {
   "cell_type": "markdown",
   "metadata": {},
   "source": [
    "#### 4. Removing The Large Directory Websites \n",
    "\n",
    "At this point we need to collect more competitor metrics from Ahrefs. These metrics will solely serve to act as a <strong> 'proxy/approximation' to the website's authority </strong>, allowing us to easily remove bigger directory websites such as yell.com and checkatrade.com.\n",
    "\n",
    "Because let's face it, they probably don't need GMB optimisation and likely already have multiple GMB listings."
   ]
  },
  {
   "cell_type": "markdown",
   "metadata": {},
   "source": [
    "<img src='batch_analysis_ahrefs.png' />"
   ]
  },
  {
   "cell_type": "code",
   "execution_count": null,
   "metadata": {},
   "outputs": [],
   "source": [
    "df['domain_list.csv'].to_csv('domain_list.csv')"
   ]
  },
  {
   "cell_type": "markdown",
   "metadata": {},
   "source": [
    "I used 16 x batch analysis tasks within Ahrefs and combined all of the CSV's using Python.\n"
   ]
  },
  {
   "cell_type": "markdown",
   "metadata": {},
   "source": [
    "<img src='batch_analysis.png' />"
   ]
  },
  {
   "cell_type": "code",
   "execution_count": 95,
   "metadata": {},
   "outputs": [],
   "source": [
    "import os\n",
    "import glob"
   ]
  },
  {
   "cell_type": "code",
   "execution_count": 96,
   "metadata": {},
   "outputs": [],
   "source": [
    "os.chdir('batch_analysis_csvs')"
   ]
  },
  {
   "cell_type": "code",
   "execution_count": 97,
   "metadata": {},
   "outputs": [
    {
     "name": "stdout",
     "output_type": "stream",
     "text": [
      "/Users/jamesphoenix/Desktop/Coding_Projects/4_Google_My_Business_Python_Prospector/Ignore/batch_analysis_csvs\r\n"
     ]
    }
   ],
   "source": [
    "!pwd"
   ]
  },
  {
   "cell_type": "code",
   "execution_count": 98,
   "metadata": {},
   "outputs": [],
   "source": [
    "csv_list = glob.glob('*.csv')"
   ]
  },
  {
   "cell_type": "markdown",
   "metadata": {},
   "source": [
    "The code below will basically create a new dataframe from every CSV and then concatenate it as it grows, therefore combining all of the 16x separate Ahrefs batch analysis files."
   ]
  },
  {
   "cell_type": "code",
   "execution_count": 99,
   "metadata": {},
   "outputs": [],
   "source": [
    "all_batch_analysis_csvs = pd.concat([pd.read_csv(x,  encoding='utf-16', delimiter='\\t' ) for x in csv_list])"
   ]
  },
  {
   "cell_type": "markdown",
   "metadata": {},
   "source": [
    "<img src='batch_analysis_screen_shot.png' />"
   ]
  },
  {
   "cell_type": "markdown",
   "metadata": {},
   "source": [
    "Then we can merge the dataframes using the root domain as an identifying key. #Yay!"
   ]
  },
  {
   "cell_type": "code",
   "execution_count": 109,
   "metadata": {},
   "outputs": [],
   "source": [
    "all_batch_analysis_csvs.rename(columns = {'Target': 'Root_Domain'}, inplace = True)"
   ]
  },
  {
   "cell_type": "code",
   "execution_count": 112,
   "metadata": {},
   "outputs": [],
   "source": [
    "merged_df = pd.merge(df, all_batch_analysis_csvs, on='Root_Domain')"
   ]
  },
  {
   "cell_type": "code",
   "execution_count": 113,
   "metadata": {},
   "outputs": [
    {
     "data": {
      "text/html": [
       "<div>\n",
       "<style scoped>\n",
       "    .dataframe tbody tr th:only-of-type {\n",
       "        vertical-align: middle;\n",
       "    }\n",
       "\n",
       "    .dataframe tbody tr th {\n",
       "        vertical-align: top;\n",
       "    }\n",
       "\n",
       "    .dataframe thead th {\n",
       "        text-align: right;\n",
       "    }\n",
       "</style>\n",
       "<table border=\"1\" class=\"dataframe\">\n",
       "  <thead>\n",
       "    <tr style=\"text-align: right;\">\n",
       "      <th></th>\n",
       "      <th>post_key</th>\n",
       "      <th>result_position</th>\n",
       "      <th>result_url</th>\n",
       "      <th>result_title</th>\n",
       "      <th>Root_Domain</th>\n",
       "      <th>#</th>\n",
       "      <th>Mode</th>\n",
       "      <th>IP</th>\n",
       "      <th>URL Rating</th>\n",
       "      <th>Domain Rating</th>\n",
       "      <th>...</th>\n",
       "      <th>Backlinks Text</th>\n",
       "      <th>Backlinks NoFollow</th>\n",
       "      <th>Backlinks Redirect</th>\n",
       "      <th>Backlinks Image</th>\n",
       "      <th>Backlinks Frame</th>\n",
       "      <th>Backlinks Form</th>\n",
       "      <th>Backlinks Governmental</th>\n",
       "      <th>Backlinks Educational</th>\n",
       "      <th>Total Keywords</th>\n",
       "      <th>Total Traffic</th>\n",
       "    </tr>\n",
       "  </thead>\n",
       "  <tbody>\n",
       "    <tr>\n",
       "      <td>0</td>\n",
       "      <td>chimney sweep</td>\n",
       "      <td>1</td>\n",
       "      <td>https://www.hetas.co.uk/find-chimney-sweep/</td>\n",
       "      <td>Chimney Sweep Search | Find a Chimney Sweep Ne...</td>\n",
       "      <td>hetas.co.uk</td>\n",
       "      <td>1</td>\n",
       "      <td>subdomains</td>\n",
       "      <td>87.117.252.231</td>\n",
       "      <td>NaN</td>\n",
       "      <td>78.0</td>\n",
       "      <td>...</td>\n",
       "      <td>1088271</td>\n",
       "      <td>13181</td>\n",
       "      <td>19</td>\n",
       "      <td>1047677</td>\n",
       "      <td>4</td>\n",
       "      <td>0</td>\n",
       "      <td>476</td>\n",
       "      <td>8</td>\n",
       "      <td>11171</td>\n",
       "      <td>16781</td>\n",
       "    </tr>\n",
       "    <tr>\n",
       "      <td>1</td>\n",
       "      <td>chimney sweep</td>\n",
       "      <td>2</td>\n",
       "      <td>https://www.readingsweep.co.uk/</td>\n",
       "      <td>VIRGO Chimney Sweep in Reading, Berkshire</td>\n",
       "      <td>readingsweep.co.uk</td>\n",
       "      <td>2</td>\n",
       "      <td>subdomains</td>\n",
       "      <td>23.236.62.147</td>\n",
       "      <td>NaN</td>\n",
       "      <td>13.0</td>\n",
       "      <td>...</td>\n",
       "      <td>18</td>\n",
       "      <td>15</td>\n",
       "      <td>0</td>\n",
       "      <td>0</td>\n",
       "      <td>0</td>\n",
       "      <td>0</td>\n",
       "      <td>0</td>\n",
       "      <td>0</td>\n",
       "      <td>33</td>\n",
       "      <td>19</td>\n",
       "    </tr>\n",
       "    <tr>\n",
       "      <td>2</td>\n",
       "      <td>chimney sweep</td>\n",
       "      <td>3</td>\n",
       "      <td>https://www.checkatrade.com/Search/Chimney-Swe...</td>\n",
       "      <td>Chimney Sweep in Reading - Find a trade with C...</td>\n",
       "      <td>checkatrade.com</td>\n",
       "      <td>3</td>\n",
       "      <td>subdomains</td>\n",
       "      <td>NaN</td>\n",
       "      <td>NaN</td>\n",
       "      <td>90.0</td>\n",
       "      <td>...</td>\n",
       "      <td>1088673</td>\n",
       "      <td>33430</td>\n",
       "      <td>239</td>\n",
       "      <td>862954</td>\n",
       "      <td>538</td>\n",
       "      <td>1</td>\n",
       "      <td>328</td>\n",
       "      <td>269</td>\n",
       "      <td>117747</td>\n",
       "      <td>415511</td>\n",
       "    </tr>\n",
       "    <tr>\n",
       "      <td>3</td>\n",
       "      <td>chimney sweep</td>\n",
       "      <td>4</td>\n",
       "      <td>https://www.acsweep.co.uk/</td>\n",
       "      <td>Adams Chimney Sweep in Reading, Berkshire</td>\n",
       "      <td>acsweep.co.uk</td>\n",
       "      <td>4</td>\n",
       "      <td>subdomains</td>\n",
       "      <td>109.200.22.45</td>\n",
       "      <td>NaN</td>\n",
       "      <td>13.0</td>\n",
       "      <td>...</td>\n",
       "      <td>14</td>\n",
       "      <td>4</td>\n",
       "      <td>9</td>\n",
       "      <td>0</td>\n",
       "      <td>0</td>\n",
       "      <td>0</td>\n",
       "      <td>0</td>\n",
       "      <td>0</td>\n",
       "      <td>12</td>\n",
       "      <td>41</td>\n",
       "    </tr>\n",
       "    <tr>\n",
       "      <td>4</td>\n",
       "      <td>chimney sweep</td>\n",
       "      <td>5</td>\n",
       "      <td>https://www.yell.com/s/chimney+sweeps-reading....</td>\n",
       "      <td>Chimney Sweeps in Reading | Get a Quote - Yell</td>\n",
       "      <td>yell.com</td>\n",
       "      <td>5</td>\n",
       "      <td>subdomains</td>\n",
       "      <td>205.147.88.157</td>\n",
       "      <td>NaN</td>\n",
       "      <td>90.0</td>\n",
       "      <td>...</td>\n",
       "      <td>6443463</td>\n",
       "      <td>1822392</td>\n",
       "      <td>13181</td>\n",
       "      <td>2885084</td>\n",
       "      <td>3859</td>\n",
       "      <td>19816</td>\n",
       "      <td>1121</td>\n",
       "      <td>1431</td>\n",
       "      <td>3453433</td>\n",
       "      <td>8245879</td>\n",
       "    </tr>\n",
       "    <tr>\n",
       "      <td>5</td>\n",
       "      <td>chimney sweep</td>\n",
       "      <td>6</td>\n",
       "      <td>https://www.findachimneysweep.co.uk/</td>\n",
       "      <td>Find a Chimney Sweep near me - UK directory of...</td>\n",
       "      <td>findachimneysweep.co.uk</td>\n",
       "      <td>6</td>\n",
       "      <td>subdomains</td>\n",
       "      <td>37.61.232.138</td>\n",
       "      <td>NaN</td>\n",
       "      <td>62.0</td>\n",
       "      <td>...</td>\n",
       "      <td>4628</td>\n",
       "      <td>590</td>\n",
       "      <td>0</td>\n",
       "      <td>1960</td>\n",
       "      <td>2</td>\n",
       "      <td>0</td>\n",
       "      <td>4</td>\n",
       "      <td>0</td>\n",
       "      <td>1935</td>\n",
       "      <td>2441</td>\n",
       "    </tr>\n",
       "  </tbody>\n",
       "</table>\n",
       "<p>6 rows × 29 columns</p>\n",
       "</div>"
      ],
      "text/plain": [
       "        post_key  result_position  \\\n",
       "0  chimney sweep                1   \n",
       "1  chimney sweep                2   \n",
       "2  chimney sweep                3   \n",
       "3  chimney sweep                4   \n",
       "4  chimney sweep                5   \n",
       "5  chimney sweep                6   \n",
       "\n",
       "                                          result_url  \\\n",
       "0        https://www.hetas.co.uk/find-chimney-sweep/   \n",
       "1                    https://www.readingsweep.co.uk/   \n",
       "2  https://www.checkatrade.com/Search/Chimney-Swe...   \n",
       "3                         https://www.acsweep.co.uk/   \n",
       "4  https://www.yell.com/s/chimney+sweeps-reading....   \n",
       "5               https://www.findachimneysweep.co.uk/   \n",
       "\n",
       "                                        result_title              Root_Domain  \\\n",
       "0  Chimney Sweep Search | Find a Chimney Sweep Ne...              hetas.co.uk   \n",
       "1          VIRGO Chimney Sweep in Reading, Berkshire       readingsweep.co.uk   \n",
       "2  Chimney Sweep in Reading - Find a trade with C...          checkatrade.com   \n",
       "3          Adams Chimney Sweep in Reading, Berkshire            acsweep.co.uk   \n",
       "4     Chimney Sweeps in Reading | Get a Quote - Yell                 yell.com   \n",
       "5  Find a Chimney Sweep near me - UK directory of...  findachimneysweep.co.uk   \n",
       "\n",
       "   #        Mode              IP  URL Rating  Domain Rating  ...  \\\n",
       "0  1  subdomains  87.117.252.231         NaN           78.0  ...   \n",
       "1  2  subdomains   23.236.62.147         NaN           13.0  ...   \n",
       "2  3  subdomains             NaN         NaN           90.0  ...   \n",
       "3  4  subdomains   109.200.22.45         NaN           13.0  ...   \n",
       "4  5  subdomains  205.147.88.157         NaN           90.0  ...   \n",
       "5  6  subdomains   37.61.232.138         NaN           62.0  ...   \n",
       "\n",
       "   Backlinks Text  Backlinks NoFollow  Backlinks Redirect  Backlinks Image  \\\n",
       "0         1088271               13181                  19          1047677   \n",
       "1              18                  15                   0                0   \n",
       "2         1088673               33430                 239           862954   \n",
       "3              14                   4                   9                0   \n",
       "4         6443463             1822392               13181          2885084   \n",
       "5            4628                 590                   0             1960   \n",
       "\n",
       "   Backlinks Frame  Backlinks Form  Backlinks Governmental  \\\n",
       "0                4               0                     476   \n",
       "1                0               0                       0   \n",
       "2              538               1                     328   \n",
       "3                0               0                       0   \n",
       "4             3859           19816                    1121   \n",
       "5                2               0                       4   \n",
       "\n",
       "   Backlinks Educational  Total Keywords  Total Traffic  \n",
       "0                      8           11171          16781  \n",
       "1                      0              33             19  \n",
       "2                    269          117747         415511  \n",
       "3                      0              12             41  \n",
       "4                   1431         3453433        8245879  \n",
       "5                      0            1935           2441  \n",
       "\n",
       "[6 rows x 29 columns]"
      ]
     },
     "execution_count": 113,
     "metadata": {},
     "output_type": "execute_result"
    }
   ],
   "source": [
    "merged_df.head(6)"
   ]
  },
  {
   "cell_type": "markdown",
   "metadata": {},
   "source": [
    "------------------------------------------------------------------------------------------------------------------------------"
   ]
  },
  {
   "cell_type": "markdown",
   "metadata": {},
   "source": [
    "#### Let's change all of the domain rating nans (not a number to 0)"
   ]
  },
  {
   "cell_type": "code",
   "execution_count": 136,
   "metadata": {},
   "outputs": [],
   "source": [
    "merged_df['Domain Rating'].fillna(value = 0, inplace = True)"
   ]
  },
  {
   "cell_type": "code",
   "execution_count": 137,
   "metadata": {},
   "outputs": [
    {
     "name": "stdout",
     "output_type": "stream",
     "text": [
      "<class 'pandas.core.frame.DataFrame'>\n",
      "Int64Index: 3185 entries, 0 to 3184\n",
      "Data columns (total 29 columns):\n",
      "post_key                    3185 non-null object\n",
      "result_position             3185 non-null int64\n",
      "result_url                  3185 non-null object\n",
      "result_title                3185 non-null object\n",
      "Root_Domain                 3185 non-null object\n",
      "#                           3185 non-null int64\n",
      "Mode                        3185 non-null object\n",
      "IP                          2783 non-null object\n",
      "URL Rating                  0 non-null float64\n",
      "Domain Rating               3185 non-null float64\n",
      "Ahrefs Rank                 3183 non-null float64\n",
      "Domains                     3185 non-null int64\n",
      "Ref domains Dofollow        3185 non-null int64\n",
      "Ref domains Governmental    3185 non-null int64\n",
      "Ref domains Educational     3185 non-null int64\n",
      "Ref IPs                     3185 non-null int64\n",
      "Ref SubNets                 3185 non-null int64\n",
      "Linked Domains              3185 non-null int64\n",
      "Total Backlinks             3185 non-null int64\n",
      "Backlinks Text              3185 non-null int64\n",
      "Backlinks NoFollow          3185 non-null int64\n",
      "Backlinks Redirect          3185 non-null int64\n",
      "Backlinks Image             3185 non-null int64\n",
      "Backlinks Frame             3185 non-null int64\n",
      "Backlinks Form              3185 non-null int64\n",
      "Backlinks Governmental      3185 non-null int64\n",
      "Backlinks Educational       3185 non-null int64\n",
      "Total Keywords              3185 non-null int64\n",
      "Total Traffic               3185 non-null int64\n",
      "dtypes: float64(3), int64(20), object(6)\n",
      "memory usage: 746.5+ KB\n"
     ]
    }
   ],
   "source": [
    "merged_df.info()"
   ]
  },
  {
   "cell_type": "markdown",
   "metadata": {},
   "source": [
    "------------------------------------------------------------------------------------------------------------------------------------"
   ]
  },
  {
   "cell_type": "code",
   "execution_count": 142,
   "metadata": {},
   "outputs": [
    {
     "data": {
      "image/png": "[encoded data removed]",
      "text/plain": [
       "<Figure size 432x288 with 1 Axes>"
      ]
     },
     "metadata": {
      "needs_background": "light"
     },
     "output_type": "display_data"
    }
   ],
   "source": [
    "sns.distplot(merged_df['Domain Rating'])\n",
    "plt.show()"
   ]
  },
  {
   "cell_type": "markdown",
   "metadata": {},
   "source": [
    "------------------------------------------------------------------------------------------------------------------------------------"
   ]
  },
  {
   "cell_type": "code",
   "execution_count": 143,
   "metadata": {},
   "outputs": [
    {
     "data": {
      "image/png": "[encoded data removed]",
      "text/plain": [
       "<Figure size 432x288 with 1 Axes>"
      ]
     },
     "metadata": {
      "needs_background": "light"
     },
     "output_type": "display_data"
    }
   ],
   "source": [
    "sns.distplot(merged_df['Total Backlinks'])\n",
    "plt.show()"
   ]
  },
  {
   "cell_type": "markdown",
   "metadata": {},
   "source": [
    "------------------------------------------------------------------------------------------------------------------------------------"
   ]
  },
  {
   "cell_type": "code",
   "execution_count": 144,
   "metadata": {},
   "outputs": [
    {
     "data": {
      "image/png": "[encoded data removed]",
      "text/plain": [
       "<Figure size 432x288 with 1 Axes>"
      ]
     },
     "metadata": {
      "needs_background": "light"
     },
     "output_type": "display_data"
    }
   ],
   "source": [
    "sns.distplot(merged_df['Ref domains Dofollow'])\n",
    "plt.show()"
   ]
  },
  {
   "cell_type": "markdown",
   "metadata": {},
   "source": [
    "-----------------------------------------------------------------------------------------------------------------------"
   ]
  },
  {
   "cell_type": "code",
   "execution_count": 145,
   "metadata": {},
   "outputs": [
    {
     "data": {
      "text/html": [
       "<div>\n",
       "<style scoped>\n",
       "    .dataframe tbody tr th:only-of-type {\n",
       "        vertical-align: middle;\n",
       "    }\n",
       "\n",
       "    .dataframe tbody tr th {\n",
       "        vertical-align: top;\n",
       "    }\n",
       "\n",
       "    .dataframe thead th {\n",
       "        text-align: right;\n",
       "    }\n",
       "</style>\n",
       "<table border=\"1\" class=\"dataframe\">\n",
       "  <thead>\n",
       "    <tr style=\"text-align: right;\">\n",
       "      <th></th>\n",
       "      <th>result_position</th>\n",
       "      <th>#</th>\n",
       "      <th>URL Rating</th>\n",
       "      <th>Domain Rating</th>\n",
       "      <th>Ahrefs Rank</th>\n",
       "      <th>Domains</th>\n",
       "      <th>Ref domains Dofollow</th>\n",
       "      <th>Ref domains Governmental</th>\n",
       "      <th>Ref domains Educational</th>\n",
       "      <th>Ref IPs</th>\n",
       "      <th>...</th>\n",
       "      <th>Backlinks Text</th>\n",
       "      <th>Backlinks NoFollow</th>\n",
       "      <th>Backlinks Redirect</th>\n",
       "      <th>Backlinks Image</th>\n",
       "      <th>Backlinks Frame</th>\n",
       "      <th>Backlinks Form</th>\n",
       "      <th>Backlinks Governmental</th>\n",
       "      <th>Backlinks Educational</th>\n",
       "      <th>Total Keywords</th>\n",
       "      <th>Total Traffic</th>\n",
       "    </tr>\n",
       "  </thead>\n",
       "  <tbody>\n",
       "    <tr>\n",
       "      <td>count</td>\n",
       "      <td>3185.000000</td>\n",
       "      <td>3185.000000</td>\n",
       "      <td>0.0</td>\n",
       "      <td>3185.000000</td>\n",
       "      <td>3.183000e+03</td>\n",
       "      <td>3.185000e+03</td>\n",
       "      <td>3.185000e+03</td>\n",
       "      <td>3185.000000</td>\n",
       "      <td>3185.000000</td>\n",
       "      <td>3.185000e+03</td>\n",
       "      <td>...</td>\n",
       "      <td>3.185000e+03</td>\n",
       "      <td>3.185000e+03</td>\n",
       "      <td>3.185000e+03</td>\n",
       "      <td>3.185000e+03</td>\n",
       "      <td>3.185000e+03</td>\n",
       "      <td>3.185000e+03</td>\n",
       "      <td>3.185000e+03</td>\n",
       "      <td>3.185000e+03</td>\n",
       "      <td>3.185000e+03</td>\n",
       "      <td>3.185000e+03</td>\n",
       "    </tr>\n",
       "    <tr>\n",
       "      <td>mean</td>\n",
       "      <td>19.359812</td>\n",
       "      <td>100.033281</td>\n",
       "      <td>NaN</td>\n",
       "      <td>47.659341</td>\n",
       "      <td>5.933615e+06</td>\n",
       "      <td>4.554707e+04</td>\n",
       "      <td>3.511719e+04</td>\n",
       "      <td>51.821036</td>\n",
       "      <td>244.873469</td>\n",
       "      <td>1.870347e+04</td>\n",
       "      <td>...</td>\n",
       "      <td>7.266277e+07</td>\n",
       "      <td>9.481187e+06</td>\n",
       "      <td>1.610814e+06</td>\n",
       "      <td>1.630350e+07</td>\n",
       "      <td>5.618047e+06</td>\n",
       "      <td>8.458299e+06</td>\n",
       "      <td>8.898251e+05</td>\n",
       "      <td>1.637131e+06</td>\n",
       "      <td>1.058928e+06</td>\n",
       "      <td>4.713958e+06</td>\n",
       "    </tr>\n",
       "    <tr>\n",
       "      <td>std</td>\n",
       "      <td>9.827527</td>\n",
       "      <td>57.476203</td>\n",
       "      <td>NaN</td>\n",
       "      <td>26.515150</td>\n",
       "      <td>1.319312e+07</td>\n",
       "      <td>7.473772e+05</td>\n",
       "      <td>5.067861e+05</td>\n",
       "      <td>566.909571</td>\n",
       "      <td>1411.911997</td>\n",
       "      <td>1.302669e+05</td>\n",
       "      <td>...</td>\n",
       "      <td>1.351366e+09</td>\n",
       "      <td>1.816405e+08</td>\n",
       "      <td>4.110244e+07</td>\n",
       "      <td>3.572016e+08</td>\n",
       "      <td>2.344300e+08</td>\n",
       "      <td>1.147844e+08</td>\n",
       "      <td>2.198937e+07</td>\n",
       "      <td>3.362902e+07</td>\n",
       "      <td>2.853832e+07</td>\n",
       "      <td>1.675874e+08</td>\n",
       "    </tr>\n",
       "    <tr>\n",
       "      <td>min</td>\n",
       "      <td>1.000000</td>\n",
       "      <td>1.000000</td>\n",
       "      <td>NaN</td>\n",
       "      <td>0.000000</td>\n",
       "      <td>3.000000e+00</td>\n",
       "      <td>1.000000e+00</td>\n",
       "      <td>0.000000e+00</td>\n",
       "      <td>0.000000</td>\n",
       "      <td>0.000000</td>\n",
       "      <td>2.000000e+00</td>\n",
       "      <td>...</td>\n",
       "      <td>6.000000e+00</td>\n",
       "      <td>0.000000e+00</td>\n",
       "      <td>0.000000e+00</td>\n",
       "      <td>0.000000e+00</td>\n",
       "      <td>0.000000e+00</td>\n",
       "      <td>0.000000e+00</td>\n",
       "      <td>0.000000e+00</td>\n",
       "      <td>0.000000e+00</td>\n",
       "      <td>0.000000e+00</td>\n",
       "      <td>0.000000e+00</td>\n",
       "    </tr>\n",
       "    <tr>\n",
       "      <td>25%</td>\n",
       "      <td>11.000000</td>\n",
       "      <td>50.000000</td>\n",
       "      <td>NaN</td>\n",
       "      <td>27.000000</td>\n",
       "      <td>5.837000e+04</td>\n",
       "      <td>3.220000e+02</td>\n",
       "      <td>2.200000e+02</td>\n",
       "      <td>0.000000</td>\n",
       "      <td>0.000000</td>\n",
       "      <td>3.190000e+02</td>\n",
       "      <td>...</td>\n",
       "      <td>7.363000e+03</td>\n",
       "      <td>8.750000e+02</td>\n",
       "      <td>3.100000e+01</td>\n",
       "      <td>2.990000e+02</td>\n",
       "      <td>0.000000e+00</td>\n",
       "      <td>8.000000e+00</td>\n",
       "      <td>0.000000e+00</td>\n",
       "      <td>0.000000e+00</td>\n",
       "      <td>8.930000e+02</td>\n",
       "      <td>8.900000e+02</td>\n",
       "    </tr>\n",
       "    <tr>\n",
       "      <td>50%</td>\n",
       "      <td>20.000000</td>\n",
       "      <td>100.000000</td>\n",
       "      <td>NaN</td>\n",
       "      <td>50.000000</td>\n",
       "      <td>6.690560e+05</td>\n",
       "      <td>1.359000e+03</td>\n",
       "      <td>1.019000e+03</td>\n",
       "      <td>2.000000</td>\n",
       "      <td>6.000000</td>\n",
       "      <td>1.365000e+03</td>\n",
       "      <td>...</td>\n",
       "      <td>9.212400e+04</td>\n",
       "      <td>6.751000e+03</td>\n",
       "      <td>5.730000e+02</td>\n",
       "      <td>7.670000e+03</td>\n",
       "      <td>0.000000e+00</td>\n",
       "      <td>2.346000e+03</td>\n",
       "      <td>4.100000e+01</td>\n",
       "      <td>3.900000e+01</td>\n",
       "      <td>6.855000e+03</td>\n",
       "      <td>9.230000e+03</td>\n",
       "    </tr>\n",
       "    <tr>\n",
       "      <td>75%</td>\n",
       "      <td>28.000000</td>\n",
       "      <td>150.000000</td>\n",
       "      <td>NaN</td>\n",
       "      <td>72.000000</td>\n",
       "      <td>4.993699e+06</td>\n",
       "      <td>6.727000e+03</td>\n",
       "      <td>5.099000e+03</td>\n",
       "      <td>12.000000</td>\n",
       "      <td>55.000000</td>\n",
       "      <td>6.327000e+03</td>\n",
       "      <td>...</td>\n",
       "      <td>1.506098e+06</td>\n",
       "      <td>8.363800e+04</td>\n",
       "      <td>1.334600e+04</td>\n",
       "      <td>1.619780e+05</td>\n",
       "      <td>0.000000e+00</td>\n",
       "      <td>1.183810e+05</td>\n",
       "      <td>1.785000e+03</td>\n",
       "      <td>1.726000e+03</td>\n",
       "      <td>5.670900e+04</td>\n",
       "      <td>1.000360e+05</td>\n",
       "    </tr>\n",
       "    <tr>\n",
       "      <td>max</td>\n",
       "      <td>35.000000</td>\n",
       "      <td>200.000000</td>\n",
       "      <td>NaN</td>\n",
       "      <td>98.000000</td>\n",
       "      <td>1.516290e+08</td>\n",
       "      <td>3.231982e+07</td>\n",
       "      <td>2.078345e+07</td>\n",
       "      <td>20774.000000</td>\n",
       "      <td>42624.000000</td>\n",
       "      <td>5.259907e+06</td>\n",
       "      <td>...</td>\n",
       "      <td>5.324932e+10</td>\n",
       "      <td>6.709348e+09</td>\n",
       "      <td>1.669892e+09</td>\n",
       "      <td>1.436056e+10</td>\n",
       "      <td>1.223595e+10</td>\n",
       "      <td>5.518798e+09</td>\n",
       "      <td>8.722143e+08</td>\n",
       "      <td>1.149357e+09</td>\n",
       "      <td>1.584652e+09</td>\n",
       "      <td>9.397271e+09</td>\n",
       "    </tr>\n",
       "  </tbody>\n",
       "</table>\n",
       "<p>8 rows × 23 columns</p>\n",
       "</div>"
      ],
      "text/plain": [
       "       result_position            #  URL Rating  Domain Rating   Ahrefs Rank  \\\n",
       "count      3185.000000  3185.000000         0.0    3185.000000  3.183000e+03   \n",
       "mean         19.359812   100.033281         NaN      47.659341  5.933615e+06   \n",
       "std           9.827527    57.476203         NaN      26.515150  1.319312e+07   \n",
       "min           1.000000     1.000000         NaN       0.000000  3.000000e+00   \n",
       "25%          11.000000    50.000000         NaN      27.000000  5.837000e+04   \n",
       "50%          20.000000   100.000000         NaN      50.000000  6.690560e+05   \n",
       "75%          28.000000   150.000000         NaN      72.000000  4.993699e+06   \n",
       "max          35.000000   200.000000         NaN      98.000000  1.516290e+08   \n",
       "\n",
       "            Domains  Ref domains Dofollow  Ref domains Governmental  \\\n",
       "count  3.185000e+03          3.185000e+03               3185.000000   \n",
       "mean   4.554707e+04          3.511719e+04                 51.821036   \n",
       "std    7.473772e+05          5.067861e+05                566.909571   \n",
       "min    1.000000e+00          0.000000e+00                  0.000000   \n",
       "25%    3.220000e+02          2.200000e+02                  0.000000   \n",
       "50%    1.359000e+03          1.019000e+03                  2.000000   \n",
       "75%    6.727000e+03          5.099000e+03                 12.000000   \n",
       "max    3.231982e+07          2.078345e+07              20774.000000   \n",
       "\n",
       "       Ref domains Educational       Ref IPs  ...  Backlinks Text  \\\n",
       "count              3185.000000  3.185000e+03  ...    3.185000e+03   \n",
       "mean                244.873469  1.870347e+04  ...    7.266277e+07   \n",
       "std                1411.911997  1.302669e+05  ...    1.351366e+09   \n",
       "min                   0.000000  2.000000e+00  ...    6.000000e+00   \n",
       "25%                   0.000000  3.190000e+02  ...    7.363000e+03   \n",
       "50%                   6.000000  1.365000e+03  ...    9.212400e+04   \n",
       "75%                  55.000000  6.327000e+03  ...    1.506098e+06   \n",
       "max               42624.000000  5.259907e+06  ...    5.324932e+10   \n",
       "\n",
       "       Backlinks NoFollow  Backlinks Redirect  Backlinks Image  \\\n",
       "count        3.185000e+03        3.185000e+03     3.185000e+03   \n",
       "mean         9.481187e+06        1.610814e+06     1.630350e+07   \n",
       "std          1.816405e+08        4.110244e+07     3.572016e+08   \n",
       "min          0.000000e+00        0.000000e+00     0.000000e+00   \n",
       "25%          8.750000e+02        3.100000e+01     2.990000e+02   \n",
       "50%          6.751000e+03        5.730000e+02     7.670000e+03   \n",
       "75%          8.363800e+04        1.334600e+04     1.619780e+05   \n",
       "max          6.709348e+09        1.669892e+09     1.436056e+10   \n",
       "\n",
       "       Backlinks Frame  Backlinks Form  Backlinks Governmental  \\\n",
       "count     3.185000e+03    3.185000e+03            3.185000e+03   \n",
       "mean      5.618047e+06    8.458299e+06            8.898251e+05   \n",
       "std       2.344300e+08    1.147844e+08            2.198937e+07   \n",
       "min       0.000000e+00    0.000000e+00            0.000000e+00   \n",
       "25%       0.000000e+00    8.000000e+00            0.000000e+00   \n",
       "50%       0.000000e+00    2.346000e+03            4.100000e+01   \n",
       "75%       0.000000e+00    1.183810e+05            1.785000e+03   \n",
       "max       1.223595e+10    5.518798e+09            8.722143e+08   \n",
       "\n",
       "       Backlinks Educational  Total Keywords  Total Traffic  \n",
       "count           3.185000e+03    3.185000e+03   3.185000e+03  \n",
       "mean            1.637131e+06    1.058928e+06   4.713958e+06  \n",
       "std             3.362902e+07    2.853832e+07   1.675874e+08  \n",
       "min             0.000000e+00    0.000000e+00   0.000000e+00  \n",
       "25%             0.000000e+00    8.930000e+02   8.900000e+02  \n",
       "50%             3.900000e+01    6.855000e+03   9.230000e+03  \n",
       "75%             1.726000e+03    5.670900e+04   1.000360e+05  \n",
       "max             1.149357e+09    1.584652e+09   9.397271e+09  \n",
       "\n",
       "[8 rows x 23 columns]"
      ]
     },
     "execution_count": 145,
     "metadata": {},
     "output_type": "execute_result"
    }
   ],
   "source": [
    "merged_df.describe()"
   ]
  },
  {
   "cell_type": "markdown",
   "metadata": {},
   "source": [
    "-----------------------------------------------------------------------------------------------------------------------"
   ]
  },
  {
   "cell_type": "markdown",
   "metadata": {},
   "source": [
    "From looking at the .describe() method we can see that the lowest 25% of our dataset has a DR rating of 27 or lower. As I will be running every domain for a Python selenium browser I'm happy to choose ~750 domains for prospecting."
   ]
  },
  {
   "cell_type": "code",
   "execution_count": 150,
   "metadata": {},
   "outputs": [],
   "source": [
    "business_data = merged_df[merged_df['Domain Rating'] < 27]"
   ]
  },
  {
   "cell_type": "code",
   "execution_count": 153,
   "metadata": {},
   "outputs": [
    {
     "name": "stderr",
     "output_type": "stream",
     "text": [
      "/Users/jamesphoenix/opt/anaconda3/lib/python3.7/site-packages/ipykernel_launcher.py:1: SettingWithCopyWarning: \n",
      "A value is trying to be set on a copy of a slice from a DataFrame\n",
      "\n",
      "See the caveats in the documentation: http://pandas.pydata.org/pandas-docs/stable/user_guide/indexing.html#returning-a-view-versus-a-copy\n",
      "  \"\"\"Entry point for launching an IPython kernel.\n"
     ]
    }
   ],
   "source": [
    "business_data.drop_duplicates(subset='Root_Domain', inplace = True)"
   ]
  },
  {
   "cell_type": "markdown",
   "metadata": {},
   "source": [
    "#### We will also remove any .gov extensions"
   ]
  },
  {
   "cell_type": "code",
   "execution_count": 166,
   "metadata": {},
   "outputs": [
    {
     "data": {
      "text/plain": [
       "1                   readingsweep.co.uk\n",
       "3                        acsweep.co.uk\n",
       "6       lockchimneysweepsreading.co.uk\n",
       "15                                 NaN\n",
       "16                 jamesthesweep.co.uk\n",
       "                     ...              \n",
       "3157            thebigplantnursery.com\n",
       "3161                   conkersgc.co.uk\n",
       "3167       haddenhamgardencentre.co.uk\n",
       "3173            thompsons-plants.co.uk\n",
       "3181                forest-lodge.co.uk\n",
       "Name: Root_Domain, Length: 715, dtype: object"
      ]
     },
     "execution_count": 166,
     "metadata": {},
     "output_type": "execute_result"
    }
   ],
   "source": [
    "business_data['Root_Domain'] = business_data['Root_Domain'].apply(lambda x: np.nan if \".gov.\" in x else x)"
   ]
  },
  {
   "cell_type": "markdown",
   "metadata": {},
   "source": [
    "#### As we'll be querying google with every single domain we'lll extract the brand name from the Root Domain"
   ]
  },
  {
   "cell_type": "code",
   "execution_count": 169,
   "metadata": {},
   "outputs": [],
   "source": [
    "query_list = list(business_data['Root_Domain'].apply(lambda x: x.split('.')[0]))"
   ]
  },
  {
   "cell_type": "code",
   "execution_count": 171,
   "metadata": {},
   "outputs": [
    {
     "data": {
      "text/plain": [
       "715"
      ]
     },
     "execution_count": 171,
     "metadata": {},
     "output_type": "execute_result"
    }
   ],
   "source": [
    "len(query_list)"
   ]
  },
  {
   "cell_type": "code",
   "execution_count": null,
   "metadata": {},
   "outputs": [],
   "source": [
    "query_and_root_domain_data = list(zip(list(business_data['Root_Domain']),query_list ))\n",
    "pickle.dump(query_and_root_domain_data, open('query_data_for_prospector.pkl', 'wb'))"
   ]
  },
  {
   "cell_type": "markdown",
   "metadata": {},
   "source": [
    "We have finally reached the query level, now we can simply place every query into the GMB prospector that I made previously, you can find it here:\n",
    "    \n",
    "- https://github.com/jamesaphoenix/Google_My_Business_Python_Prospector\n",
    "\n",
    "Here are the results! Happy Prospecting :) "
   ]
  },
  {
   "cell_type": "markdown",
   "metadata": {},
   "source": [
    "# The End Result After Running A GMB Prospector On Every Domain"
   ]
  },
  {
   "cell_type": "markdown",
   "metadata": {},
   "source": [
    "I also decided to modify the existing script and added <strong> GMB review score, review_count and phone number to help with the prospecting aspect. </strong>"
   ]
  },
  {
   "cell_type": "markdown",
   "metadata": {},
   "source": [
    "<img src='scraping_data.png' />"
   ]
  }
 ],
 "metadata": {
  "kernelspec": {
   "display_name": "Python 3",
   "language": "python",
   "name": "python3"
  },
  "language_info": {
   "codemirror_mode": {
    "name": "ipython",
    "version": 3
   },
   "file_extension": ".py",
   "mimetype": "text/x-python",
   "name": "python",
   "nbconvert_exporter": "python",
   "pygments_lexer": "ipython3",
   "version": "3.7.4"
  }
 },
 "nbformat": 4,
 "nbformat_minor": 2
}

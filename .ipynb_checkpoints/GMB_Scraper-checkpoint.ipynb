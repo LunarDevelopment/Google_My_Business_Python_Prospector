{
 "cells": [
  {
   "cell_type": "markdown",
   "metadata": {},
   "source": [
    "### Good Guides ###\n",
    "- https://stackoverflow.com/questions/46361494/how-to-get-the-localstorage-with-python-and-selenium-webdriver\n",
    "- https://www.w3schools.com/python/python_datetime.asp\n",
    "- https://stackoverflow.com/questions/4196971/how-to-get-the-html-tag-html-with-javascript-jquery\n",
    "- https://stackoverflow.com/questions/34562095/scrollintoview-vs-movetoelement\n",
    "- https://stackoverflow.com/questions/41744368/scrolling-to-element-using-webdriver\n",
    "- https://selenium-python.readthedocs.io/locating-elements.html\n",
    "- https://www.crummy.com/software/BeautifulSoup/bs4/doc/"
   ]
  },
  {
   "cell_type": "markdown",
   "metadata": {},
   "source": [
    "### Inspiration For Future Features "
   ]
  },
  {
   "cell_type": "markdown",
   "metadata": {},
   "source": [
    "- https://github.com/socialbotspy/LinkedinPy\n",
    "- https://github.com/ZiaUrR3hman/LinkedSocialToolkit\n",
    "- https://github.com/manjurulhoque/python-linkedin-bot/blob/master/main.py      "
   ]
  },
  {
   "cell_type": "code",
   "execution_count": 88,
   "metadata": {},
   "outputs": [],
   "source": [
    "#Module Dependencies\n",
    "import time\n",
    "from time import sleep\n",
    "import datetime\n",
    "import selenium\n",
    "import urllib\n",
    "import re\n",
    "from bs4 import BeautifulSoup\n",
    "from random import randint\n",
    "from random import uniform\n",
    "\n",
    "#Import Selenium Dependencies\n",
    "from selenium import webdriver\n",
    "from selenium.webdriver.common.keys import Keys\n",
    "from selenium.webdriver.common.action_chains import ActionChains\n",
    "from selenium.common.exceptions import TimeoutException\n",
    "from selenium.webdriver.support.ui import WebDriverWait\n",
    "from selenium.webdriver.support import expected_conditions as EC\n",
    "from selenium.webdriver.chrome.options import Options\n",
    "from selenium.webdriver.common.by import By\n",
    "\n",
    "import os, sys\n",
    "import pickle\n",
    "import json\n",
    "\n",
    "from collections import defaultdict\n",
    "\n",
    "import pandas as pd\n",
    "import csv"
   ]
  },
  {
   "cell_type": "markdown",
   "metadata": {},
   "source": [
    "# 1. Let's get the data set that we need to scrape"
   ]
  },
  {
   "cell_type": "code",
   "execution_count": 8,
   "metadata": {},
   "outputs": [],
   "source": [
    "df = pd.read_csv('website_data.csv')"
   ]
  },
  {
   "cell_type": "code",
   "execution_count": 9,
   "metadata": {},
   "outputs": [
    {
     "data": {
      "text/html": [
       "<div>\n",
       "<style scoped>\n",
       "    .dataframe tbody tr th:only-of-type {\n",
       "        vertical-align: middle;\n",
       "    }\n",
       "\n",
       "    .dataframe tbody tr th {\n",
       "        vertical-align: top;\n",
       "    }\n",
       "\n",
       "    .dataframe thead th {\n",
       "        text-align: right;\n",
       "    }\n",
       "</style>\n",
       "<table border=\"1\" class=\"dataframe\">\n",
       "  <thead>\n",
       "    <tr style=\"text-align: right;\">\n",
       "      <th></th>\n",
       "      <th>Site</th>\n",
       "      <th>Domain Rating</th>\n",
       "      <th>Total Backlinks</th>\n",
       "      <th>Total Keywords</th>\n",
       "      <th>Total Traffic</th>\n",
       "    </tr>\n",
       "  </thead>\n",
       "  <tbody>\n",
       "    <tr>\n",
       "      <th>0</th>\n",
       "      <td>ferryads.com</td>\n",
       "      <td>1.0</td>\n",
       "      <td>44</td>\n",
       "      <td>0</td>\n",
       "      <td>0</td>\n",
       "    </tr>\n",
       "    <tr>\n",
       "      <th>1</th>\n",
       "      <td>gotlice.nyc</td>\n",
       "      <td>0.0</td>\n",
       "      <td>2</td>\n",
       "      <td>0</td>\n",
       "      <td>0</td>\n",
       "    </tr>\n",
       "    <tr>\n",
       "      <th>2</th>\n",
       "      <td>gradoassociates.com</td>\n",
       "      <td>0.0</td>\n",
       "      <td>5</td>\n",
       "      <td>0</td>\n",
       "      <td>0</td>\n",
       "    </tr>\n",
       "    <tr>\n",
       "      <th>3</th>\n",
       "      <td>kemenycpa.com</td>\n",
       "      <td>0.0</td>\n",
       "      <td>5</td>\n",
       "      <td>0</td>\n",
       "      <td>0</td>\n",
       "    </tr>\n",
       "    <tr>\n",
       "      <th>4</th>\n",
       "      <td>rainbowcct.com</td>\n",
       "      <td>0.0</td>\n",
       "      <td>10</td>\n",
       "      <td>0</td>\n",
       "      <td>0</td>\n",
       "    </tr>\n",
       "    <tr>\n",
       "      <th>5</th>\n",
       "      <td>selectpop.com</td>\n",
       "      <td>0.0</td>\n",
       "      <td>12</td>\n",
       "      <td>0</td>\n",
       "      <td>0</td>\n",
       "    </tr>\n",
       "    <tr>\n",
       "      <th>6</th>\n",
       "      <td>framboisecatering.com#home</td>\n",
       "      <td>NaN</td>\n",
       "      <td>0</td>\n",
       "      <td>0</td>\n",
       "      <td>0</td>\n",
       "    </tr>\n",
       "    <tr>\n",
       "      <th>7</th>\n",
       "      <td>lionsprideleadership.com</td>\n",
       "      <td>8.0</td>\n",
       "      <td>55</td>\n",
       "      <td>1</td>\n",
       "      <td>0</td>\n",
       "    </tr>\n",
       "    <tr>\n",
       "      <th>8</th>\n",
       "      <td>prcision.com</td>\n",
       "      <td>7.0</td>\n",
       "      <td>170</td>\n",
       "      <td>1</td>\n",
       "      <td>0</td>\n",
       "    </tr>\n",
       "    <tr>\n",
       "      <th>9</th>\n",
       "      <td>postbot.us</td>\n",
       "      <td>6.0</td>\n",
       "      <td>113</td>\n",
       "      <td>1</td>\n",
       "      <td>0</td>\n",
       "    </tr>\n",
       "    <tr>\n",
       "      <th>10</th>\n",
       "      <td>gigispecialtypharmacy.com</td>\n",
       "      <td>1.0</td>\n",
       "      <td>7</td>\n",
       "      <td>1</td>\n",
       "      <td>0</td>\n",
       "    </tr>\n",
       "    <tr>\n",
       "      <th>11</th>\n",
       "      <td>milano4you.com</td>\n",
       "      <td>0.0</td>\n",
       "      <td>10</td>\n",
       "      <td>1</td>\n",
       "      <td>0</td>\n",
       "    </tr>\n",
       "    <tr>\n",
       "      <th>12</th>\n",
       "      <td>siuh.edu</td>\n",
       "      <td>46.0</td>\n",
       "      <td>4629</td>\n",
       "      <td>2</td>\n",
       "      <td>16</td>\n",
       "    </tr>\n",
       "    <tr>\n",
       "      <th>13</th>\n",
       "      <td>shemediany.com</td>\n",
       "      <td>0.0</td>\n",
       "      <td>5</td>\n",
       "      <td>2</td>\n",
       "      <td>1</td>\n",
       "    </tr>\n",
       "    <tr>\n",
       "      <th>14</th>\n",
       "      <td>oecny.com</td>\n",
       "      <td>0.0</td>\n",
       "      <td>54</td>\n",
       "      <td>2</td>\n",
       "      <td>0</td>\n",
       "    </tr>\n",
       "  </tbody>\n",
       "</table>\n",
       "</div>"
      ],
      "text/plain": [
       "                          Site  Domain Rating  Total Backlinks  \\\n",
       "0                 ferryads.com            1.0               44   \n",
       "1                  gotlice.nyc            0.0                2   \n",
       "2          gradoassociates.com            0.0                5   \n",
       "3                kemenycpa.com            0.0                5   \n",
       "4               rainbowcct.com            0.0               10   \n",
       "5                selectpop.com            0.0               12   \n",
       "6   framboisecatering.com#home            NaN                0   \n",
       "7     lionsprideleadership.com            8.0               55   \n",
       "8                 prcision.com            7.0              170   \n",
       "9                   postbot.us            6.0              113   \n",
       "10   gigispecialtypharmacy.com            1.0                7   \n",
       "11              milano4you.com            0.0               10   \n",
       "12                    siuh.edu           46.0             4629   \n",
       "13              shemediany.com            0.0                5   \n",
       "14                   oecny.com            0.0               54   \n",
       "\n",
       "    Total Keywords  Total Traffic  \n",
       "0                0              0  \n",
       "1                0              0  \n",
       "2                0              0  \n",
       "3                0              0  \n",
       "4                0              0  \n",
       "5                0              0  \n",
       "6                0              0  \n",
       "7                1              0  \n",
       "8                1              0  \n",
       "9                1              0  \n",
       "10               1              0  \n",
       "11               1              0  \n",
       "12               2             16  \n",
       "13               2              1  \n",
       "14               2              0  "
      ]
     },
     "execution_count": 9,
     "metadata": {},
     "output_type": "execute_result"
    }
   ],
   "source": [
    "df.head(15)"
   ]
  },
  {
   "cell_type": "markdown",
   "metadata": {},
   "source": [
    "------------------------------------------------------------------------------------------------------------------------"
   ]
  },
  {
   "cell_type": "markdown",
   "metadata": {},
   "source": [
    "# 2. Let's study a Google Search Query so that we can understand how to structure our target URL:"
   ]
  },
  {
   "cell_type": "code",
   "execution_count": 16,
   "metadata": {},
   "outputs": [],
   "source": [
    "single_keyword_url = 'https://www.google.com/search?q=vidioh&oq=vidioh+&aqs=chrome..69i57j69i60j69i61l2j69i60l2.3654j0j1&sourceid=chrome&ie=UTF-8'"
   ]
  },
  {
   "cell_type": "code",
   "execution_count": 13,
   "metadata": {},
   "outputs": [],
   "source": [
    "single_word_query = 'https://www.google.com/search?q={0}&oq={1}+&aqs=chrome..69i57j69i60j69i61l2j69i60l2.3654j0j1&sourceid=chrome&ie=UTF-8'.format('vidioh', 'vidioh')"
   ]
  },
  {
   "cell_type": "markdown",
   "metadata": {},
   "source": [
    "------------------------------------------------------------------------------------------------------------------------"
   ]
  },
  {
   "cell_type": "code",
   "execution_count": 17,
   "metadata": {},
   "outputs": [],
   "source": [
    "multiple_keyword_url = 'https://www.google.com/search?q=video+brochures&oq=video+brochures&aqs=chrome..69i57j69i60j69i61.1545j0j1&sourceid=chrome&ie=UTF-8'"
   ]
  },
  {
   "cell_type": "code",
   "execution_count": 19,
   "metadata": {},
   "outputs": [],
   "source": [
    "multiple_word_query = 'https://www.google.com/search?q={0}&oq={1}&aqs=chrome..69i57j69i60j69i61.1545j0j1&sourceid=chrome&ie=UTF-8'.format('video+brochures', 'video+videobrochures')"
   ]
  },
  {
   "cell_type": "markdown",
   "metadata": {},
   "source": [
    "------------------------------------------------------------------------------------------------------------------------"
   ]
  },
  {
   "cell_type": "markdown",
   "metadata": {},
   "source": [
    "# 3. Identify a GMB knowledge panel div "
   ]
  },
  {
   "cell_type": "markdown",
   "metadata": {},
   "source": [
    "If there is a div with the class = knowledge-panel on the web page then we can assume that the business brand query is triggered by showcasing a Google My Business page. Therefore we can use this to help with our digital marketing prospecting for local businesses that have yet to invest within a Google My Business page."
   ]
  },
  {
   "cell_type": "markdown",
   "metadata": {},
   "source": [
    "------------------------------------------------------------------------------------------------------------------------"
   ]
  },
  {
   "cell_type": "markdown",
   "metadata": {},
   "source": [
    "# 4. Extract specific queries for every brand"
   ]
  },
  {
   "cell_type": "markdown",
   "metadata": {},
   "source": [
    "Now we will remove all of the website extensions such as .org, .co.uk or .com by simply looking for the first mention of the character: . Now we have some brand names that can be used inside of a custom google search with Selenium!"
   ]
  },
  {
   "cell_type": "code",
   "execution_count": 47,
   "metadata": {},
   "outputs": [],
   "source": [
    "# df['Queries'] = df['Site'].apply(lambda x: x[0 : x.find('.')])\n",
    "# df = pd.DataFrame(query_list, columns=['Queries'])"
   ]
  },
  {
   "cell_type": "code",
   "execution_count": 15,
   "metadata": {},
   "outputs": [],
   "source": [
    "df = pd.DataFrame(pickle.load(open('query_data_for_prospector.pkl', 'rb')), columns = ['URL', 'Queries'])"
   ]
  },
  {
   "cell_type": "markdown",
   "metadata": {},
   "source": [
    "# 5. Scrape Google Search Engine Results Page with A BIG TIMER"
   ]
  },
  {
   "cell_type": "markdown",
   "metadata": {},
   "source": [
    "#1. Collect review data if there is any. \n",
    "- How mny reveiws\n",
    "- How many stars\n",
    "\n"
   ]
  },
  {
   "cell_type": "code",
   "execution_count": 68,
   "metadata": {},
   "outputs": [],
   "source": [
    "driver = webdriver.Chrome(executable_path='chromedrivers/chromedriver')"
   ]
  },
  {
   "cell_type": "code",
   "execution_count": 68,
   "metadata": {},
   "outputs": [],
   "source": [
    "#urls = ['ferryads' , 'matthewfuneralhome'] <-- I built the method to work on two search queries before moving to the entire 300+ list."
   ]
  },
  {
   "cell_type": "code",
   "execution_count": 71,
   "metadata": {},
   "outputs": [],
   "source": [
    "knowledge_panel_results = []\n",
    "\n",
    "query_string = 'https://www.google.co.uk/search?source=hp&ei=_aegXcHTIsOVsAfNpLf4Bg&q={}&oq={}&gs_l=psy-ab.3..0i131j0l3j0i131j0l3j0i131j0.302585.302825..302898...0.0..0.46.172.4......0....1..gws-wiz.....0.GfS7vSMN0Qs&ved=0ahUKEwiBxtPaypTlAhXDCuwKHU3SDW8Q4dUDCAg&uact=5'\n",
    "\n",
    "for url in list(df['Queries']):\n",
    "    query = query_string.format(url, url)\n",
    "    driver.get(query)\n",
    "    \n",
    "    try: \n",
    "        element = WebDriverWait(driver, 10).until(\n",
    "        EC.presence_of_element_located((By.CLASS_NAME, \"knowledge-panel\"))\n",
    "            )\n",
    "\n",
    "        knowledge_panel_results.append('True')\n",
    "\n",
    "\n",
    "    except:\n",
    "        knowledge_panel_results.append('False')\n",
    "        \n",
    "    sleep(randint(10,29))   "
   ]
  },
  {
   "cell_type": "code",
   "execution_count": null,
   "metadata": {},
   "outputs": [],
   "source": [
    "df.to_csv('results.csv')"
   ]
  },
  {
   "cell_type": "code",
   "execution_count": 72,
   "metadata": {},
   "outputs": [
    {
     "data": {
      "text/plain": [
       "362"
      ]
     },
     "execution_count": 72,
     "metadata": {},
     "output_type": "execute_result"
    }
   ],
   "source": [
    "len(knowledge_panel_results)"
   ]
  },
  {
   "cell_type": "markdown",
   "metadata": {},
   "source": [
    "## This is a slightly more complicated script that also collects phone numbers, and review metrics for the business."
   ]
  },
  {
   "cell_type": "code",
   "execution_count": 112,
   "metadata": {},
   "outputs": [
    {
     "name": "stdout",
     "output_type": "stream",
     "text": [
      "/Users/jamesphoenix/Desktop/Coding_Projects/4_Google_My_Business_Python_Prospector\r\n"
     ]
    }
   ],
   "source": [
    "!pwd"
   ]
  },
  {
   "cell_type": "code",
   "execution_count": 139,
   "metadata": {},
   "outputs": [
    {
     "data": {
      "text/plain": [
       "[['False'], [0], [0], ['No Phone Number']]"
      ]
     },
     "execution_count": 139,
     "metadata": {},
     "output_type": "execute_result"
    }
   ],
   "source": [
    "temp_list"
   ]
  },
  {
   "cell_type": "code",
   "execution_count": 158,
   "metadata": {},
   "outputs": [],
   "source": [
    "def csv_saver(data):\n",
    "    temp_list = []\n",
    "    keys_to_avoid = ['website_url', 'keyword']\n",
    "\n",
    "    with open('data_for_liam.csv', 'a', newline='') as csvfile:\n",
    "        csv_writer = csv.writer(csvfile, delimiter=' ')\n",
    "\n",
    "        for keys, values in data.items():\n",
    "            if keys not in keys_to_avoid:\n",
    "                temp_list.append(values)\n",
    "            else:\n",
    "                pass\n",
    "            \n",
    "        temp_list = [element for elements in temp_list for element in elements]\n",
    "        \n",
    "        temp_list.insert(0, data['keyword'][0])\n",
    "        temp_list.insert(0, data['website_url'][0])\n",
    "        \n",
    "        csv_writer.writerow(temp_list)"
   ]
  },
  {
   "cell_type": "code",
   "execution_count": 161,
   "metadata": {},
   "outputs": [],
   "source": [
    "query_string = 'https://www.google.co.uk/search?source=hp&ei=_aegXcHTIsOVsAfNpLf4Bg&q={}&oq={}&gs_l=psy-ab.3..0i131j0l3j0i131j0l3j0i131j0.302585.302825..302898...0.0..0.46.172.4......0....1..gws-wiz.....0.GfS7vSMN0Qs&ved=0ahUKEwiBxtPaypTlAhXDCuwKHU3SDW8Q4dUDCAg&uact=5'\n",
    "\n",
    "for url, query_data in list(zip(list(df['Queries']), df.values)):\n",
    "    \n",
    "    data_dict = {\n",
    "    'website_url': [],   \n",
    "    'keyword': [],\n",
    "    'knowledge_panel_boolean': [],\n",
    "    'review_score': [],\n",
    "    'review_count': [],\n",
    "    'phone_number': []\n",
    "}\n",
    "    \n",
    "    query = query_string.format(url, url)\n",
    "    driver.get(query)\n",
    "    \n",
    "    data_dict['website_url'].append(query_data[0])\n",
    "    data_dict['keyword'].append(query_data[1])\n",
    "    \n",
    "    \n",
    "    sleep(randint(3,4))\n",
    "    soup = BeautifulSoup(driver.page_source, 'html.parser')\n",
    "\n",
    "    try: \n",
    "        element = WebDriverWait(driver, 10).until(\n",
    "        EC.presence_of_element_located((By.CLASS_NAME, \"knowledge-panel\"))\n",
    "            )\n",
    "\n",
    "        # Obtaining the review score from 0.0 - 5.0\n",
    "        review_score = soup.select('span.fTKmHE99XE4__star-s')[0].attrs['aria-label']\n",
    "        review_score = float(re.findall('\\d.\\d', review_score)[0])\n",
    "\n",
    "        # Getting the review count \n",
    "        review_count = float(re.findall('\\d',soup.select('span.hqzQac > span > a > span')[0].getText())[0])\n",
    "\n",
    "        data_dict['knowledge_panel_boolean'].append('True')\n",
    "        data_dict['review_score'].append(review_score)\n",
    "        data_dict['review_count'].append(review_count)\n",
    "\n",
    "        # Trying to get the phone number\n",
    "        try:\n",
    "            phone_number = soup.select('span.LrzXr.zdqRlf.kno-fv > span > span')[0].getText().replace(' ', '')\n",
    "        except:\n",
    "            phone_number = 'No Phone Number'\n",
    "\n",
    "        data_dict['phone_number'].append(phone_number)\n",
    "\n",
    "    except:\n",
    "        data_dict['knowledge_panel_boolean'].append('False')\n",
    "        data_dict['review_score'].append(0)\n",
    "        data_dict['review_count'].append(0)\n",
    "        data_dict['phone_number'].append('No Phone Number')\n",
    "        \n",
    "    # Write the output to a CSV file via a function, it's set to append mode so the writer object will only keep appending.\n",
    "    csv_saver(data_dict)"
   ]
  },
  {
   "cell_type": "code",
   "execution_count": 162,
   "metadata": {},
   "outputs": [
    {
     "data": {
      "text/plain": [
       "256"
      ]
     },
     "execution_count": 162,
     "metadata": {},
     "output_type": "execute_result"
    }
   ],
   "source": [
    "import os\n",
    "os.system(\"shutdown -h now\")"
   ]
  },
  {
   "cell_type": "code",
   "execution_count": 164,
   "metadata": {},
   "outputs": [
    {
     "data": {
      "text/html": [
       "<div>\n",
       "<style scoped>\n",
       "    .dataframe tbody tr th:only-of-type {\n",
       "        vertical-align: middle;\n",
       "    }\n",
       "\n",
       "    .dataframe tbody tr th {\n",
       "        vertical-align: top;\n",
       "    }\n",
       "\n",
       "    .dataframe thead th {\n",
       "        text-align: right;\n",
       "    }\n",
       "</style>\n",
       "<table border=\"1\" class=\"dataframe\">\n",
       "  <thead>\n",
       "    <tr style=\"text-align: right;\">\n",
       "      <th></th>\n",
       "      <th>website_url</th>\n",
       "      <th>keyword</th>\n",
       "      <th>knowledge_panel_boolean</th>\n",
       "      <th>review_score</th>\n",
       "      <th>review_count</th>\n",
       "      <th>phone_number</th>\n",
       "    </tr>\n",
       "  </thead>\n",
       "  <tbody>\n",
       "    <tr>\n",
       "      <td>0</td>\n",
       "      <td>readingsweep.co.uk</td>\n",
       "      <td>readingsweep</td>\n",
       "      <td>True</td>\n",
       "      <td>4.5</td>\n",
       "      <td>8.0</td>\n",
       "      <td>01189670288</td>\n",
       "    </tr>\n",
       "    <tr>\n",
       "      <td>1</td>\n",
       "      <td>acsweep.co.uk</td>\n",
       "      <td>acsweep</td>\n",
       "      <td>True</td>\n",
       "      <td>5.0</td>\n",
       "      <td>2.0</td>\n",
       "      <td>07909044794</td>\n",
       "    </tr>\n",
       "    <tr>\n",
       "      <td>2</td>\n",
       "      <td>lockchimneysweepsreading.co.uk</td>\n",
       "      <td>lockchimneysweepsreading</td>\n",
       "      <td>True</td>\n",
       "      <td>3.9</td>\n",
       "      <td>7.0</td>\n",
       "      <td>01189429138</td>\n",
       "    </tr>\n",
       "    <tr>\n",
       "      <td>3</td>\n",
       "      <td>service.gov.uk</td>\n",
       "      <td>service</td>\n",
       "      <td>False</td>\n",
       "      <td>0.0</td>\n",
       "      <td>0.0</td>\n",
       "      <td>No Phone Number</td>\n",
       "    </tr>\n",
       "    <tr>\n",
       "      <td>4</td>\n",
       "      <td>jamesthesweep.co.uk</td>\n",
       "      <td>jamesthesweep</td>\n",
       "      <td>True</td>\n",
       "      <td>4.3</td>\n",
       "      <td>8.0</td>\n",
       "      <td>01892548399</td>\n",
       "    </tr>\n",
       "    <tr>\n",
       "      <td>...</td>\n",
       "      <td>...</td>\n",
       "      <td>...</td>\n",
       "      <td>...</td>\n",
       "      <td>...</td>\n",
       "      <td>...</td>\n",
       "      <td>...</td>\n",
       "    </tr>\n",
       "    <tr>\n",
       "      <td>710</td>\n",
       "      <td>thebigplantnursery.com</td>\n",
       "      <td>thebigplantnursery</td>\n",
       "      <td>True</td>\n",
       "      <td>4.9</td>\n",
       "      <td>7.0</td>\n",
       "      <td>01189341757</td>\n",
       "    </tr>\n",
       "    <tr>\n",
       "      <td>711</td>\n",
       "      <td>conkersgc.co.uk</td>\n",
       "      <td>conkersgc</td>\n",
       "      <td>True</td>\n",
       "      <td>4.1</td>\n",
       "      <td>4.0</td>\n",
       "      <td>01256840515</td>\n",
       "    </tr>\n",
       "    <tr>\n",
       "      <td>712</td>\n",
       "      <td>haddenhamgardencentre.co.uk</td>\n",
       "      <td>haddenhamgardencentre</td>\n",
       "      <td>True</td>\n",
       "      <td>3.9</td>\n",
       "      <td>6.0</td>\n",
       "      <td>01844290395</td>\n",
       "    </tr>\n",
       "    <tr>\n",
       "      <td>713</td>\n",
       "      <td>thompsons-plants.co.uk</td>\n",
       "      <td>thompsons-plants</td>\n",
       "      <td>False</td>\n",
       "      <td>0.0</td>\n",
       "      <td>0.0</td>\n",
       "      <td>No Phone Number</td>\n",
       "    </tr>\n",
       "    <tr>\n",
       "      <td>714</td>\n",
       "      <td>forest-lodge.co.uk</td>\n",
       "      <td>forest-lodge</td>\n",
       "      <td>False</td>\n",
       "      <td>0.0</td>\n",
       "      <td>0.0</td>\n",
       "      <td>No Phone Number</td>\n",
       "    </tr>\n",
       "  </tbody>\n",
       "</table>\n",
       "<p>715 rows × 6 columns</p>\n",
       "</div>"
      ],
      "text/plain": [
       "                        website_url                   keyword  \\\n",
       "0                readingsweep.co.uk              readingsweep   \n",
       "1                     acsweep.co.uk                   acsweep   \n",
       "2    lockchimneysweepsreading.co.uk  lockchimneysweepsreading   \n",
       "3                    service.gov.uk                   service   \n",
       "4               jamesthesweep.co.uk             jamesthesweep   \n",
       "..                              ...                       ...   \n",
       "710          thebigplantnursery.com        thebigplantnursery   \n",
       "711                 conkersgc.co.uk                 conkersgc   \n",
       "712     haddenhamgardencentre.co.uk     haddenhamgardencentre   \n",
       "713          thompsons-plants.co.uk          thompsons-plants   \n",
       "714              forest-lodge.co.uk              forest-lodge   \n",
       "\n",
       "     knowledge_panel_boolean  review_score  review_count     phone_number  \n",
       "0                       True           4.5           8.0      01189670288  \n",
       "1                       True           5.0           2.0      07909044794  \n",
       "2                       True           3.9           7.0      01189429138  \n",
       "3                      False           0.0           0.0  No Phone Number  \n",
       "4                       True           4.3           8.0      01892548399  \n",
       "..                       ...           ...           ...              ...  \n",
       "710                     True           4.9           7.0      01189341757  \n",
       "711                     True           4.1           4.0      01256840515  \n",
       "712                     True           3.9           6.0      01844290395  \n",
       "713                    False           0.0           0.0  No Phone Number  \n",
       "714                    False           0.0           0.0  No Phone Number  \n",
       "\n",
       "[715 rows x 6 columns]"
      ]
     },
     "execution_count": 164,
     "metadata": {},
     "output_type": "execute_result"
    }
   ],
   "source": [
    "pd.read_csv('data_for_liam.csv', delimiter=' ', names = ['website_url','keyword','knowledge_panel_boolean','review_score','review_count','phone_number'])"
   ]
  },
  {
   "cell_type": "code",
   "execution_count": null,
   "metadata": {},
   "outputs": [],
   "source": []
  }
 ],
 "metadata": {
  "kernelspec": {
   "display_name": "Python 3",
   "language": "python",
   "name": "python3"
  },
  "language_info": {
   "codemirror_mode": {
    "name": "ipython",
    "version": 3
   },
   "file_extension": ".py",
   "mimetype": "text/x-python",
   "name": "python",
   "nbconvert_exporter": "python",
   "pygments_lexer": "ipython3",
   "version": "3.7.4"
  }
 },
 "nbformat": 4,
 "nbformat_minor": 2
}
